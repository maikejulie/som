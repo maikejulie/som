{
 "metadata": {
  "name": "",
  "signature": "sha256:85d511a52e118992e57d55243425aa152bd1205ff573aa46e1c5320d1133b007"
 },
 "nbformat": 3,
 "nbformat_minor": 0,
 "worksheets": [
  {
   "cells": [
    {
     "cell_type": "code",
     "collapsed": false,
     "input": [
      "from minisom import MiniSom\n",
      "import random as r\n",
      "import copy as cop\n",
      "import os\n",
      "import numpy as np\n",
      "\n",
      "from glob import glob\n",
      "# import matplotlib as plt\n",
      "\n",
      "\n",
      "%pylab inline\n"
     ],
     "language": "python",
     "metadata": {},
     "outputs": [
      {
       "output_type": "stream",
       "stream": "stdout",
       "text": [
        "Populating the interactive namespace from numpy and matplotlib\n"
       ]
      },
      {
       "output_type": "stream",
       "stream": "stderr",
       "text": [
        "WARNING: pylab import has clobbered these variables: ['mod']\n",
        "`%matplotlib` prevents importing * from pylab and numpy\n"
       ]
      }
     ],
     "prompt_number": 26
    },
    {
     "cell_type": "code",
     "collapsed": false,
     "input": [
      "class SOM:\n",
      "    def pertWeights( self, scale=.2 ):     \n",
      "        print( 'Adding noise to SOM weights')\n",
      "        pertAmount = scale*(np.random.random_sample( self.som.weights.shape)-.5)\n",
      "        self.som.weights = self.som.weights + pertAmount\n",
      "    \n",
      "    def pertData( self, p=.2):\n",
      "        print( 'Making %f percent of inputs 0.5' %(p*100))\n",
      "        # randomly get proportion of indices to switch, then replace\n",
      "        noiseIndex = np.random.binomial(1,p, self.data.shape)  #ones at p proportion of samples\n",
      "        self.data[noiseIndex ==1 ] = .5\n",
      "        return data\n",
      "    \n",
      "    # plot the thing\n",
      "    def show( self):\n",
      "        print( 'Training exemplar projection')\n",
      "        som = self.som\n",
      "        data= self.data\n",
      "        target = self.target\n",
      "        bone()\n",
      "        pcolor(som.distance_map().T) # plotting the distance map as background\n",
      "        colorbar()\n",
      "        t = zeros(len(target),dtype=int)\n",
      "        t[target == 'A'] = 0\n",
      "        t[target == 'B'] = 1\n",
      "        # use different colors and markers for each label\n",
      "        markers = ['o','s','D']\n",
      "        colors = ['r','g','b']\n",
      "        for cnt,xx in enumerate(data):\n",
      "            w = som.winner(xx) # getting the winner\n",
      "            # palce a marker on the winning position for the sample xx\n",
      "            plot(w[0]+.5,w[1]+.5,markers[t[cnt]],markerfacecolor='None',\n",
      "                markeredgecolor=colors[t[cnt]],markersize=12,markeredgewidth=2)\n",
      "        axis([0,som.weights.shape[0],0,som.weights.shape[1]])\n",
      "        show() # show the figure\n",
      "        \n",
      "    def showIdeal( self):\n",
      "        print( 'Ideal exemplar projection')\n",
      "        som = self.som\n",
      "        data= self.ideal\n",
      "        target = self.idealTarget\n",
      "        bone()\n",
      "        pcolor(som.distance_map().T) # plotting the distance map as background\n",
      "        colorbar()\n",
      "        t = zeros(len(target),dtype=int)\n",
      "        t[target == 'A'] = 0\n",
      "        t[target == 'B'] = 1\n",
      "        # use different colors and markers for each label\n",
      "        markers = ['o','s','D']\n",
      "        colors = ['r','g','b']\n",
      "        for cnt,xx in enumerate(data):\n",
      "            w = som.winner(xx) # getting the winner\n",
      "            # palce a marker on the winning position for the sample xx\n",
      "            plot(w[0]+.5,w[1]+.5,markers[t[cnt]],markerfacecolor='None',\n",
      "                markeredgecolor=colors[t[cnt]],markersize=12,markeredgewidth=2)\n",
      "        axis([0,som.weights.shape[0],0,som.weights.shape[1]])\n",
      "        show() # show the figure        \n",
      "        \n",
      "    def train(self, iters = 30):\n",
      "        self.som.train_random(self.data,iters)\n",
      "#         print( 'Post training quantization error: %f' % self.som.quantization_error(self.data))\n",
      "\n",
      "    \"\"\"def trainOneGliozzi(self):\n",
      "        # using gliozzi thing\n",
      "        # init learning params\n",
      "        self.som.sigma_gliozzi = linspace(1.2, 0.8, num=len(self.data))\n",
      "        self.som._init_T(len(self.data))   \n",
      "        \n",
      "        #  will use the data idx to slowly reduce sigma, and learning rate in update function\n",
      "        self.som.update_gliozzi(self.data[self.som.dataIdx],self.som.winner(self.data[self.som.dataIdx]), self.som.dataIdx)\n",
      "\n",
      "        # update training index (for next time)\n",
      "        self.som.dataIdx += 1\n",
      "        if self.som.dataIdx >= len(self.data):\n",
      "            self.som.dataIdx = 0 \n",
      "    \"\"\"\n",
      "    \n",
      "    def trainOne(self ):\n",
      "        \"\"\" Trains the SOM picking samples from data one at a time \"\"\"\n",
      "        #self.running = True        \n",
      "        d = self.som.dataIdx  # data index to train\n",
      "        self.som._init_T(len(self.data))      \n",
      "        self.som.update( self.data[d], self.som.winner(self.data[d]), d)  # update\n",
      "        #self.running = False\n",
      "        \n",
      "        # update training index (for next time)\n",
      "        self.som.dataIdx += 1\n",
      "        if self.som.dataIdx >= len(self.data):\n",
      "            self.som.dataIdx = 0        \n",
      "\n",
      "\n",
      "    def separation( self):\n",
      "        \"\"\"return the norm of the difference vector between the mean of projected idealized class\n",
      "            A exemplars, and class B exemplars.  Essentially, the separation between those classes \n",
      "            May need to include a variance normalization in future. \"\"\"\n",
      "        A =  self.ideal[ self.idealTarget=='A']\n",
      "        B =  self.ideal[ self.idealTarget=='B']\n",
      "        projA = numpy.empty(A.shape) * numpy.nan\n",
      "        projB = numpy.empty(B.shape) * numpy.nan\n",
      "        # go through all catA\n",
      "        for idx,x in enumerate(A):\n",
      "            projA[idx] = mod.som.weights[mod.som.winner(x)]\n",
      "        for idx,x in enumerate(B):\n",
      "            projB[idx] = mod.som.weights[mod.som.winner(x)]\n",
      "        diff = linalg.norm(projA.mean(axis=0)-projB.mean(axis=0) ) \n",
      "        \n",
      "        # pooled variance estimate (not standard, since using average variance across dimensions for a class)\n",
      "        pVar = pVar = (projA.var(axis=0).mean() + projB.var(axis=0).mean() )/2  \n",
      "        \n",
      "        return diff/np.sqrt( pVar)\n",
      "    \n",
      "    \n",
      "\n",
      "    #-------------------------------------------------\n",
      "    \n",
      "    def __init__(self, file_name='4750.csv', columns = [0,1,2,3,4,5,6,7], width = 7, height = 6, sigma=1.2,  learning_rate=0.5 ):\n",
      "        \n",
      "        #       self.visual_only = [0,1,2,3,4,5,6,7]\n",
      "        #       self.visual_and_acoustic = [0,1,2,3,4,5,6,7,8]\n",
      "\n",
      "        # load data and normalization\n",
      "        self.data = np.genfromtxt( file_name, delimiter=',',usecols=columns, skip_header=1)        \n",
      "        self.data *= 2.0 \n",
      "        self.data += -1.0  # -0.5 \n",
      "        # get target labels\n",
      "        self.target = genfromtxt(file_name,delimiter=',',usecols=(9),dtype=str, skip_header=1) # loading the labels\n",
      "        #get infant accuracy\n",
      "        self.acc = genfromtxt(file_name,delimiter=',',usecols=(10),dtype=float, skip_header=1) \n",
      "        \n",
      "        # init som\n",
      "        self.som = MiniSom(width, height, self.data.shape[1], sigma=sigma,learning_rate=learning_rate)\n",
      "        self.som.random_weights_init(self.data)\n",
      "        self.som.dataIdx = 0 # to index what data sample for one shot learning\n",
      "        \n",
      "        # get idealized data\n",
      "        self.ideal = np.genfromtxt( 'stimuli.csv', delimiter=',',usecols=columns, skip_header=1) \n",
      "        self.ideal *= 2.0 \n",
      "        self.ideal += -1.0  # -0.5 \n",
      "        self.idealTarget = genfromtxt('stimuli.csv',delimiter=',',usecols=(9),dtype=str, skip_header=1) # loading the labels\n",
      "               \n",
      "        \n",
      "#------------------------------------------------------------------\n",
      "\n",
      "# def getIdeal( file_name='stimuli.csv', columns = [0,1,2,3,4,5,6,7]): \n",
      "#     # return the ideal data for checking quantization error\n",
      "#     data = np.genfromtxt( file_name, delimiter=',',usecols=columns, skip_header=1)     \n",
      "#     return ( data[:7,:], data[7:,:] )\n",
      "\n"
     ],
     "language": "python",
     "metadata": {},
     "outputs": [],
     "prompt_number": 114
    },
    {
     "cell_type": "code",
     "collapsed": false,
     "input": [
      "# init som\n",
      "mod = SOM( '4750.csv', learning_rate=0.5 ) "
     ],
     "language": "python",
     "metadata": {},
     "outputs": [],
     "prompt_number": 220
    },
    {
     "cell_type": "code",
     "collapsed": false,
     "input": [
      "# train incrementally\n",
      "mod.trainOne()\n",
      "# mod.trainOneGliozzi()\n",
      "mod.show()\n",
      "print mod.som.dataIdx\n",
      "\n",
      "# mod.showIdeal()\n"
     ],
     "language": "python",
     "metadata": {},
     "outputs": [
      {
       "output_type": "stream",
       "stream": "stdout",
       "text": [
        "Training exemplar projection\n"
       ]
      },
      {
       "metadata": {},
       "output_type": "display_data",
       "png": "[encoded data removed]",
       "text": [
        "<matplotlib.figure.Figure at 0x4889dd0>"
       ]
      },
      {
       "output_type": "stream",
       "stream": "stdout",
       "text": [
        "17\n"
       ]
      }
     ],
     "prompt_number": 237
    },
    {
     "cell_type": "code",
     "collapsed": false,
     "input": [
      "# how to use\n",
      "# fileDir = '../../KARS_reinf/Python/FeatSeenBySub/'\n",
      "\n",
      "mod = SOM( '4750.csv', learning_rate=0.3 ) #fileDir+'4760.csv')\n",
      "mod.train(20)\n",
      "# mod.trainOneGliozzi()\n",
      "mod.show()\n",
      "\n",
      "# print( 'SOM with infant exemplars')\n",
      "mod.showIdeal()\n",
      "mod.separation()\n",
      "\n",
      "print mod.acc\n",
      "print nanmean( mod.acc)\n"
     ],
     "language": "python",
     "metadata": {},
     "outputs": [
      {
       "output_type": "stream",
       "stream": "stdout",
       "text": [
        "Training exemplar projection\n"
       ]
      },
      {
       "metadata": {},
       "output_type": "display_data",
       "png": "[encoded data removed]",
       "text": [
        "<matplotlib.figure.Figure at 0x474e890>"
       ]
      },
      {
       "output_type": "stream",
       "stream": "stdout",
       "text": [
        "Ideal exemplar projection\n"
       ]
      },
      {
       "metadata": {},
       "output_type": "display_data",
       "png": "[encoded data removed]",
       "text": [
        "<matplotlib.figure.Figure at 0x474e050>"
       ]
      },
      {
       "output_type": "stream",
       "stream": "stdout",
       "text": [
        "[  1.   1.   1.  nan   0.  nan   1.   1.   1.  nan   1.   0.   1.  nan   1.\n",
        "   0.   1.  nan]\n",
        "0.769230769231\n"
       ]
      }
     ],
     "prompt_number": 86
    },
    {
     "cell_type": "code",
     "collapsed": false,
     "input": [
      "mod.ideal"
     ],
     "language": "python",
     "metadata": {},
     "outputs": [
      {
       "metadata": {},
       "output_type": "pyout",
       "prompt_number": 11,
       "text": [
        "array([[-1.,  1.,  1.,  1.,  1.,  1.,  1.,  1.],\n",
        "       [ 1., -1.,  1.,  1.,  1.,  1.,  1.,  1.],\n",
        "       [ 1.,  1., -1.,  1.,  1.,  1.,  1.,  1.],\n",
        "       [ 1.,  1.,  1., -1.,  1.,  1.,  1.,  1.],\n",
        "       [ 1.,  1.,  1.,  1., -1.,  1.,  1.,  1.],\n",
        "       [ 1.,  1.,  1.,  1.,  1., -1.,  1.,  1.],\n",
        "       [ 1.,  1.,  1.,  1.,  1.,  1.,  1.,  1.],\n",
        "       [-1., -1., -1., -1., -1., -1., -1., -1.],\n",
        "       [-1., -1., -1., -1., -1.,  1., -1., -1.],\n",
        "       [-1., -1., -1., -1.,  1., -1., -1., -1.],\n",
        "       [-1., -1., -1.,  1., -1., -1., -1., -1.],\n",
        "       [-1., -1.,  1., -1., -1., -1., -1., -1.],\n",
        "       [-1.,  1., -1., -1., -1., -1., -1., -1.],\n",
        "       [ 1., -1., -1., -1., -1., -1., -1., -1.]])"
       ]
      }
     ],
     "prompt_number": 11
    },
    {
     "cell_type": "code",
     "collapsed": false,
     "input": [
      "# run the model fitting N times\n",
      "N = 20\n",
      "sepList = np.arange(N,dtype=float)\n",
      "for i1 in range(N):\n",
      "    mod = SOM('4750.csv')\n",
      "    mod.train(20)\n",
      "    sepList[i1] = mod.separation()\n",
      "\n",
      "sepList.mean()\n",
      "# mod.show()\n",
      "# mod.showIdeal()\n"
     ],
     "language": "python",
     "metadata": {},
     "outputs": [
      {
       "metadata": {},
       "output_type": "pyout",
       "prompt_number": 165,
       "text": [
        "9.163101859609899"
       ]
      }
     ],
     "prompt_number": 165
    },
    {
     "cell_type": "code",
     "collapsed": false,
     "input": [],
     "language": "python",
     "metadata": {},
     "outputs": [],
     "prompt_number": 165
    },
    {
     "cell_type": "code",
     "collapsed": false,
     "input": [
      "# loop through files and train up SOMs, measure class separation\n",
      "fileDir = '../../KARS_reinf/Python/FeatSeenBySub/'\n",
      "resultFile = 'catSeparation.txt'\n",
      "fOut = open(resultFile, 'w')\n",
      "fOut.write( 'subID\\tcatSep\\n')\n",
      "\n",
      "\n",
      "files= glob( fileDir+'*.csv')\n",
      "N = 50 # number models to generate per participant\n",
      "iters = 30 # number training iterations\n",
      "\n",
      "for f in files:\n",
      "    participant = f.split('/')[-1].split('.')[0]\n",
      "    sepList = np.arange(N,dtype=float) # init list\n",
      "    for i1 in range(N):            \n",
      "        mod = SOM( f)\n",
      "        mod.train(iters)\n",
      "        sepList[i1] = mod.separation()\n",
      "    # output result\n",
      "    fOut.write( '%s\\t%.4f\\n'%(participant, sepList.mean()) )\n",
      "    print( 'Participant %s, Category separation: %.3f' % (participant, sepList.mean()) )\n",
      "\n",
      "    \n",
      "fOut.close()"
     ],
     "language": "python",
     "metadata": {},
     "outputs": [
      {
       "output_type": "stream",
       "stream": "stdout",
       "text": [
        "Participant 4778, Category separation: 10.152\n",
        "Participant 4749, Category separation: 10.548"
       ]
      },
      {
       "output_type": "stream",
       "stream": "stdout",
       "text": [
        "\n",
        "Participant 4750, Category separation: 9.113"
       ]
      },
      {
       "output_type": "stream",
       "stream": "stdout",
       "text": [
        "\n",
        "Participant 4756, Category separation: 10.424"
       ]
      },
      {
       "output_type": "stream",
       "stream": "stdout",
       "text": [
        "\n",
        "Participant 4757, Category separation: 9.398"
       ]
      },
      {
       "output_type": "stream",
       "stream": "stdout",
       "text": [
        "\n",
        "Participant 4758, Category separation: 13.234"
       ]
      },
      {
       "output_type": "stream",
       "stream": "stdout",
       "text": [
        "\n",
        "Participant 4759, Category separation: 10.597"
       ]
      },
      {
       "output_type": "stream",
       "stream": "stdout",
       "text": [
        "\n",
        "Participant 4760, Category separation: 0.000"
       ]
      },
      {
       "output_type": "stream",
       "stream": "stdout",
       "text": [
        "\n",
        "Participant 4761, Category separation: 10.639"
       ]
      },
      {
       "output_type": "stream",
       "stream": "stdout",
       "text": [
        "\n",
        "Participant 4764, Category separation: 10.541"
       ]
      },
      {
       "output_type": "stream",
       "stream": "stdout",
       "text": [
        "\n",
        "Participant 4765, Category separation: 10.173"
       ]
      },
      {
       "output_type": "stream",
       "stream": "stdout",
       "text": [
        "\n",
        "Participant 4768, Category separation: 10.330"
       ]
      },
      {
       "output_type": "stream",
       "stream": "stdout",
       "text": [
        "\n",
        "Participant 4769, Category separation: 10.500"
       ]
      },
      {
       "output_type": "stream",
       "stream": "stdout",
       "text": [
        "\n",
        "Participant 4770, Category separation: 14.524"
       ]
      },
      {
       "output_type": "stream",
       "stream": "stdout",
       "text": [
        "\n",
        "Participant 4771, Category separation: 14.466"
       ]
      },
      {
       "output_type": "stream",
       "stream": "stdout",
       "text": [
        "\n",
        "Participant 4773, Category separation: 8.166"
       ]
      },
      {
       "output_type": "stream",
       "stream": "stdout",
       "text": [
        "\n",
        "Participant 4776, Category separation: 9.118"
       ]
      },
      {
       "output_type": "stream",
       "stream": "stdout",
       "text": [
        "\n",
        "Participant 4777, Category separation: 10.683"
       ]
      },
      {
       "output_type": "stream",
       "stream": "stdout",
       "text": [
        "\n",
        "Participant 4781, Category separation: 15.649"
       ]
      },
      {
       "output_type": "stream",
       "stream": "stdout",
       "text": [
        "\n",
        "Participant 4786, Category separation: 9.974"
       ]
      },
      {
       "output_type": "stream",
       "stream": "stdout",
       "text": [
        "\n",
        "Participant 4787, Category separation: 9.724"
       ]
      },
      {
       "output_type": "stream",
       "stream": "stdout",
       "text": [
        "\n",
        "Participant 4788, Category separation: 10.529"
       ]
      },
      {
       "output_type": "stream",
       "stream": "stdout",
       "text": [
        "\n",
        "Participant 4789, Category separation: 8.711"
       ]
      },
      {
       "output_type": "stream",
       "stream": "stdout",
       "text": [
        "\n",
        "Participant 4792, Category separation: 11.558"
       ]
      },
      {
       "output_type": "stream",
       "stream": "stdout",
       "text": [
        "\n",
        "Participant 4793, Category separation: 11.302"
       ]
      },
      {
       "output_type": "stream",
       "stream": "stdout",
       "text": [
        "\n",
        "Participant 4794, Category separation: 9.340"
       ]
      },
      {
       "output_type": "stream",
       "stream": "stdout",
       "text": [
        "\n",
        "Participant 4796, Category separation: 9.998"
       ]
      },
      {
       "output_type": "stream",
       "stream": "stdout",
       "text": [
        "\n",
        "Participant 4799, Category separation: 9.744"
       ]
      },
      {
       "output_type": "stream",
       "stream": "stdout",
       "text": [
        "\n",
        "Participant 4801, Category separation: 13.223"
       ]
      },
      {
       "output_type": "stream",
       "stream": "stdout",
       "text": [
        "\n",
        "Participant 4802, Category separation: 9.386"
       ]
      },
      {
       "output_type": "stream",
       "stream": "stdout",
       "text": [
        "\n",
        "Participant 4803, Category separation: 7.208"
       ]
      },
      {
       "output_type": "stream",
       "stream": "stdout",
       "text": [
        "\n",
        "Participant 4804, Category separation: 11.756"
       ]
      },
      {
       "output_type": "stream",
       "stream": "stdout",
       "text": [
        "\n",
        "Participant 4807, Category separation: 11.993"
       ]
      },
      {
       "output_type": "stream",
       "stream": "stdout",
       "text": [
        "\n",
        "Participant 4808, Category separation: 10.867"
       ]
      },
      {
       "output_type": "stream",
       "stream": "stdout",
       "text": [
        "\n",
        "Participant 4809, Category separation: 12.321"
       ]
      },
      {
       "output_type": "stream",
       "stream": "stdout",
       "text": [
        "\n"
       ]
      }
     ],
     "prompt_number": 181
    },
    {
     "cell_type": "code",
     "collapsed": false,
     "input": [
      "# f"
     ],
     "language": "python",
     "metadata": {},
     "outputs": [
      {
       "metadata": {},
       "output_type": "pyout",
       "prompt_number": 136,
       "text": [
        "'../../KARS_reinf/Python/FeatSeenBySub/4809.csv'"
       ]
      }
     ],
     "prompt_number": 136
    },
    {
     "cell_type": "code",
     "collapsed": false,
     "input": [
      " cat catSeparation.txt"
     ],
     "language": "python",
     "metadata": {},
     "outputs": [
      {
       "output_type": "stream",
       "stream": "stdout",
       "text": [
        "subID\tcatSep\r\n",
        "4778\t10.1521\r\n",
        "4749\t10.5477\r\n",
        "4750\t9.1129\r\n",
        "4756\t10.4242\r\n",
        "4757\t9.3979\r\n",
        "4758\t13.2335\r\n",
        "4759\t10.5973\r\n",
        "4760\t0.0000\r\n",
        "4761\t10.6394\r\n",
        "4764\t10.5411\r\n",
        "4765\t10.1726\r\n",
        "4768\t10.3299\r\n",
        "4769\t10.4998\r\n",
        "4770\t14.5236\r\n",
        "4771\t14.4665\r\n",
        "4773\t8.1659\r\n",
        "4776\t9.1175\r\n",
        "4777\t10.6832\r\n",
        "4781\t15.6489\r\n",
        "4786\t9.9735\r\n",
        "4787\t9.7236\r\n",
        "4788\t10.5286\r\n",
        "4789\t8.7107\r\n",
        "4792\t11.5585\r\n",
        "4793\t11.3021\r\n",
        "4794\t9.3402\r\n",
        "4796\t9.9977\r\n",
        "4799\t9.7441\r\n",
        "4801\t13.2225\r\n",
        "4802\t9.3857\r\n",
        "4803\t7.2081\r\n",
        "4804\t11.7557\r\n",
        "4807\t11.9934\r\n",
        "4808\t10.8666\r\n",
        "4809\t12.3213\r\n"
       ]
      }
     ],
     "prompt_number": 182
    },
    {
     "cell_type": "code",
     "collapsed": false,
     "input": [],
     "language": "python",
     "metadata": {},
     "outputs": []
    }
   ],
   "metadata": {}
  }
 ]
}