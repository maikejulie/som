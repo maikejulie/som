{
 "metadata": {
  "name": "",
  "signature": "sha256:5816e901309494f12e7a7690db5e225c49bc6c7a02b3b1f5a9ff385a12380727"
 },
 "nbformat": 3,
 "nbformat_minor": 0,
 "worksheets": [
  {
   "cells": [
    {
     "cell_type": "code",
     "collapsed": false,
     "input": [
      "from minisom import MiniSom\n",
      "import random as r\n",
      "import copy as cop\n",
      "import os\n",
      "import numpy as np\n",
      "\n",
      "from glob import glob\n",
      "# import matplotlib as plt\n",
      "\n",
      "\n",
      "%pylab inline\n"
     ],
     "language": "python",
     "metadata": {},
     "outputs": [
      {
       "output_type": "stream",
       "stream": "stdout",
       "text": [
        "Populating the interactive namespace from numpy and matplotlib\n"
       ]
      }
     ],
     "prompt_number": 1
    },
    {
     "cell_type": "code",
     "collapsed": false,
     "input": [
      "class SOM:\n",
      "    def pertWeights( self, scale=.2 ):     \n",
      "        print( 'Adding noise to SOM weights')\n",
      "        pertAmount = scale*(np.random.random_sample( self.som.weights.shape)-.5)\n",
      "        self.som.weights = self.som.weights + pertAmount\n",
      "    \n",
      "    def pertData( self, p=.2):\n",
      "        print( 'Making %f percent of inputs 0.5' %(p*100))\n",
      "        # randomly get proportion of indices to switch, then replace\n",
      "        noiseIndex = np.random.binomial(1,p, self.data.shape)  #ones at p proportion of samples\n",
      "        self.data[noiseIndex ==1 ] = .5\n",
      "        return data\n",
      "    \n",
      "    # plot the thing\n",
      "    def show( self, maxIdx=None):\n",
      "        print( 'Training exemplar projection')\n",
      "        som = self.som\n",
      "        if maxIdx == None:\n",
      "            maxIdx = len(self.data)\n",
      "        data= self.data[0:maxIdx]\n",
      "        target = self.target\n",
      "        bone()\n",
      "        pcolor(som.distance_map().T) # plotting the distance map as background\n",
      "        colorbar()\n",
      "        t = zeros(len(target),dtype=int)\n",
      "        t[target == 'A'] = 0\n",
      "        t[target == 'B'] = 1\n",
      "        # use different colors and markers for each label\n",
      "        markers = ['o','s','D']\n",
      "        colors = ['r','g','b']\n",
      "        for cnt,xx in enumerate(data):\n",
      "            w = som.winner(xx) # getting the winner\n",
      "            # palce a marker on the winning position for the sample xx\n",
      "            plot(w[0]+.5,w[1]+.5,markers[t[cnt]],markerfacecolor='None',\n",
      "                markeredgecolor=colors[t[cnt]],markersize=12,markeredgewidth=2)\n",
      "        axis([0,som.weights.shape[0],0,som.weights.shape[1]])\n",
      "        show() # show the figure\n",
      "        \n",
      "    def showIdeal( self):\n",
      "        print( 'Ideal exemplar projection')\n",
      "        som = self.som\n",
      "        data= self.ideal\n",
      "        target = self.idealTarget\n",
      "        bone()\n",
      "        pcolor(som.distance_map().T) # plotting the distance map as background\n",
      "        colorbar()\n",
      "        t = zeros(len(target),dtype=int)\n",
      "        t[target == 'A'] = 0\n",
      "        t[target == 'B'] = 1\n",
      "        # use different colors and markers for each label\n",
      "        markers = ['o','s','D']\n",
      "        colors = ['r','g','b']\n",
      "        for cnt,xx in enumerate(data):\n",
      "            w = som.winner(xx) # getting the winner\n",
      "            # palce a marker on the winning position for the sample xx\n",
      "            plot(w[0]+.5,w[1]+.5,markers[t[cnt]],markerfacecolor='None',\n",
      "                markeredgecolor=colors[t[cnt]],markersize=12,markeredgewidth=2)\n",
      "        axis([0,som.weights.shape[0],0,som.weights.shape[1]])\n",
      "        show() # show the figure        \n",
      "        \n",
      "    def train(self, iters = 30):\n",
      "        self.som.train_random(self.data,iters)\n",
      "#         print( 'Post training quantization error: %f' % self.som.quantization_error(self.data))\n",
      "\n",
      "    \"\"\"def trainOneGliozzi(self):\n",
      "        # using gliozzi thing\n",
      "        # init learning params\n",
      "        self.som.sigma_gliozzi = linspace(1.2, 0.8, num=len(self.data))\n",
      "        self.som._init_T(len(self.data))   \n",
      "        \n",
      "        #  will use the data idx to slowly reduce sigma, and learning rate in update function\n",
      "        self.som.update_gliozzi(self.data[self.dataIdx],self.som.winner(self.data[self.som.dataIdx]), self.som.dataIdx)\n",
      "\n",
      "        # update training index (for next time)\n",
      "        self.dataIdx += 1\n",
      "        if self.dataIdx >= len(self.data):\n",
      "            self.dataIdx = 0 \n",
      "    \"\"\"\n",
      "    \n",
      "    def trainOne(self ):\n",
      "        \"\"\" Trains the SOM picking samples from data one at a time \"\"\"\n",
      "        #self.running = True        \n",
      "        d = self.dataIdx  # data index to train\n",
      "        self.som._init_T(len(self.data))      \n",
      "        self.som.update( self.data[d], self.som.winner(self.data[d]), d)  # update\n",
      "        #self.running = False\n",
      "        \n",
      "        # update training index (for next time)\n",
      "        self.dataIdx += 1\n",
      "        if self.dataIdx >= len(self.data):\n",
      "            self.dataIdx = 0        \n",
      "\n",
      "    def predOne(self, verbose=False):\n",
      "        # Do the next one prediction\n",
      "        \n",
      "        # get BMU index and weight \n",
      "        bmuIdx = self.som.winner(self.data[self.dataIdx])\n",
      "        bmuW = self.som.weights[bmuIdx]\n",
      "        protDist = []\n",
      "        for idx in mod.protIdx :\n",
      "            protDist.append( norm( bmuW-self.ideal[ idx ]))  # find distance to all prototypes\n",
      "        \n",
      "            \n",
      "        predLab = self.idealTarget[ argmin( protDist ) ]  # nearest category\n",
      "        trueLab = self.target[self.dataIdx]\n",
      "        somAcc = (1 if predLab == trueLab else 0 )\n",
      "        childAcc = self.acc[self.dataIdx ]\n",
      "        if verbose:\n",
      "            print( 'Predicted/True Label: %s/%s.  SOM/Child Acc=%.0f/%.0f' % (  predLab, trueLab, somAcc, childAcc)  )\n",
      "        return ( somAcc, childAcc ) \n",
      "\n",
      "    def predAll(self, reset = True, skip =0, verbose= True ):\n",
      "        # initialize som weights, and data index if reset=True\n",
      "        if reset:\n",
      "            self.som.random_weights_init(self.data)\n",
      "            self.dataIdx = 0 # to index what data sample for one shot learning\n",
      "            \n",
      "        # init for storing results\n",
      "        somAccList = np.zeros(len(self.data))*np.nan\n",
      "        childAccList = np.zeros(len(self.data))*np.nan\n",
      "\n",
      "        for idx in range(len(self.data)):          \n",
      "            #predict\n",
      "            somAcc, childAcc = self.predOne()\n",
      "            somAccList[idx] = somAcc    \n",
      "            childAccList[idx] = childAcc\n",
      "            # train\n",
      "            self.trainOne()  #  don't use mod.trainOneGliozzi()\n",
      "\n",
      "        # deal with missing values and skip first if requested\n",
      "        somAccList = somAccList[skip:]  # kick out first skip samples\n",
      "        childAccList = childAccList[skip:] # kick out first skip samples        \n",
      "        somAccList = somAccList[ ~isnan(childAccList)]\n",
      "        childAccList = childAccList[ ~isnan(childAccList)]\n",
      "\n",
      "        # get how well model does\n",
      "        if len(somAccList) >0:\n",
      "            scAgreement = float(np.sum( somAccList==childAccList))/len(somAccList)\n",
      "        else:\n",
      "            scAgreement = np.nan\n",
      "            \n",
      "        if verbose:\n",
      "            print 'SOM acc: ', somAccList\n",
      "            print 'Inf acc: ', childAccList            \n",
      "            print('SOM and infant agree %.2f of time' % scAgreement )\n",
      "        return somAccList == childAccList\n",
      "\n",
      "    \n",
      "    \n",
      "    def separation( self):\n",
      "        \"\"\"return the norm of the difference vector between the mean of projected idealized class\n",
      "            A exemplars, and class B exemplars.  Essentially, the separation between those classes \n",
      "            May need to include a variance normalization in future. \"\"\"\n",
      "        A =  self.ideal[ self.idealTarget=='A']\n",
      "        B =  self.ideal[ self.idealTarget=='B']\n",
      "        projA = numpy.empty(A.shape) * numpy.nan\n",
      "        projB = numpy.empty(B.shape) * numpy.nan\n",
      "        # go through all catA\n",
      "        for idx,x in enumerate(A):\n",
      "            projA[idx] = mod.som.weights[mod.som.winner(x)]\n",
      "        for idx,x in enumerate(B):\n",
      "            projB[idx] = mod.som.weights[mod.som.winner(x)]\n",
      "        diff = linalg.norm(projA.mean(axis=0)-projB.mean(axis=0) ) \n",
      "        \n",
      "        # pooled variance estimate (not standard, since using average variance across dimensions for a class)\n",
      "        pVar = pVar = (projA.var(axis=0).mean() + projB.var(axis=0).mean() )/2  \n",
      "        \n",
      "        return diff/np.sqrt( pVar)\n",
      "    \n",
      "    def getProt( self ):\n",
      "        prot = []\n",
      "        label = []\n",
      "        for idx in self.protIdx:\n",
      "            prot.append(self.ideal[idx,:])\n",
      "            label.append(self.idealTarget[idx])\n",
      "        return zip(prot,label )    \n",
      "        \n",
      "    \n",
      "\n",
      "    #-------------------------------------------------\n",
      "    \n",
      "    def __init__(self, file_name='4750.csv', columns = [0,1,2,3,4,5,6,7], width = 6, height = 5, sigma=1.2,  learning_rate=0.5 ):\n",
      "        \n",
      "        #       self.visual_only = [0,1,2,3,4,5,6,7]\n",
      "        #       self.visual_and_acoustic = [0,1,2,3,4,5,6,7,8]\n",
      "\n",
      "        # load data and normalization\n",
      "        self.data = np.genfromtxt( file_name, delimiter=',',usecols=columns, skip_header=1)        \n",
      "        self.data *= 2.0 \n",
      "        self.data += -1.0  # -0.5 \n",
      "        # get target labels\n",
      "        self.target = genfromtxt(file_name,delimiter=',',usecols=(9),dtype=str, skip_header=1) # loading the labels\n",
      "        #get infant accuracy\n",
      "        self.acc = genfromtxt(file_name,delimiter=',',usecols=(10),dtype=float, skip_header=1) \n",
      "        \n",
      "        # init som\n",
      "        self.som = MiniSom(width, height, self.data.shape[1], sigma=sigma,learning_rate=learning_rate)\n",
      "        self.som.random_weights_init(self.data)\n",
      "        self.dataIdx = 0 # to index what data sample for one shot learning\n",
      "        \n",
      "        # get idealized data\n",
      "        self.ideal = np.genfromtxt( 'stimuli.csv', delimiter=',',usecols=columns, skip_header=1) \n",
      "        self.ideal *= 2.0 \n",
      "        self.ideal += -1.0  # -0.5 \n",
      "        self.idealTarget = genfromtxt('stimuli.csv',delimiter=',',usecols=(9),dtype=str, skip_header=1) # loading the labels\n",
      "               \n",
      "        # index of ideal samples that are category prototypes\n",
      "        self.protIdx = np.array([6,7])\n",
      "\n",
      "\n",
      "#------------------------------------------------------------------\n",
      "\n",
      "# def getIdeal( file_name='stimuli.csv', columns = [0,1,2,3,4,5,6,7]): \n",
      "#     # return the ideal data for checking quantization error\n",
      "#     data = np.genfromtxt( file_name, delimiter=',',usecols=columns, skip_header=1)     \n",
      "#     return ( data[:7,:], data[7:,:] )\n",
      "\n"
     ],
     "language": "python",
     "metadata": {},
     "outputs": [],
     "prompt_number": 2
    },
    {
     "cell_type": "code",
     "collapsed": false,
     "input": [
      "# init som\n",
      "mod = SOM( '4750.csv', learning_rate=0.5 ) \n",
      "mod.show()\n",
      "\n",
      "# print mod.ideal[6:8,:]\n",
      "# print mod.idealTarget[6:8]\n",
      "# print mod.target\n"
     ],
     "language": "python",
     "metadata": {},
     "outputs": [
      {
       "output_type": "stream",
       "stream": "stdout",
       "text": [
        "Training exemplar projection\n"
       ]
      },
      {
       "metadata": {},
       "output_type": "display_data",
       "png": "[encoded data removed]",
       "text": [
        "<matplotlib.figure.Figure at 0x102d7fcd0>"
       ]
      }
     ],
     "prompt_number": 3
    },
    {
     "cell_type": "code",
     "collapsed": false,
     "input": [
      "\n",
      "# train incrementally example\n",
      "\n",
      "\n",
      "somAcc, childAcc = mod.predOne()\n",
      "\n",
      "mod.trainOne()  #  don't use mod.trainOneGliozzi()\n",
      "print( 'Iter %d'% mod.dataIdx )\n",
      "mod.show(mod.dataIdx)\n",
      "# mod.showIdeal()  # ideal exemplars on trained map\n",
      "\n"
     ],
     "language": "python",
     "metadata": {},
     "outputs": [
      {
       "output_type": "stream",
       "stream": "stdout",
       "text": [
        "Iter 1\n",
        "Training exemplar projection\n"
       ]
      },
      {
       "metadata": {},
       "output_type": "display_data",
       "png": "[encoded data removed]",
       "text": [
        "<matplotlib.figure.Figure at 0x102d7fe90>"
       ]
      }
     ],
     "prompt_number": 4
    },
    {
     "cell_type": "code",
     "collapsed": false,
     "input": [
      "# train incrementally and store predictions (just testing)\n",
      "\n",
      "# def allFilesPred(  ):\n",
      "fileDir = '../../KARS_reinf/Python/FeatSeenBySub/'\n",
      "files = glob( fileDir + '*.csv') #fileDir+'4760.csv'\n",
      "agVec = np.array([])\n",
      "for idx,f in enumerate(files):\n",
      "    mod = SOM( f, learning_rate=0.3 ) #'4750.csv'\n",
      "    agree =  mod.predAll( verbose=False) \n",
      "    # compile how many times SOM and infant agree\n",
      "    agVec = np.append( agVec, agree)             \n",
      "print( 'SOM and infants agee M+SD: %.2f +- %.2f '% (nanmean( agVec), nanstd(agVec))  )\n",
      "\n"
     ],
     "language": "python",
     "metadata": {},
     "outputs": [
      {
       "output_type": "stream",
       "stream": "stdout",
       "text": [
        "SOM and infants agee M+SD: 0.61 +- 0.49 \n"
       ]
      }
     ],
     "prompt_number": 134
    },
    {
     "cell_type": "code",
     "collapsed": false,
     "input": [
      "# Optimize learning rate to maximize SOM/infant prediction correlation\n",
      "\n",
      "def allFilesPred( x0 ): # learning rate\n",
      "    fileDir = '../../KARS_reinf/Python/FeatSeenBySub/'\n",
      "    files = glob( fileDir + '*.csv') #fileDir+'4760.csv'\n",
      "    agVec = np.array([])\n",
      "    for idx,f in enumerate(files):\n",
      "        mod = SOM( f, learning_rate=x0, sigma=.1 ) # 0.3\n",
      "        agree =  mod.predAll( verbose=True) \n",
      "        # compile how many times SOM and infant agree\n",
      "        agVec = np.append( agVec, agree)             \n",
      "    print( 'SOM and infants agee M+SD: %.2f +- %.2f '% (nanmean( agVec), nanstd(agVec))  )\n",
      "    return nanmean( agVec)\n",
      "\n",
      "   \n",
      "allFilesPred( 1.5) \n",
      "    \n",
      "# x = fmin( "
     ],
     "language": "python",
     "metadata": {},
     "outputs": [
      {
       "output_type": "stream",
       "stream": "stdout",
       "text": [
        "SOM acc:  [ 0.  0.  0.  0.  1.  1.  1.  0.  0.  1.  0.  1.  1.]\n",
        "Inf acc:  [ 1.  0.  0.  0.  1.  1.  0.  1.  1.  1.  0.  1.  1.]\n",
        "SOM and infant agree 0.69 of time\n",
        "SOM acc: "
       ]
      },
      {
       "output_type": "stream",
       "stream": "stdout",
       "text": [
        " [ 1.  1.  1.  0.  1.  1.  1.  1.  0.  1.  1.  0.  1.]\n",
        "Inf acc:  [ 1.  1.  1.  0.  1.  1.  1.  1.  0.  1.  1.  0.  1.]\n",
        "SOM and infant agree 1.00 of time\n",
        "SOM acc: "
       ]
      },
      {
       "output_type": "stream",
       "stream": "stdout",
       "text": [
        " [ 1.  0.  0.  1.  0.  1.  1.  0.  0.]\n",
        "Inf acc:  [ 0.  1.  0.  1.  0.  0.  1.  0.  1.]\n",
        "SOM and infant agree 0.56 of time\n",
        "SOM acc: "
       ]
      },
      {
       "output_type": "stream",
       "stream": "stdout",
       "text": [
        " [ 1.  1.  1.  0.  1.  1.]\n",
        "Inf acc:  [ 0.  0.  0.  1.  0.  1.]\n",
        "SOM and infant agree 0.17 of time\n",
        "SOM acc: "
       ]
      },
      {
       "output_type": "stream",
       "stream": "stdout",
       "text": [
        " [ 1.  1.  1.  1.  1.  1.  1.  0.  0.  1.  0.]\n",
        "Inf acc:  [ 0.  1.  1.  1.  1.  1.  0.  1.  1.  1.  0.]\n",
        "SOM and infant agree 0.64 of time\n",
        "SOM acc:  [ 1.  1.]\n",
        "Inf acc:  [ 1.  0.]"
       ]
      },
      {
       "output_type": "stream",
       "stream": "stdout",
       "text": [
        "\n",
        "SOM and infant agree 0.50 of time\n",
        "SOM acc:  [ 1.  1.]\n",
        "Inf acc:  [ 1.  1.]\n",
        "SOM and infant agree 1.00 of time\n",
        "SOM acc: "
       ]
      },
      {
       "output_type": "stream",
       "stream": "stdout",
       "text": [
        " [ 1.  0.  0.  0.  0.  1.  1.  0.  1.  0.  1.  0.  1.  0.  1.  0.  0.  1.\n",
        "  1.  0.  0.  0.]\n",
        "Inf acc:  [ 1.  0.  0.  0.  0.  1.  1.  0.  1.  0.  1.  0.  1.  0.  1.  0.  0.  1.\n",
        "  1.  0.  1.  0.]\n",
        "SOM and infant agree 0.95 of time\n",
        "SOM acc:  [ 0.  0.  1.  0.  1.  0.]\n",
        "Inf acc:  [ 0.  0.  1.  0.  0.  0.]\n",
        "SOM and infant agree 0.83 of time\n",
        "SOM acc: "
       ]
      },
      {
       "output_type": "stream",
       "stream": "stdout",
       "text": [
        " [ 0.  1.  1.  1.  1.  0.  1.  0.  1.  0.  1.  0.  1.  0.  1.  1.]\n",
        "Inf acc:  [ 1.  1.  0.  1.  0.  0.  1.  0.  1.  1.  0.  1.  0.  0.  0.  1.]\n",
        "SOM and infant agree 0.50 of time\n",
        "SOM acc: "
       ]
      },
      {
       "output_type": "stream",
       "stream": "stdout",
       "text": [
        " [ 1.  1.  0.  1.  1.  0.  1.  1.  1.  0.  1.  0.  1.  1.]\n",
        "Inf acc:  [ 0.  1.  1.  1.  1.  0.  1.  0.  1.  1.  1.  0.  1.  1.]\n",
        "SOM and infant agree 0.71 of time\n",
        "SOM acc: "
       ]
      },
      {
       "output_type": "stream",
       "stream": "stdout",
       "text": [
        " [ 0.  0.  1.  1.]\n",
        "Inf acc:  [ 1.  1.  0.  1.]\n",
        "SOM and infant agree 0.25 of time\n",
        "SOM acc: "
       ]
      },
      {
       "output_type": "stream",
       "stream": "stdout",
       "text": [
        " [ 1.  0.  1.  1.  0.  0.  1.  0.  1.  1.  1.  1.  1.]\n",
        "Inf acc:  [ 1.  0.  1.  1.  1.  1.  1.  1.  0.  0.  1.  0.  0.]\n",
        "SOM and infant agree 0.46 of time\n",
        "SOM acc: "
       ]
      },
      {
       "output_type": "stream",
       "stream": "stdout",
       "text": [
        " [ 0.  1.  1.]\n",
        "Inf acc:  [ 1.  1.  1.]\n",
        "SOM and infant agree 0.67 of time\n",
        "SOM acc: "
       ]
      },
      {
       "output_type": "stream",
       "stream": "stdout",
       "text": [
        " [ 0.  1.  1.  1.  1.  1.  0.  0.  1.]\n",
        "Inf acc:  [ 0.  1.  1.  1.  1.  1.  0.  0.  1.]\n",
        "SOM and infant agree 1.00 of time\n",
        "SOM acc: "
       ]
      },
      {
       "output_type": "stream",
       "stream": "stdout",
       "text": [
        " [ 0.  0.  1.  1.  1.  1.  0.  1.  0.  0.  1.  0.  0.  1.  0.  1.  1.  1.\n",
        "  1.]\n",
        "Inf acc:  [ 0.  0.  1.  1.  1.  1.  1.  1.  1.  0.  1.  0.  0.  1.  0.  1.  0.  1.\n",
        "  1.]\n",
        "SOM and infant agree 0.84 of time\n",
        "SOM acc: "
       ]
      },
      {
       "output_type": "stream",
       "stream": "stdout",
       "text": [
        " [ 1.  1.  0.  1.  1.  1.  1.  0.  0.  0.]\n",
        "Inf acc:  [ 0.  1.  0.  0.  0.  1.  1.  0.  0.  0.]\n",
        "SOM and infant agree 0.70 of time\n",
        "SOM acc: "
       ]
      },
      {
       "output_type": "stream",
       "stream": "stdout",
       "text": [
        " [ 0.  1.  1.  1.  0.  0.  1.  0.  1.  0.  0.  0.  0.  1.  0.  0.  0.  1.]\n",
        "Inf acc:  [ 1.  0.  0.  1.  0.  0.  0.  0.  1.  1.  1.  1.  1.  0.  1.  0.  0.  1.]\n",
        "SOM and infant agree 0.44 of time\n",
        "SOM acc:  [ 1.  1.]\n",
        "Inf acc:  [ 0.  0.]\n",
        "SOM and infant agree 0.00 of time\n",
        "SOM acc: "
       ]
      },
      {
       "output_type": "stream",
       "stream": "stdout",
       "text": [
        " [ 0.  1.]\n",
        "Inf acc:  [ 1.  0.]\n",
        "SOM and infant agree 0.00 of time\n",
        "SOM acc: "
       ]
      },
      {
       "output_type": "stream",
       "stream": "stdout",
       "text": [
        " [ 0.  0.  1.  0.  1.  0.  1.  1.  1.  1.  0.]\n",
        "Inf acc:  [ 1.  0.  1.  1.  0.  0.  1.  1.  0.  1.  0.]\n",
        "SOM and infant agree 0.64 of time\n",
        "SOM acc: "
       ]
      },
      {
       "output_type": "stream",
       "stream": "stdout",
       "text": [
        " [ 1.  1.  1.  0.  1.  0.  1.  1.  1.  0.  0.  1.]\n",
        "Inf acc:  [ 1.  0.  1.  0.  0.  1.  1.  0.  0.  1.  1.  0.]\n",
        "SOM and infant agree 0.33 of time\n",
        "SOM acc: "
       ]
      },
      {
       "output_type": "stream",
       "stream": "stdout",
       "text": [
        " [ 0.  1.  0.  1.  0.  1.  0.  1.  0.  1.  1.  0.  0.]\n",
        "Inf acc:  [ 0.  1.  0.  1.  0.  0.  0.  0.  0.  1.  1.  0.  1.]\n",
        "SOM and infant agree 0.77 of time\n",
        "SOM acc: "
       ]
      },
      {
       "output_type": "stream",
       "stream": "stdout",
       "text": [
        " [ 0.  0.  0.  1.  0.  1.  1.  0.  1.]\n",
        "Inf acc:  [ 1.  0.  0.  0.  0.  1.  1.  1.  0.]\n",
        "SOM and infant agree 0.56 of time\n",
        "SOM acc: "
       ]
      },
      {
       "output_type": "stream",
       "stream": "stdout",
       "text": [
        " [ 1.  1.  0.  0.  1.  0.  0.  0.  1.  1.  1.  0.  1.  0.]\n",
        "Inf acc:  [ 0.  1.  0.  0.  1.  0.  1.  0.  0.  1.  1.  1.  1.  1.]\n",
        "SOM and infant agree 0.64 of time\n",
        "SOM acc: "
       ]
      },
      {
       "output_type": "stream",
       "stream": "stdout",
       "text": [
        " [ 1.  1.  0.  1.  0.  0.  0.  1.  1.  0.  1.  1.  1.]\n",
        "Inf acc:  [ 0.  0.  0.  0.  1.  1.  1.  0.  1.  1.  1.  1.  1.]\n",
        "SOM and infant agree 0.38 of time\n",
        "SOM acc: "
       ]
      },
      {
       "output_type": "stream",
       "stream": "stdout",
       "text": [
        " [ 0.  1.  0.  1.  0.  1.  0.  0.]\n",
        "Inf acc:  [ 1.  0.  0.  1.  0.  1.  1.  0.]\n",
        "SOM and infant agree 0.62 of time\n",
        "SOM acc: "
       ]
      },
      {
       "output_type": "stream",
       "stream": "stdout",
       "text": [
        " [ 0.  1.  1.  1.  1.  0.  0.  0.  0.]\n",
        "Inf acc:  [ 0.  1.  1.  1.  1.  0.  0.  0.  0.]\n",
        "SOM and infant agree 1.00 of time\n",
        "SOM acc: "
       ]
      },
      {
       "output_type": "stream",
       "stream": "stdout",
       "text": [
        " [ 1.  0.  0.  0.  1.  1.  0.  0.  1.  0.  0.  1.  0.]\n",
        "Inf acc:  [ 0.  0.  1.  1.  1.  0.  0.  1.  1.  1.  1.  0.  0.]\n",
        "SOM and infant agree 0.38 of time\n",
        "SOM acc: "
       ]
      },
      {
       "output_type": "stream",
       "stream": "stdout",
       "text": [
        " [ 0.  1.  0.  0.  0.  1.  1.  1.  1.  0.  1.]\n",
        "Inf acc:  [ 0.  0.  0.  0.  1.  0.  0.  0.  1.  0.  0.]\n",
        "SOM and infant agree 0.45 of time\n",
        "SOM acc: "
       ]
      },
      {
       "output_type": "stream",
       "stream": "stdout",
       "text": [
        " [ 1.  1.  1.  1.  1.  1.  1.]\n",
        "Inf acc:  [ 1.  0.  1.  1.  0.  0.  0.]\n",
        "SOM and infant agree 0.43 of time\n",
        "SOM acc: "
       ]
      },
      {
       "output_type": "stream",
       "stream": "stdout",
       "text": [
        " [ 1.  1.  1.  1.  0.  0.]\n",
        "Inf acc:  [ 1.  1.  0.  0.  1.  0.]\n",
        "SOM and infant agree 0.50 of time\n",
        "SOM acc: "
       ]
      },
      {
       "output_type": "stream",
       "stream": "stdout",
       "text": [
        " [ 0.  0.  1.  0.  1.]\n",
        "Inf acc:  [ 0.  0.  1.  0.  0.]\n",
        "SOM and infant agree 0.80 of time\n",
        "SOM acc: "
       ]
      },
      {
       "output_type": "stream",
       "stream": "stdout",
       "text": [
        " [ 1.  1.  0.  1.  0.  1.  0.  1.  0.  1.  1.  1.  1.  1.  0.  0.  1.  0.\n",
        "  1.  1.  1.  1.  0.  0.]\n",
        "Inf acc:  [ 1.  1.  1.  0.  0.  0.  0.  1.  1.  0.  1.  1.  0.  1.  0.  0.  0.  1.\n",
        "  0.  0.  0.  0.  1.  0.]\n",
        "SOM and infant agree 0.46 of time\n",
        "SOM acc: "
       ]
      },
      {
       "output_type": "stream",
       "stream": "stdout",
       "text": [
        " [ 0.  1.  1.  1.  1.  0.  1.  0.  1.  1.  0.  1.  1.  1.  1.  0.]\n",
        "Inf acc:  [ 0.  1.  1.  0.  1.  1.  0.  1.  1.  1.  0.  0.  1.  0.  0.  1.]\n",
        "SOM and infant agree 0.50 of time\n",
        "SOM and infants agee M+SD: 0.61 +- 0.49 \n"
       ]
      },
      {
       "metadata": {},
       "output_type": "pyout",
       "prompt_number": 139,
       "text": [
        "0.61369863013698633"
       ]
      }
     ],
     "prompt_number": 139
    },
    {
     "cell_type": "code",
     "collapsed": false,
     "input": [
      "f = '4750.csv'\n",
      "# mod = SOM( f, learning_rate=.3 ) \n",
      "# mod.show()\n",
      "mod.trainOne()\n",
      "mod.show(mod.dataIdx)"
     ],
     "language": "python",
     "metadata": {},
     "outputs": [
      {
       "output_type": "stream",
       "stream": "stdout",
       "text": [
        "Training exemplar projection\n"
       ]
      },
      {
       "metadata": {},
       "output_type": "display_data",
       "png": "[encoded data removed]",
       "text": [
        "<matplotlib.figure.Figure at 0x10564e150>"
       ]
      }
     ],
     "prompt_number": 119
    },
    {
     "cell_type": "code",
     "collapsed": false,
     "input": [
      "# how to use\n",
      "# fileDir = '../../KARS_reinf/Python/FeatSeenBySub/'\n",
      "\n",
      "mod = SOM( '4750.csv', learning_rate=0.3 ) #fileDir+'4760.csv')\n",
      "mod.train(20)\n",
      "# mod.trainOneGliozzi()\n",
      "mod.show()\n",
      "\n",
      "# print( 'SOM with infant exemplars')\n",
      "mod.showIdeal()\n",
      "mod.separation()\n",
      "\n",
      "print mod.acc\n",
      "print nanmean( mod.acc)\n"
     ],
     "language": "python",
     "metadata": {},
     "outputs": [
      {
       "output_type": "stream",
       "stream": "stdout",
       "text": [
        "Training exemplar projection\n"
       ]
      },
      {
       "metadata": {},
       "output_type": "display_data",
       "png": "[encoded data removed]",
       "text": [
        "<matplotlib.figure.Figure at 0x4a8f910>"
       ]
      },
      {
       "output_type": "stream",
       "stream": "stdout",
       "text": [
        "Ideal exemplar projection\n"
       ]
      },
      {
       "metadata": {},
       "output_type": "display_data",
       "png": "[encoded data removed]",
       "text": [
        "<matplotlib.figure.Figure at 0x3a10a10>"
       ]
      },
      {
       "output_type": "stream",
       "stream": "stdout",
       "text": [
        "[  1.   1.   1.  nan   0.  nan   1.   1.   1.  nan   1.   0.   1.  nan   1.\n",
        "   0.   1.  nan]\n",
        "0.769230769231\n"
       ]
      }
     ],
     "prompt_number": 50
    },
    {
     "cell_type": "code",
     "collapsed": false,
     "input": [
      "# import sklearn"
     ],
     "language": "python",
     "metadata": {},
     "outputs": [],
     "prompt_number": 168
    },
    {
     "cell_type": "code",
     "collapsed": false,
     "input": [
      "# run the model fitting N times\n",
      "N = 20\n",
      "sepList = np.arange(N,dtype=float)\n",
      "for i1 in range(N):\n",
      "    mod = SOM('4750.csv')\n",
      "    mod.train(20)\n",
      "    sepList[i1] = mod.separation()\n",
      "\n",
      "sepList.mean()\n",
      "# mod.show()\n",
      "# mod.showIdeal()\n"
     ],
     "language": "python",
     "metadata": {},
     "outputs": [
      {
       "metadata": {},
       "output_type": "pyout",
       "prompt_number": 12,
       "text": [
        "11.943153190931564"
       ]
      }
     ],
     "prompt_number": 12
    },
    {
     "cell_type": "code",
     "collapsed": false,
     "input": [],
     "language": "python",
     "metadata": {},
     "outputs": [],
     "prompt_number": 57
    },
    {
     "cell_type": "code",
     "collapsed": false,
     "input": [
      "# loop through files and train up SOMs, measure class separation\n",
      "fileDir = '../../KARS_reinf/Python/FeatSeenBySub/'\n",
      "resultFile = 'catSeparation.txt'\n",
      "fOut = open(resultFile, 'w')\n",
      "fOut.write( 'subID\\tcatSep\\n')\n",
      "\n",
      "\n",
      "files= glob( fileDir+'*.csv')\n",
      "N = 50 # number models to generate per participant\n",
      "iters = 30 # number training iterations\n",
      "\n",
      "for f in files:\n",
      "    participant = f.split('/')[-1].split('.')[0]\n",
      "    sepList = np.arange(N,dtype=float) # init list\n",
      "    for i1 in range(N):            \n",
      "        mod = SOM( f)\n",
      "        mod.train(iters)\n",
      "        sepList[i1] = mod.separation()\n",
      "    # output result\n",
      "    fOut.write( '%s\\t%.4f\\n'%(participant, sepList.mean()) )\n",
      "    print( 'Participant %s, Category separation: %.3f' % (participant, sepList.mean()) )\n",
      "\n",
      "    \n",
      "fOut.close()"
     ],
     "language": "python",
     "metadata": {},
     "outputs": [
      {
       "output_type": "stream",
       "stream": "stdout",
       "text": [
        "Participant 4749, Category separation: 13.094\n",
        "Participant 4750, Category separation: 11.496"
       ]
      },
      {
       "output_type": "stream",
       "stream": "stdout",
       "text": [
        "\n",
        "Participant 4756, Category separation: 12.066"
       ]
      },
      {
       "output_type": "stream",
       "stream": "stdout",
       "text": [
        "\n",
        "Participant 4757, Category separation: 10.613"
       ]
      },
      {
       "ename": "KeyboardInterrupt",
       "evalue": "",
       "output_type": "pyerr",
       "traceback": [
        "\u001b[0;31m---------------------------------------------------------------------------\u001b[0m\n\u001b[0;31mKeyboardInterrupt\u001b[0m                         Traceback (most recent call last)",
        "\u001b[0;32m<ipython-input-58-9e13600fe708>\u001b[0m in \u001b[0;36m<module>\u001b[0;34m()\u001b[0m\n\u001b[1;32m     16\u001b[0m         \u001b[0mmod\u001b[0m \u001b[0;34m=\u001b[0m \u001b[0mSOM\u001b[0m\u001b[0;34m(\u001b[0m \u001b[0mf\u001b[0m\u001b[0;34m)\u001b[0m\u001b[0;34m\u001b[0m\u001b[0m\n\u001b[1;32m     17\u001b[0m         \u001b[0mmod\u001b[0m\u001b[0;34m.\u001b[0m\u001b[0mtrain\u001b[0m\u001b[0;34m(\u001b[0m\u001b[0miters\u001b[0m\u001b[0;34m)\u001b[0m\u001b[0;34m\u001b[0m\u001b[0m\n\u001b[0;32m---> 18\u001b[0;31m         \u001b[0msepList\u001b[0m\u001b[0;34m[\u001b[0m\u001b[0mi1\u001b[0m\u001b[0;34m]\u001b[0m \u001b[0;34m=\u001b[0m \u001b[0mmod\u001b[0m\u001b[0;34m.\u001b[0m\u001b[0mseparation\u001b[0m\u001b[0;34m(\u001b[0m\u001b[0;34m)\u001b[0m\u001b[0;34m\u001b[0m\u001b[0m\n\u001b[0m\u001b[1;32m     19\u001b[0m     \u001b[0;31m# output result\u001b[0m\u001b[0;34m\u001b[0m\u001b[0;34m\u001b[0m\u001b[0m\n\u001b[1;32m     20\u001b[0m     \u001b[0mfOut\u001b[0m\u001b[0;34m.\u001b[0m\u001b[0mwrite\u001b[0m\u001b[0;34m(\u001b[0m \u001b[0;34m'%s\\t%.4f\\n'\u001b[0m\u001b[0;34m%\u001b[0m\u001b[0;34m(\u001b[0m\u001b[0mparticipant\u001b[0m\u001b[0;34m,\u001b[0m \u001b[0msepList\u001b[0m\u001b[0;34m.\u001b[0m\u001b[0mmean\u001b[0m\u001b[0;34m(\u001b[0m\u001b[0;34m)\u001b[0m\u001b[0;34m)\u001b[0m \u001b[0;34m)\u001b[0m\u001b[0;34m\u001b[0m\u001b[0m\n",
        "\u001b[0;32m<ipython-input-52-984157091307>\u001b[0m in \u001b[0;36mseparation\u001b[0;34m(self)\u001b[0m\n\u001b[1;32m    102\u001b[0m             \u001b[0mprojA\u001b[0m\u001b[0;34m[\u001b[0m\u001b[0midx\u001b[0m\u001b[0;34m]\u001b[0m \u001b[0;34m=\u001b[0m \u001b[0mmod\u001b[0m\u001b[0;34m.\u001b[0m\u001b[0msom\u001b[0m\u001b[0;34m.\u001b[0m\u001b[0mweights\u001b[0m\u001b[0;34m[\u001b[0m\u001b[0mmod\u001b[0m\u001b[0;34m.\u001b[0m\u001b[0msom\u001b[0m\u001b[0;34m.\u001b[0m\u001b[0mwinner\u001b[0m\u001b[0;34m(\u001b[0m\u001b[0mx\u001b[0m\u001b[0;34m)\u001b[0m\u001b[0;34m]\u001b[0m\u001b[0;34m\u001b[0m\u001b[0m\n\u001b[1;32m    103\u001b[0m         \u001b[0;32mfor\u001b[0m \u001b[0midx\u001b[0m\u001b[0;34m,\u001b[0m\u001b[0mx\u001b[0m \u001b[0;32min\u001b[0m \u001b[0menumerate\u001b[0m\u001b[0;34m(\u001b[0m\u001b[0mB\u001b[0m\u001b[0;34m)\u001b[0m\u001b[0;34m:\u001b[0m\u001b[0;34m\u001b[0m\u001b[0m\n\u001b[0;32m--> 104\u001b[0;31m             \u001b[0mprojB\u001b[0m\u001b[0;34m[\u001b[0m\u001b[0midx\u001b[0m\u001b[0;34m]\u001b[0m \u001b[0;34m=\u001b[0m \u001b[0mmod\u001b[0m\u001b[0;34m.\u001b[0m\u001b[0msom\u001b[0m\u001b[0;34m.\u001b[0m\u001b[0mweights\u001b[0m\u001b[0;34m[\u001b[0m\u001b[0mmod\u001b[0m\u001b[0;34m.\u001b[0m\u001b[0msom\u001b[0m\u001b[0;34m.\u001b[0m\u001b[0mwinner\u001b[0m\u001b[0;34m(\u001b[0m\u001b[0mx\u001b[0m\u001b[0;34m)\u001b[0m\u001b[0;34m]\u001b[0m\u001b[0;34m\u001b[0m\u001b[0m\n\u001b[0m\u001b[1;32m    105\u001b[0m         \u001b[0mdiff\u001b[0m \u001b[0;34m=\u001b[0m \u001b[0mlinalg\u001b[0m\u001b[0;34m.\u001b[0m\u001b[0mnorm\u001b[0m\u001b[0;34m(\u001b[0m\u001b[0mprojA\u001b[0m\u001b[0;34m.\u001b[0m\u001b[0mmean\u001b[0m\u001b[0;34m(\u001b[0m\u001b[0maxis\u001b[0m\u001b[0;34m=\u001b[0m\u001b[0;36m0\u001b[0m\u001b[0;34m)\u001b[0m\u001b[0;34m-\u001b[0m\u001b[0mprojB\u001b[0m\u001b[0;34m.\u001b[0m\u001b[0mmean\u001b[0m\u001b[0;34m(\u001b[0m\u001b[0maxis\u001b[0m\u001b[0;34m=\u001b[0m\u001b[0;36m0\u001b[0m\u001b[0;34m)\u001b[0m \u001b[0;34m)\u001b[0m\u001b[0;34m\u001b[0m\u001b[0m\n\u001b[1;32m    106\u001b[0m \u001b[0;34m\u001b[0m\u001b[0m\n",
        "\u001b[0;32m/opt/local/Library/Frameworks/Python.framework/Versions/2.7/lib/python2.7/site-packages/minisom.pyc\u001b[0m in \u001b[0;36mwinner\u001b[0;34m(self, x)\u001b[0m\n\u001b[1;32m     75\u001b[0m     \u001b[0;32mdef\u001b[0m \u001b[0mwinner\u001b[0m\u001b[0;34m(\u001b[0m\u001b[0mself\u001b[0m\u001b[0;34m,\u001b[0m\u001b[0mx\u001b[0m\u001b[0;34m)\u001b[0m\u001b[0;34m:\u001b[0m\u001b[0;34m\u001b[0m\u001b[0m\n\u001b[1;32m     76\u001b[0m         \u001b[0;34m\"\"\" Computes the coordinates of the winning neuron for the sample x \"\"\"\u001b[0m\u001b[0;34m\u001b[0m\u001b[0m\n\u001b[0;32m---> 77\u001b[0;31m         \u001b[0mself\u001b[0m\u001b[0;34m.\u001b[0m\u001b[0m_activate\u001b[0m\u001b[0;34m(\u001b[0m\u001b[0mx\u001b[0m\u001b[0;34m)\u001b[0m\u001b[0;34m\u001b[0m\u001b[0m\n\u001b[0m\u001b[1;32m     78\u001b[0m         \u001b[0;32mreturn\u001b[0m \u001b[0munravel_index\u001b[0m\u001b[0;34m(\u001b[0m\u001b[0mself\u001b[0m\u001b[0;34m.\u001b[0m\u001b[0mactivation_map\u001b[0m\u001b[0;34m.\u001b[0m\u001b[0margmin\u001b[0m\u001b[0;34m(\u001b[0m\u001b[0;34m)\u001b[0m\u001b[0;34m,\u001b[0m\u001b[0mself\u001b[0m\u001b[0;34m.\u001b[0m\u001b[0mactivation_map\u001b[0m\u001b[0;34m.\u001b[0m\u001b[0mshape\u001b[0m\u001b[0;34m)\u001b[0m\u001b[0;34m\u001b[0m\u001b[0m\n\u001b[1;32m     79\u001b[0m \u001b[0;34m\u001b[0m\u001b[0m\n",
        "\u001b[0;32m/opt/local/Library/Frameworks/Python.framework/Versions/2.7/lib/python2.7/site-packages/minisom.pyc\u001b[0m in \u001b[0;36m_activate\u001b[0;34m(self, x)\u001b[0m\n\u001b[1;32m     51\u001b[0m         \u001b[0mit\u001b[0m \u001b[0;34m=\u001b[0m \u001b[0mnditer\u001b[0m\u001b[0;34m(\u001b[0m\u001b[0mself\u001b[0m\u001b[0;34m.\u001b[0m\u001b[0mactivation_map\u001b[0m\u001b[0;34m,\u001b[0m \u001b[0mflags\u001b[0m\u001b[0;34m=\u001b[0m\u001b[0;34m[\u001b[0m\u001b[0;34m'multi_index'\u001b[0m\u001b[0;34m]\u001b[0m\u001b[0;34m)\u001b[0m\u001b[0;34m\u001b[0m\u001b[0m\n\u001b[1;32m     52\u001b[0m         \u001b[0;32mwhile\u001b[0m \u001b[0;32mnot\u001b[0m \u001b[0mit\u001b[0m\u001b[0;34m.\u001b[0m\u001b[0mfinished\u001b[0m\u001b[0;34m:\u001b[0m\u001b[0;34m\u001b[0m\u001b[0m\n\u001b[0;32m---> 53\u001b[0;31m             \u001b[0mself\u001b[0m\u001b[0;34m.\u001b[0m\u001b[0mactivation_map\u001b[0m\u001b[0;34m[\u001b[0m\u001b[0mit\u001b[0m\u001b[0;34m.\u001b[0m\u001b[0mmulti_index\u001b[0m\u001b[0;34m]\u001b[0m \u001b[0;34m=\u001b[0m \u001b[0mlinalg\u001b[0m\u001b[0;34m.\u001b[0m\u001b[0mnorm\u001b[0m\u001b[0;34m(\u001b[0m\u001b[0ms\u001b[0m\u001b[0;34m[\u001b[0m\u001b[0mit\u001b[0m\u001b[0;34m.\u001b[0m\u001b[0mmulti_index\u001b[0m\u001b[0;34m]\u001b[0m\u001b[0;34m)\u001b[0m \u001b[0;31m# || x - w ||\u001b[0m\u001b[0;34m\u001b[0m\u001b[0m\n\u001b[0m\u001b[1;32m     54\u001b[0m             \u001b[0mit\u001b[0m\u001b[0;34m.\u001b[0m\u001b[0miternext\u001b[0m\u001b[0;34m(\u001b[0m\u001b[0;34m)\u001b[0m\u001b[0;34m\u001b[0m\u001b[0m\n\u001b[1;32m     55\u001b[0m \u001b[0;34m\u001b[0m\u001b[0m\n",
        "\u001b[0;32m/opt/local/Library/Frameworks/Python.framework/Versions/2.7/lib/python2.7/site-packages/numpy/linalg/linalg.pyc\u001b[0m in \u001b[0;36mnorm\u001b[0;34m(x, ord, axis)\u001b[0m\n\u001b[1;32m   2058\u001b[0m             \u001b[0msqnorm\u001b[0m \u001b[0;34m=\u001b[0m \u001b[0mdot\u001b[0m\u001b[0;34m(\u001b[0m\u001b[0mx\u001b[0m\u001b[0;34m.\u001b[0m\u001b[0mreal\u001b[0m\u001b[0;34m,\u001b[0m \u001b[0mx\u001b[0m\u001b[0;34m.\u001b[0m\u001b[0mreal\u001b[0m\u001b[0;34m)\u001b[0m \u001b[0;34m+\u001b[0m \u001b[0mdot\u001b[0m\u001b[0;34m(\u001b[0m\u001b[0mx\u001b[0m\u001b[0;34m.\u001b[0m\u001b[0mimag\u001b[0m\u001b[0;34m,\u001b[0m \u001b[0mx\u001b[0m\u001b[0;34m.\u001b[0m\u001b[0mimag\u001b[0m\u001b[0;34m)\u001b[0m\u001b[0;34m\u001b[0m\u001b[0m\n\u001b[1;32m   2059\u001b[0m         \u001b[0;32melse\u001b[0m\u001b[0;34m:\u001b[0m\u001b[0;34m\u001b[0m\u001b[0m\n\u001b[0;32m-> 2060\u001b[0;31m             \u001b[0msqnorm\u001b[0m \u001b[0;34m=\u001b[0m \u001b[0mdot\u001b[0m\u001b[0;34m(\u001b[0m\u001b[0mx\u001b[0m\u001b[0;34m,\u001b[0m \u001b[0mx\u001b[0m\u001b[0;34m)\u001b[0m\u001b[0;34m\u001b[0m\u001b[0m\n\u001b[0m\u001b[1;32m   2061\u001b[0m         \u001b[0;32mreturn\u001b[0m \u001b[0msqrt\u001b[0m\u001b[0;34m(\u001b[0m\u001b[0msqnorm\u001b[0m\u001b[0;34m)\u001b[0m\u001b[0;34m\u001b[0m\u001b[0m\n\u001b[1;32m   2062\u001b[0m \u001b[0;34m\u001b[0m\u001b[0m\n",
        "\u001b[0;31mKeyboardInterrupt\u001b[0m: "
       ]
      },
      {
       "output_type": "stream",
       "stream": "stdout",
       "text": [
        "\n"
       ]
      }
     ],
     "prompt_number": 58
    },
    {
     "cell_type": "code",
     "collapsed": false,
     "input": [
      "# f"
     ],
     "language": "python",
     "metadata": {},
     "outputs": []
    },
    {
     "cell_type": "code",
     "collapsed": false,
     "input": [
      "#  cat catSeparation.txt\n"
     ],
     "language": "python",
     "metadata": {},
     "outputs": []
    },
    {
     "cell_type": "code",
     "collapsed": false,
     "input": [],
     "language": "python",
     "metadata": {},
     "outputs": []
    }
   ],
   "metadata": {}
  }
 ]
}