{
 "cells": [
  {
   "cell_type": "code",
   "execution_count": 6,
   "metadata": {
    "collapsed": false
   },
   "outputs": [
    {
     "name": "stdout",
     "output_type": "stream",
     "text": [
      "Populating the interactive namespace from numpy and matplotlib\n"
     ]
    },
    {
     "name": "stderr",
     "output_type": "stream",
     "text": [
      "WARNING: pylab import has clobbered these variables: ['mod']\n",
      "`%matplotlib` prevents importing * from pylab and numpy\n"
     ]
    }
   ],
   "source": [
    "from minisom import MiniSom\n",
    "import random as r\n",
    "import copy as cop\n",
    "import os\n",
    "import numpy as np\n",
    "\n",
    "from glob import glob\n",
    "# import matplotlib as plt\n",
    "\n",
    "\n",
    "%pylab inline\n"
   ]
  },
  {
   "cell_type": "code",
   "execution_count": 57,
   "metadata": {
    "collapsed": false
   },
   "outputs": [],
   "source": [
    "class SOM:\n",
    "    def pertWeights( self, scale=.2 ):     \n",
    "        print( 'Adding noise to SOM weights')\n",
    "        pertAmount = scale*(np.random.random_sample( self.som.weights.shape)-.5)\n",
    "        self.som.weights = self.som.weights + pertAmount\n",
    "    \n",
    "    def pertData( self, p=.2, verbose=False):\n",
    "        if verbose:\n",
    "            print( 'Making %.2f percent of inputs 0.0' %(p*100))\n",
    "        # randomly get proportion of indices to switch, then replace\n",
    "        p = max( min(p,1), 0 ) # set in range [0,1]\n",
    "        \n",
    "   \n",
    "#         if skipCols == None:\n",
    "        \n",
    "#         else:\n",
    "#         sh = self.data.shape\n",
    "#         noiseIndex = np.random.binomial(1,p,(sh[0], sh[1]-1 ) ) \n",
    "            \n",
    "        noiseIndex = np.random.binomial(1,p, self.data.shape)  #ones at p proportion of samples\n",
    "        self.data[noiseIndex ==1 ] = 0\n",
    "        #return data\n",
    "    \n",
    "    # plot the thing\n",
    "    def show( self, maxIdx=None, indices=None):\n",
    "        print( 'Exemplar projection')\n",
    "        som = self.som\n",
    "        if maxIdx == None:\n",
    "            maxIdx = len(self.data)            \n",
    "        if indices ==None:            \n",
    "            data= self.data[0:maxIdx]\n",
    "            target = self.target\n",
    "        else:\n",
    "            data= self.data[indices]\n",
    "            target= self.target[indices]\n",
    "            \n",
    "        bone()\n",
    "        pcolor(som.distance_map().T) # plotting the distance map as background\n",
    "        colorbar()\n",
    "        t = zeros(len(target),dtype=int)\n",
    "        t[target == 'A'] = 0\n",
    "        t[target == 'B'] = 1\n",
    "        # use different colors and markers for each label\n",
    "        markers = ['o','s','D']\n",
    "        colors = ['r','g','b']\n",
    "        for cnt,xx in enumerate(data):\n",
    "            w = som.winner(xx) # getting the winner\n",
    "            # palce a marker on the winning position for the sample xx\n",
    "            plot(w[0]+.5,w[1]+.5,markers[t[cnt]],markerfacecolor='None',\n",
    "                markeredgecolor=colors[t[cnt]],markersize=12,markeredgewidth=2)\n",
    "        axis([0,som.weights.shape[0],0,som.weights.shape[1]])\n",
    "        show() # show the figure\n",
    "        \n",
    "    def showIdeal( self):\n",
    "        print( 'Ideal exemplar projection')\n",
    "        som = self.som\n",
    "        data= self.ideal\n",
    "        target = self.idealTarget\n",
    "        bone()\n",
    "        pcolor(som.distance_map().T) # plotting the distance map as background\n",
    "        colorbar()\n",
    "        t = zeros(len(target),dtype=int)\n",
    "        t[target == 'A'] = 0\n",
    "        t[target == 'B'] = 1\n",
    "        # use different colors and markers for each label\n",
    "        markers = ['o','s','D']\n",
    "        colors = ['r','g','b']\n",
    "        for cnt,xx in enumerate(data):\n",
    "            w = som.winner(xx) # getting the winner\n",
    "            # palce a marker on the winning position for the sample xx\n",
    "            plot(w[0]+.5,w[1]+.5,markers[t[cnt]],markerfacecolor='None',\n",
    "                markeredgecolor=colors[t[cnt]],markersize=12,markeredgewidth=2)\n",
    "        axis([0,som.weights.shape[0],0,som.weights.shape[1]])\n",
    "        show() # show the figure        \n",
    "        \n",
    "    def train(self, iters = 30):\n",
    "        self.som.train_random(self.data,iters)\n",
    "#         print( 'Post training quantization error: %f' % self.som.quantization_error(self.data))\n",
    "\n",
    "    \"\"\"def trainOneGliozzi(self):\n",
    "        # using gliozzi thing\n",
    "        # init learning params\n",
    "        self.som.sigma_gliozzi = linspace(1.2, 0.8, num=len(self.data))\n",
    "        self.som._init_T(len(self.data))   \n",
    "        \n",
    "        #  will use the data idx to slowly reduce sigma, and learning rate in update function\n",
    "        self.som.update_gliozzi(self.data[self.dataIdx],self.som.winner(self.data[self.som.dataIdx]), self.som.dataIdx)\n",
    "\n",
    "        # update training index (for next time)\n",
    "        self.dataIdx += 1\n",
    "        if self.dataIdx >= len(self.data):\n",
    "            self.dataIdx = 0 \n",
    "    \"\"\"\n",
    "    \n",
    "    def trainOne(self ):\n",
    "        \"\"\" Trains the SOM picking samples from data one at a time \"\"\"\n",
    "        #self.running = True        \n",
    "        d = self.dataIdx  # data index to train\n",
    "        self.som._init_T(len(self.data))      \n",
    "        self.som.update( self.data[d], self.som.winner(self.data[d]), d)  # update\n",
    "        #self.running = False\n",
    "        \n",
    "        # update training index (for next time)\n",
    "        self.dataIdx += 1\n",
    "        if self.dataIdx >= len(self.data):\n",
    "            self.dataIdx = 0        \n",
    "\n",
    "    def predOne(self, verbose=False):\n",
    "        # Do the next one prediction\n",
    "        \n",
    "        # get BMU index and weight \n",
    "        x = self.data[self.dataIdx]        \n",
    "        bmuW = self.som.weights[self.som.winner(x)]\n",
    "        protDist = []\n",
    "        protLab = []\n",
    "        \n",
    "        # find distance to all prototypes                    \n",
    "        for prot,label in self.getProt():                       \n",
    "            #protMapped = self.som.weights[self.som.winner(prot) ]\n",
    "            protDist.append( norm( bmuW- prot )) # self.ideal[ idx ])) \n",
    "            protLab.append( label )             #  self.idealTarget[idx] )     \n",
    "                \n",
    "        # SOM decision  ( random if not close to any prototoype or first trial)\n",
    "        if len( protDist ) >0:                       \n",
    "            somLab = protLab[ argmin( protDist ) ]  # nearest category             \n",
    "            # make random if not like either prototype\n",
    "            if min(protDist) > self.predThresh:\n",
    "                somLab = ( 'A' if r.random() > .5 else 'B' )                \n",
    "        else: # random on first trial\n",
    "            somLab = ( 'A' if r.random() > .5 else 'B' )\n",
    "                \n",
    "        # update SOM accuracy\n",
    "        trueLab = self.target[self.dataIdx]\n",
    "        self.somAcc[self.dataIdx] = (1 if somLab==trueLab else 0 )\n",
    "        \n",
    "        # get child label\n",
    "        #  somAcc = (1 if predLab == trueLab else 0 )\n",
    "        if self.acc[self.dataIdx ] == 1: # if accurate\n",
    "            childLab = trueLab\n",
    "        elif np.isnan(self.acc[self.dataIdx ]): # if NaN\n",
    "            childLab = 'N'\n",
    "        else: # if wrong\n",
    "            childLab = 'AB'.strip(trueLab) \n",
    "    \n",
    "        if verbose:\n",
    "            print( 'Qnt error current Sample: %.4f' % norm(x- bmuW) )            \n",
    "            print( 'SOM/Child/True Label: %s/%s/%s.' % (  somLab, childLab, trueLab)  )\n",
    "            print( 'Project prototype distances: ' )\n",
    "            print protDist, protLab\n",
    "        return ( somLab, childLab ) \n",
    "\n",
    "    def predAll(self, reset = True, skip =0, verbose= True, reps=1 ):\n",
    "        \n",
    "        fullSomList = np.array([])\n",
    "        fullChildList = np.array([])\n",
    "        \n",
    "        for numRepetitions in range(reps): # repeat for random initialization of som            \n",
    "            # initialize som weights, and data index if reset=True\n",
    "            if reset:\n",
    "                self.initWeights()                \n",
    "                self.dataIdx = 0 # to index what data sample for one shot learning\n",
    "            \n",
    "            # init for storing results\n",
    "            somList = np.chararray(len(self.data)) #*np.nan\n",
    "            childList = np.chararray(len(self.data)) #*np.nan\n",
    "            # go through each trial and predict\n",
    "            for idx in range(len(self.data)):          \n",
    "                #predict\n",
    "                somLab, childLab = self.predOne()\n",
    "                somList[idx] = somLab\n",
    "                childList[idx] = childLab\n",
    "                # train\n",
    "                self.trainOne()  #  don't use mod.trainOneGliozzi()\n",
    "\n",
    "            # deal with missing values and skip first if requested\n",
    "            somList = somList[skip:]  # kick out first skip samples\n",
    "            childList = childList[skip:] # kick out first skip samples        \n",
    "            somList = somList[ childList != 'N'] # N for nan\n",
    "            childList = childList[ childList != 'N']\n",
    "            \n",
    "            # store in the big list\n",
    "            fullSomList = np.concatenate( (fullSomList, somList), axis=1)\n",
    "            fullChildList = np.concatenate( (fullChildList, childList), axis=1)\n",
    "        \n",
    "        # get how well model does\n",
    "        if len(fullChildList) >0:\n",
    "            scAgreement = float(np.sum( fullSomList==fullChildList))/len(fullSomList)\n",
    "        else:\n",
    "            scAgreement = np.nan\n",
    "            \n",
    "        if verbose:\n",
    "            print 'SOM pred: ', fullSomList\n",
    "            print 'Inf pred: ', fullChildList            \n",
    "            print('SOM and infant agree %.2f of time' % scAgreement )\n",
    "        return fullSomList == fullChildList\n",
    "\n",
    "    \n",
    "    \n",
    "    def separation( self):\n",
    "        \"\"\"return the norm of the difference vector between the mean of projected idealized class\n",
    "            A exemplars, and class B exemplars.  Essentially, the separation between those classes \n",
    "            May need to include a variance normalization in future. \"\"\"\n",
    "        A =  self.ideal[ self.idealTarget=='A']\n",
    "        B =  self.ideal[ self.idealTarget=='B']\n",
    "        projA = numpy.empty(A.shape) * numpy.nan\n",
    "        projB = numpy.empty(B.shape) * numpy.nan\n",
    "        # go through all catA\n",
    "        for idx,x in enumerate(A):\n",
    "            projA[idx] = mod.som.weights[mod.som.winner(x)]\n",
    "        for idx,x in enumerate(B):\n",
    "            projB[idx] = mod.som.weights[mod.som.winner(x)]\n",
    "        diff = linalg.norm(projA.mean(axis=0)-projB.mean(axis=0) ) \n",
    "        \n",
    "        # pooled variance estimate (not standard, since using average variance across dimensions for a class)\n",
    "        pVar = pVar = (projA.var(axis=0).mean() + projB.var(axis=0).mean() )/2  \n",
    "        \n",
    "        return diff/np.sqrt( pVar)\n",
    "    \n",
    "    def getProt( self, idealProt = False ):\n",
    "        prot = []\n",
    "        label = []    \n",
    "        \n",
    "        # use true prototypes from ideal data\n",
    "        if idealProt:\n",
    "            for idx in self.protIdx:\n",
    "                prot.append(self.ideal[idx,:])\n",
    "                label.append(self.idealTarget[idx])        \n",
    "        # estimate prototypes based in training data\n",
    "        else:\n",
    "            # get data/labels just until the current iteration (data is projected onto SOM)\n",
    "            targTemp = self.target[:self.dataIdx]\n",
    "            dataTemp = self.som.quantization( self.data[:self.dataIdx,:] ) # projected samples\n",
    "            \n",
    "            # loop through all labels, calc prototypes by average\n",
    "            for t in np.unique(targTemp):    \n",
    "                prot.append(np.mean( dataTemp[ targTemp==t, :], axis=0 ))  # mean of category\n",
    "                label.append(t) # corresponding label                \n",
    "        return zip(prot,label )   \n",
    "        \n",
    "    def initWeights(self, scale=1 ):\n",
    "        \"\"\" Initializes the weights of the SOM randomly around 0 \"\"\"        \n",
    "        self.som.weights =scale*(np.random.random_sample( self.som.weights.shape)-.5)\n",
    "\n",
    "\n",
    "    def showLearnCuves(self, window=6):\n",
    "        curveSOM = slideAcc( self.somAcc, window )\n",
    "        curveSubj = slideAcc( self.acc, window )\n",
    "        plot( np.arange(len(curveSOM)) ,curveSOM, 'k.-', linewidth=3, label='SOM')\n",
    "        plot( np.arange(len(curveSubj)), curveSubj, 'g--', linewidth=3, label='prt')\n",
    "        plot( np.arange(0,50), np.ones(50)*.5,'r-', linewidth=2, label='chance')\n",
    "        xlabel('trial')\n",
    "        legend()\n",
    "        self.curveSOM = curveSOM\n",
    "        self.curveSubj = curveSubj\n",
    "        \n",
    "    \n",
    "    def meanLrnCurves( self, iters = 10, removeProp = 0  ):\n",
    "        # backup ori data, init acc vector\n",
    "        dataOri = cop.copy(self.data)\n",
    "        accSum = np.zeros(len(self.acc))\n",
    "        \n",
    "        for i1 in range(iters):\n",
    "            # train/predict SOM several times            \n",
    "            self.data = cop.copy(dataOri)\n",
    "            self.pertData(removeProp)  #not perfect data to train                      \n",
    "            agreement = self.predAll( verbose=False, skip=0, reps=1)     \n",
    "            accSum =accSum + self.somAcc\n",
    "        self.somAcc = accSum/iters # average accuracy\n",
    "        \n",
    "        # return accuracy\n",
    "        return self.somAcc\n",
    "    \n",
    "            \n",
    "    \n",
    "    #-------------------------------------------------\n",
    "    \n",
    "    def __init__(self, file_name='4750.csv', columns = [0,1,2,3,4,5,6,7], width = 6, height = 5, sigma=1.2,  learning_rate=0.5, predThresh=np.inf ):\n",
    "        \n",
    "        #       self.visual_only = [0,1,2,3,4,5,6,7]\n",
    "        #       self.visual_and_acoustic = [0,1,2,3,4,5,6,7,8]\n",
    "\n",
    "        # load data and normalization\n",
    "        self.data = np.genfromtxt( file_name, delimiter=',',usecols=columns, skip_header=1)   \n",
    "        self.data = binToOrthog( self.data) # make orthogonal representation\n",
    "        self.data *= 2.0 \n",
    "        self.data += -1.0  # -0.5 \n",
    "        # get target labels\n",
    "        self.target = genfromtxt(file_name,delimiter=',',usecols=(9),dtype=str, skip_header=1) # loading the labels\n",
    "        #get infant accuracy\n",
    "        self.acc = genfromtxt(file_name,delimiter=',',usecols=(10),dtype=float, skip_header=1) \n",
    "        self.somAcc = self.acc*np.nan\n",
    "        \n",
    "        # init som\n",
    "        self.som = MiniSom(width, height, self.data.shape[1], sigma=sigma,learning_rate=learning_rate)\n",
    "        #self.som.random_weights_init(self.data)\n",
    "        self.initWeights()  \n",
    "        self.dataIdx = 0 # to index what data sample for one shot learning\n",
    "        \n",
    "        # get idealized data\n",
    "        self.ideal = np.genfromtxt( 'stimuli.csv', delimiter=',',usecols=columns, skip_header=1) \n",
    "        self.ideal = binToOrthog(self.ideal ) # make orthogonal representation\n",
    "        self.ideal *= 2.0 \n",
    "        self.ideal += -1.0  # -0.5 \n",
    "        self.idealTarget = genfromtxt('stimuli.csv',delimiter=',',usecols=(9),dtype=str, skip_header=1) # loading the labels\n",
    "               \n",
    "        # index of ideal samples that are category prototypes\n",
    "        self.protIdx = np.array([6,7])\n",
    "        self.predThresh = predThresh  # when classifying, if distance larger than this then random decision\n",
    "\n",
    "\n",
    "#------------------------------------------------------------------\n",
    "\n",
    "# def getIdeal( file_name='stimuli.csv', columns = [0,1,2,3,4,5,6,7]): \n",
    "#     # return the ideal data for checking quantization error\n",
    "#     data = np.genfromtxt( file_name, delimiter=',',usecols=columns, skip_header=1)     \n",
    "#     return ( data[:7,:], data[7:,:] )\n",
    "\n",
    "\n",
    "def slideAcc( acc, window=6 ):\n",
    "    # return a sliding window average of accuracy \n",
    "    N = len(acc)\n",
    "    wAcc = np.zeros((N))*np.nan\n",
    "    for i1 in range(window,N+1):      \n",
    "        a = acc[i1-window:i1]\n",
    "        #print i1, a\n",
    "        wAcc[i1-1] = nanmean(a) # get mean over window    \n",
    "    return wAcc\n",
    "\n",
    "\n",
    "def binToOrthog( data ):\n",
    "    # take a binary data matrix and convert to orthogonal representation    \n",
    "    N,d = data.shape # N,d : num samples, num features\n",
    "    dataOut = np.ones((N, 2*d))*np.nan  \n",
    "    \n",
    "    dataOut[:,::2] = data\n",
    "    dataOut[:,1::2] = 1-data    \n",
    "    '''        \n",
    "    for subIdx,x in enumerate(data):\n",
    "        for fIdx, xi in enumerate(x):\n",
    "            # get the f1,f2 features \n",
    "            if xi== 0:\n",
    "                f1= 1\n",
    "                f2= 0\n",
    "            else:\n",
    "                f1 =0\n",
    "                f2 =1\n",
    "            dataOut[subIdx,2*fIdx:2*fIdx+2] = f1,f2\n",
    "    '''\n",
    "    return dataOut\n"
   ]
  },
  {
   "cell_type": "code",
   "execution_count": null,
   "metadata": {
    "collapsed": false
   },
   "outputs": [],
   "source": []
  },
  {
   "cell_type": "code",
   "execution_count": null,
   "metadata": {
    "collapsed": false
   },
   "outputs": [],
   "source": []
  },
  {
   "cell_type": "code",
   "execution_count": 58,
   "metadata": {
    "collapsed": false
   },
   "outputs": [
    {
     "name": "stdout",
     "output_type": "stream",
     "text": [
      "Exemplar projection\n"
     ]
    },
    {
     "data": {
      "image/png": "[encoded data removed]",
      "text/plain": [
       "<matplotlib.figure.Figure at 0x1076dd410>"
      ]
     },
     "metadata": {},
     "output_type": "display_data"
    },
    {
     "name": "stdout",
     "output_type": "stream",
     "text": [
      "Ideal exemplar projection\n"
     ]
    },
    {
     "data": {
      "image/png": "[encoded data removed]",
      "text/plain": [
       "<matplotlib.figure.Figure at 0x1076dd310>"
      ]
     },
     "metadata": {},
     "output_type": "display_data"
    }
   ],
   "source": [
    "# init som\n",
    "# f = '4750.csv'\n",
    "\n",
    "\n",
    "fileDir = '../../KARS_reinf/Python/FeatIdealAdultBL/'\n",
    "\n",
    "# fileDir = '../../KARS_reinf/Python/FeatSeenBySubAdultBL/'\n",
    "\n",
    "# fileDir = '../../KARS_reinf/Python/FeatSeenBySubBaseline/'\n",
    "# fileDir = '../../KARS_reinf/Python/FeatSeenBySubLabel/'\n",
    "# fileDir = '../../KARS_reinf/Python/FeatSeenBySubSup/'\n",
    "files = glob( fileDir + '*.csv') #fileDir+'4760.csv'\n",
    "\n",
    "\n",
    "mod = SOM( files[1], learning_rate=0) #, predThresh=.9) \n",
    "mod.pertData(.7)\n",
    "mod.show()\n",
    "mod.showIdeal()\n",
    "\n",
    "\n",
    "\n"
   ]
  },
  {
   "cell_type": "code",
   "execution_count": null,
   "metadata": {
    "collapsed": false
   },
   "outputs": [],
   "source": []
  },
  {
   "cell_type": "code",
   "execution_count": 59,
   "metadata": {
    "collapsed": false
   },
   "outputs": [
    {
     "name": "stdout",
     "output_type": "stream",
     "text": [
      "Qnt error current Sample: 2.0258\n",
      "SOM/Child/True Label: B/A/A.\n",
      "Project prototype distances: \n",
      "[] []\n",
      "Iter 1\n",
      "Exemplar projection\n"
     ]
    },
    {
     "data": {
      "image/png": "[encoded data removed]",
      "text/plain": [
       "<matplotlib.figure.Figure at 0x106e4a910>"
      ]
     },
     "metadata": {},
     "output_type": "display_data"
    },
    {
     "name": "stdout",
     "output_type": "stream",
     "text": [
      "Ideal exemplar projection\n"
     ]
    },
    {
     "data": {
      "image/png": "[encoded data removed]",
      "text/plain": [
       "<matplotlib.figure.Figure at 0x108e70f10>"
      ]
     },
     "metadata": {},
     "output_type": "display_data"
    }
   ],
   "source": [
    "# train incrementally example \n",
    "\n",
    "somLab, childLab = mod.predOne( verbose=True)\n",
    "mod.trainOne()  #  don't use mod.trainOneGliozzi()\n",
    "print( 'Iter %d'% mod.dataIdx )\n",
    "\n",
    "mod.show(mod.dataIdx)\n",
    "mod.showIdeal()  # ideal exemplars on trained map\n",
    "\n",
    "\n"
   ]
  },
  {
   "cell_type": "code",
   "execution_count": 74,
   "metadata": {
    "collapsed": false,
    "scrolled": false
   },
   "outputs": [
    {
     "name": "stdout",
     "output_type": "stream",
     "text": [
      "Qnt error to start: 3.21\n"
     ]
    },
    {
     "data": {
      "image/png": "[encoded data removed]",
      "text/plain": [
       "<matplotlib.figure.Figure at 0x105bd7fd0>"
      ]
     },
     "metadata": {},
     "output_type": "display_data"
    }
   ],
   "source": [
    "# look at quanitzation error over learning\n",
    "\n",
    "mod = SOM( files[1], learning_rate=.05  ) #.05) #, predThresh=.9) \n",
    "mod.pertData(.2)\n",
    "print( 'Qnt error to start: %.2f' % ( mod.som.quantization_error(mod.data)))\n",
    "# mod.show()\n",
    "\n",
    "# for i1 in range( len(mod.data)):\n",
    "#     print( 'Qnt error after iter %d: %.2f' % ( i1,mod.som.quantization_error(mod.data)))\n",
    "#     mod.trainOne()  #  don't use mod.trainOneGliozzi()   \n",
    "# print( 'Iter %d'% mod.dataIdx )\n",
    "\n",
    "numTrain  = len(mod.data)/2\n",
    "Niters = 60\n",
    "qE = []\n",
    "qETrain = []\n",
    "for ep in range(Niters):\n",
    "    mod.som.train_random_once(mod.data[:numTrain])\n",
    "    # mod.som.train_random(mod.data, 2)\n",
    "    errorTest = mod.som.quantization_error(mod.data[numTrain:])\n",
    "    errorTrain = mod.som.quantization_error(mod.data[:numTrain])\n",
    "    qE.append(errorTest)\n",
    "    qETrain.append(errorTrain)\n",
    "#     print( 'Qnt error after epoch %d: %.2f' % (error ))\n",
    "\n",
    "fSize = 18\n",
    "plot( array(qE), linewidth=3, label= 'test')\n",
    "plot( array(qETrain), linewidth=3, label= 'train')\n",
    "ylabel( 'quant error', fontsize=fSize)\n",
    "xlabel( 'epoch', fontsize=fSize)\n",
    "legend()\n",
    "\n",
    "# figure()\n",
    "# mod.show(indices=np.arange(0, numTrain))\n",
    "# print( 'Train samples')\n",
    "# mod.show(indices=np.arange(numTrain,len(mod.data)))\n",
    "# print( 'Test samples')\n",
    "\n",
    "savefig( 'qntErrorByEpoch.png')"
   ]
  },
  {
   "cell_type": "code",
   "execution_count": 55,
   "metadata": {
    "collapsed": false
   },
   "outputs": [
    {
     "data": {
      "text/plain": [
       "52"
      ]
     },
     "execution_count": 55,
     "metadata": {},
     "output_type": "execute_result"
    }
   ],
   "source": [
    "len(mod.data)"
   ]
  },
  {
   "cell_type": "code",
   "execution_count": 8,
   "metadata": {
    "collapsed": false
   },
   "outputs": [
    {
     "name": "stdout",
     "output_type": "stream",
     "text": [
      "Training exemplar projection\n"
     ]
    },
    {
     "data": {
      "image/png": "[encoded data removed]",
      "text/plain": [
       "<matplotlib.figure.Figure at 0x4d704d0>"
      ]
     },
     "metadata": {},
     "output_type": "display_data"
    },
    {
     "name": "stdout",
     "output_type": "stream",
     "text": [
      "Qnt error no noise no train: 1.96\n",
      "Training exemplar projection\n"
     ]
    },
    {
     "name": "stderr",
     "output_type": "stream",
     "text": [
      "/usr/local/lib/python2.7/dist-packages/ipykernel/__main__.py:177: DeprecationWarning: axis != 0 for ndim == 1; this will raise an error in future versions of numpy\n",
      "/usr/local/lib/python2.7/dist-packages/ipykernel/__main__.py:178: DeprecationWarning: axis != 0 for ndim == 1; this will raise an error in future versions of numpy\n"
     ]
    },
    {
     "data": {
      "image/png": "[encoded data removed]",
      "text/plain": [
       "<matplotlib.figure.Figure at 0x3921250>"
      ]
     },
     "metadata": {},
     "output_type": "display_data"
    },
    {
     "data": {
      "image/png": "[encoded data removed]",
      "text/plain": [
       "<matplotlib.figure.Figure at 0x51e9110>"
      ]
     },
     "metadata": {},
     "output_type": "display_data"
    },
    {
     "name": "stdout",
     "output_type": "stream",
     "text": [
      "Qnt error after 1 epoch: 1.96\n"
     ]
    }
   ],
   "source": [
    "#####  Calculate learning curve (several initializations)\n",
    "\n",
    "\n",
    "f = files[1]\n",
    "removeProp = .6 #5\n",
    "lrnRt = .3\n",
    "iters = 5 # 30\n",
    "\n",
    "\n",
    "\n",
    "mod = SOM( f, learning_rate= lrnRt, predThresh=.7)\n",
    "\n",
    "\n",
    "# show untrained map\n",
    "mod.show()\n",
    "\n",
    "# show curves\n",
    "figure()\n",
    "mod.meanLrnCurves( iters = iters, removeProp = removeProp  )\n",
    "mod.showLearnCuves(window=6)\n",
    "\n",
    "#show trained map\n",
    "figure()\n",
    "mod.show()\n",
    "\n",
    "print( 'Qnt error after 1 epoch: %.2f'%  mod.som.quantization_error(mod.data))\n"
   ]
  },
  {
   "cell_type": "code",
   "execution_count": 74,
   "metadata": {
    "collapsed": false
   },
   "outputs": [
    {
     "name": "stderr",
     "output_type": "stream",
     "text": [
      "/usr/local/lib/python2.7/dist-packages/ipykernel/__main__.py:177: DeprecationWarning: axis != 0 for ndim == 1; this will raise an error in future versions of numpy\n",
      "/usr/local/lib/python2.7/dist-packages/ipykernel/__main__.py:178: DeprecationWarning: axis != 0 for ndim == 1; this will raise an error in future versions of numpy\n"
     ]
    },
    {
     "data": {
      "image/png": "[encoded data removed]",
      "text/plain": [
       "<matplotlib.figure.Figure at 0x557df10>"
      ]
     },
     "metadata": {},
     "output_type": "display_data"
    }
   ],
   "source": [
    "# make some nice larning curves (for encoding error)\n",
    "\n",
    "# self.somAcc\n",
    "\n",
    "\n",
    "\n",
    "f = files[1]\n",
    "lrnRt = .3\n",
    "iters = 50 # 30\n",
    "w = 6\n",
    "predThresh = .7\n",
    "\n",
    "\n",
    "\n",
    "# for saving figures\n",
    "outDir = 'SOMfigs/'\n",
    "if not os.path.exists( outDir ):\n",
    "    os.mkdir( outDir )         \n",
    "\n",
    "##-------------------------------------------------\n",
    "\n",
    "# loop through different removeProp (% encoding error)\n",
    "for removeProp in np.arange(.1,1, .2):                       \n",
    "    mod = SOM( f, learning_rate= lrnRt, predThresh=.7)\n",
    "    meanAcc  = mod.meanLrnCurves( iters = iters, removeProp = removeProp  )\n",
    "    # show them \n",
    "    plot( slideAcc( meanAcc, window=w), linewidth=3, label=('%.0f%% Encoding Err'% (100*removeProp)))\n",
    "# chance line    \n",
    "plot( np.arange(50), .5*ones(50 ), '--', linewidth=2, label='chance')    \n",
    "xlabel('Trial', fontsize=20)\n",
    "ylabel( 'Mean Accuracy', fontsize=20)\n",
    "title('SOM Accuracy by Encoding Error, LrnRate=0.3', fontsize=20)\n",
    "# show legend\n",
    "lgd = legend(bbox_to_anchor=(1.4, 1.01)) \n",
    "\n",
    "# save it  \n",
    "saveFile = outDir + 'removePropFig.png'\n",
    "savefig( saveFile, bbox_extra_artists=(lgd,), bbox_inches='tight')\n",
    "\n",
    "\n",
    "\n",
    "\n",
    "\n",
    "\n",
    "\n",
    "# mod.showLearnCuves(window=w)\n",
    "# for acc in allAcc:\n",
    "#     plot( acc)\n",
    "\n",
    "\n"
   ]
  },
  {
   "cell_type": "code",
   "execution_count": 75,
   "metadata": {
    "collapsed": false
   },
   "outputs": [
    {
     "name": "stderr",
     "output_type": "stream",
     "text": [
      "/usr/local/lib/python2.7/dist-packages/ipykernel/__main__.py:177: DeprecationWarning: axis != 0 for ndim == 1; this will raise an error in future versions of numpy\n",
      "/usr/local/lib/python2.7/dist-packages/ipykernel/__main__.py:178: DeprecationWarning: axis != 0 for ndim == 1; this will raise an error in future versions of numpy\n"
     ]
    },
    {
     "data": {
      "image/png": "[encoded data removed]",
      "text/plain": [
       "<matplotlib.figure.Figure at 0x5572e10>"
      ]
     },
     "metadata": {},
     "output_type": "display_data"
    }
   ],
   "source": [
    "##-------------------------------------------------\n",
    "# plot function of learning rate\n",
    "\n",
    "\n",
    "removeProp = .5\n",
    "\n",
    "\n",
    "\n",
    "figure()\n",
    "# loop through different learning rates % fixed encoding error\n",
    "\n",
    "for lrnRt in np.arange(.0,1.8, .3):                       \n",
    "    mod = SOM( f, learning_rate= lrnRt, predThresh=predThresh)\n",
    "    meanAcc  = mod.meanLrnCurves( iters = iters, removeProp = removeProp  )\n",
    "    # show them \n",
    "    plot( slideAcc( meanAcc, window=w), linewidth=3, label=('%.2f LRate'% (lrnRt)))\n",
    "# chance line    \n",
    "plot( np.arange(50), .5*ones(50 ), '--', linewidth=2, label='chance')    \n",
    "xlabel('Trial')\n",
    "ylabel( 'Mean Accuracy')\n",
    "title('Accuracy by Learn Rate, EncError=50%')\n",
    "# show legend\n",
    "lgd = legend(bbox_to_anchor=(1.4, 1.01)) \n",
    "\n",
    "# save it  \n",
    "saveFile = outDir + 'lrnRate.png'\n",
    "savefig( saveFile, bbox_extra_artists=(lgd,), bbox_inches='tight')\n"
   ]
  },
  {
   "cell_type": "code",
   "execution_count": 36,
   "metadata": {
    "collapsed": false
   },
   "outputs": [
    {
     "data": {
      "text/plain": [
       "array([[[ 0.00059846,  0.28611786,  0.40026356, -0.01076364, -0.27258756,\n",
       "          0.30960863, -0.187273  , -0.06978212, -0.37621138,  0.05678552,\n",
       "          0.35147815,  0.37956953,  0.03608123, -0.48336443, -0.4603582 ,\n",
       "         -0.1172569 ],\n",
       "        [ 0.3966566 ,  0.47193544, -0.44827782,  0.05208762,  0.22396925,\n",
       "         -0.15604536,  0.45294991, -0.35228973, -0.48060518, -0.20188839,\n",
       "         -0.23903054,  0.3898486 ,  0.11280556,  0.32193314, -0.12283211,\n",
       "         -0.43876185],\n",
       "        [-0.1920905 ,  0.45443985, -0.35723444,  0.23985054,  0.40740372,\n",
       "          0.28998087, -0.45952628, -0.02661096,  0.17367305, -0.16341353,\n",
       "          0.39313709,  0.06256011, -0.27353934, -0.4592659 , -0.48110083,\n",
       "         -0.08252909],\n",
       "        [-0.08534844, -0.34523955,  0.31010814, -0.14480452,  0.46932012,\n",
       "          0.35072212,  0.10625081, -0.12556543, -0.29299838, -0.20442377,\n",
       "         -0.19243726,  0.07955131,  0.43573334,  0.20110366,  0.02713259,\n",
       "          0.12442808],\n",
       "        [-0.34263015,  0.28826893, -0.48229382, -0.26600154, -0.45237534,\n",
       "         -0.40281835, -0.03947417,  0.29062664, -0.02104531, -0.30013749,\n",
       "         -0.19586996, -0.43012821,  0.00242593, -0.11936249,  0.48573056,\n",
       "          0.23463725]],\n",
       "\n",
       "       [[ 0.37719777, -0.45908583, -0.41610897,  0.41600242,  0.0954757 ,\n",
       "         -0.48535142,  0.01470535,  0.00334914,  0.10136081, -0.18112795,\n",
       "         -0.10557566,  0.01424076, -0.20716786, -0.33388793,  0.33665095,\n",
       "         -0.34345591],\n",
       "        [-0.34302113, -0.22157695, -0.30405445, -0.46067111,  0.24154609,\n",
       "         -0.08905426,  0.40397049, -0.2579369 , -0.10897588,  0.44833512,\n",
       "         -0.05644736,  0.44406779, -0.43825985,  0.32170779, -0.02492017,\n",
       "          0.36100698],\n",
       "        [-0.47253217,  0.45439131,  0.23305614,  0.4832807 ,  0.48716166,\n",
       "          0.35662516, -0.31903914,  0.33553025, -0.49463821, -0.02913472,\n",
       "          0.46861335,  0.46416252, -0.28594647, -0.29395065, -0.25870069,\n",
       "         -0.1704628 ],\n",
       "        [-0.44309479,  0.30259857,  0.3292417 ,  0.40117845,  0.38996781,\n",
       "         -0.34259932, -0.37100332, -0.22630905, -0.1951526 , -0.30477936,\n",
       "         -0.15927594, -0.29594131, -0.399584  ,  0.23755227,  0.17227581,\n",
       "          0.04328009],\n",
       "        [-0.1488751 , -0.02699938,  0.17691772, -0.18569218,  0.32218048,\n",
       "          0.27367319,  0.40648327, -0.35615141, -0.25881188, -0.08779842,\n",
       "          0.45523326, -0.49446134, -0.0373156 ,  0.23785625, -0.34274026,\n",
       "         -0.38875537]],\n",
       "\n",
       "       [[ 0.27944846, -0.20072269,  0.14100272, -0.34525907, -0.37424986,\n",
       "         -0.18059611, -0.19184855, -0.13578477, -0.41572193,  0.48185447,\n",
       "          0.32706973,  0.09257644, -0.29732945, -0.40265157, -0.45831901,\n",
       "         -0.0103476 ],\n",
       "        [ 0.14362883, -0.4072955 ,  0.20383836,  0.23662922,  0.08966571,\n",
       "         -0.31121103,  0.12173875, -0.20126517,  0.16077081,  0.06851341,\n",
       "          0.28084005,  0.45841819, -0.12405467,  0.1161289 ,  0.23033645,\n",
       "         -0.49222529],\n",
       "        [-0.36501984, -0.41086708,  0.47574744,  0.31814933, -0.38367253,\n",
       "         -0.18193872,  0.40408898, -0.43729105,  0.08985491, -0.3739248 ,\n",
       "         -0.09922812,  0.33522173,  0.14383181,  0.15688599,  0.47290777,\n",
       "          0.43199571],\n",
       "        [-0.07443249,  0.06066031,  0.07552604,  0.00215386, -0.01608959,\n",
       "          0.38766732,  0.11407996, -0.00660096, -0.31563778,  0.28401806,\n",
       "          0.11479874,  0.36250674, -0.31186962, -0.03662672,  0.26842661,\n",
       "         -0.16131882],\n",
       "        [-0.139412  , -0.28083637,  0.31949834,  0.44950416, -0.04221392,\n",
       "         -0.2066413 ,  0.09714597, -0.2834113 ,  0.13828007,  0.44714773,\n",
       "          0.07349884,  0.43010447,  0.43037032,  0.07352818, -0.40684222,\n",
       "          0.39368247]],\n",
       "\n",
       "       [[-0.19196971, -0.13532582,  0.114946  ,  0.39108783, -0.31124803,\n",
       "         -0.00445906, -0.10017695, -0.18497291, -0.30794241,  0.15091767,\n",
       "         -0.28850695, -0.18617584,  0.01402416,  0.43470284,  0.30382526,\n",
       "         -0.39086216],\n",
       "        [ 0.47628695, -0.45516708,  0.22760711,  0.08959385, -0.42650592,\n",
       "         -0.47175239, -0.04385879,  0.0609223 ,  0.26455104, -0.29240558,\n",
       "          0.34458419,  0.26169438,  0.04819212, -0.48066834,  0.12269255,\n",
       "          0.23278435],\n",
       "        [-0.27829946,  0.26578832,  0.06200147, -0.05456778, -0.33614672,\n",
       "          0.3731786 ,  0.47094589, -0.15608747,  0.00710651,  0.27232698,\n",
       "          0.47092197,  0.07948685,  0.49543818,  0.24313692, -0.40591071,\n",
       "          0.45982219],\n",
       "        [ 0.0874179 ,  0.45199029,  0.20825447, -0.0137156 , -0.0470835 ,\n",
       "         -0.287697  , -0.3793937 , -0.04267249,  0.35152856, -0.02705973,\n",
       "         -0.38721965,  0.21113625, -0.47135902,  0.19174284,  0.49759699,\n",
       "          0.03294934],\n",
       "        [ 0.0815747 ,  0.47256262,  0.24232068,  0.41322475,  0.38129952,\n",
       "         -0.44388249,  0.31088582, -0.19749364, -0.00759814, -0.26572762,\n",
       "          0.26367232,  0.40217616, -0.17671098,  0.21959264, -0.38335189,\n",
       "         -0.42819903]],\n",
       "\n",
       "       [[-0.40753218,  0.26231962,  0.12367363,  0.33560702, -0.43047038,\n",
       "         -0.39515009, -0.29729918, -0.02591713,  0.43852599,  0.29034451,\n",
       "         -0.4109277 ,  0.06909656,  0.08596202, -0.104357  ,  0.0681821 ,\n",
       "          0.20525922],\n",
       "        [ 0.34047342, -0.18261959,  0.23641212,  0.43452936, -0.35290403,\n",
       "          0.0610781 , -0.30611697,  0.01218427, -0.09979622, -0.0539518 ,\n",
       "         -0.06843611,  0.07365216,  0.29183856, -0.37176489, -0.01139966,\n",
       "         -0.14279415],\n",
       "        [-0.35615235,  0.32355779,  0.04378513, -0.31548025, -0.02651026,\n",
       "         -0.05333916, -0.14919532,  0.00591432,  0.34889223,  0.36746697,\n",
       "         -0.47853307,  0.42669133, -0.09081172,  0.49837065, -0.10352151,\n",
       "          0.34211549],\n",
       "        [-0.28022498, -0.2793554 ,  0.01800604,  0.31471353, -0.46681576,\n",
       "          0.16382835, -0.40414067, -0.17667299,  0.49103162,  0.00555393,\n",
       "          0.40656109,  0.25010626, -0.11928327, -0.48888733, -0.33671047,\n",
       "         -0.22138887],\n",
       "        [-0.11649871,  0.0008993 , -0.38106884, -0.35256649,  0.34560481,\n",
       "          0.35525582, -0.10582097,  0.24629262,  0.39134071,  0.26959016,\n",
       "         -0.45571928, -0.09357995, -0.08919048, -0.20869965, -0.46704391,\n",
       "          0.28856917]],\n",
       "\n",
       "       [[ 0.15485808,  0.34593318,  0.26686324,  0.41459682,  0.02619483,\n",
       "          0.37669856, -0.31158448, -0.42610875, -0.22523847,  0.00937943,\n",
       "         -0.24694047, -0.35183388,  0.18186056, -0.24172704, -0.49954962,\n",
       "         -0.20950422],\n",
       "        [-0.29775433, -0.15921956, -0.1347632 ,  0.14686606, -0.27796792,\n",
       "          0.33859114,  0.04765571,  0.08740112,  0.47376301, -0.31014432,\n",
       "          0.4521659 , -0.02834084, -0.38171662, -0.17825601,  0.37056295,\n",
       "          0.0198444 ],\n",
       "        [-0.46011459, -0.41348285,  0.4651608 ,  0.10882057, -0.09342266,\n",
       "          0.11812867, -0.01916081, -0.32374398, -0.19686744, -0.45649903,\n",
       "         -0.26827022, -0.27484578, -0.4244576 , -0.49852929, -0.19207773,\n",
       "         -0.20230315],\n",
       "        [-0.34550547,  0.44431581, -0.46819694,  0.01663028,  0.04084203,\n",
       "         -0.14532627,  0.45551153, -0.2751065 ,  0.27933126,  0.02841684,\n",
       "          0.41971124,  0.43980384,  0.20073795, -0.16826694,  0.4661312 ,\n",
       "          0.19606575],\n",
       "        [-0.07811076,  0.0223286 , -0.01207403, -0.34697036,  0.23214744,\n",
       "          0.05439519, -0.39319122, -0.41638316, -0.39786832,  0.30912684,\n",
       "         -0.46894148, -0.20008914,  0.04127678,  0.26728173,  0.28234609,\n",
       "         -0.13565184]]])"
      ]
     },
     "execution_count": 36,
     "metadata": {},
     "output_type": "execute_result"
    }
   ],
   "source": [
    "# lets now mess with learning rate \n",
    "\n",
    "def pertData( self, p=.2, verbose=False):\n",
    "    if verbose:\n",
    "        print( 'Making %.2f percent of inputs 0.0' %(p*100))\n",
    "    # randomly get proportion of indices to switch, then replace\n",
    "    p = max( min(p,1), 0 ) # set in range [0,1]\n",
    "    \n",
    "    sh = self.data.shape\n",
    "    noiseIndex = np.random.binomial(1,p,(sh[0], sh[1]-1 ) )  #ones at p proportion of samples\n",
    "    self.data[noiseIndex ==1 ] = 0\n",
    "    \n",
    "    \n",
    "mod = SOM( f)    \n",
    "pertData( mod)\n",
    "# mod.data\n",
    "# mod.som.weights\n",
    "    "
   ]
  },
  {
   "cell_type": "code",
   "execution_count": 31,
   "metadata": {
    "collapsed": false
   },
   "outputs": [],
   "source": [
    "##  fit learning curve to participants\n",
    "\n",
    "import scipy.optimize as opt\n",
    "\n",
    "\n",
    "f = files[2]\n",
    "iters = 30\n",
    "\n",
    "def subModError( x0):\n",
    "    lrnRt = 3*x0[0]\n",
    "    removeProp = 3*x0[1]\n",
    "    \n",
    "    \n",
    "    mod = SOM( f, learning_rate= lrnRt )\n",
    "    mod.meanLrnCurves( iters = iters, removeProp = removeProp  )\n",
    "    \n",
    "    # return norm or error divided my length\n",
    "    error = norm(mod.somAcc[ ~np.isnan(mod.acc)]  - mod.acc[~np.isnan(  mod.acc)])/np.sum( np.sum( ~np.isnan(mod.acc))) \n",
    "    print('learn rate: %.4f, removed prop: %.4f, error: %.4f' %( lrnRt, removeProp, error) )\n",
    "    return error\n",
    "    \n",
    "# subModError( array([.2,.5]))\n",
    "\n",
    "\n",
    "# res = opt.minimize(subModError, [.1,.1], method= 'powell',  #'nelder-mead',\n",
    "#                         options={'xtol': 1e-3, 'disp': True} )"
   ]
  },
  {
   "cell_type": "code",
   "execution_count": 32,
   "metadata": {
    "collapsed": false
   },
   "outputs": [],
   "source": [
    "# 3*res.x"
   ]
  },
  {
   "cell_type": "code",
   "execution_count": 33,
   "metadata": {
    "collapsed": false
   },
   "outputs": [
    {
     "name": "stdout",
     "output_type": "stream",
     "text": [
      "../../KARS_reinf/Python/FeatIdealAdultBL/\n",
      "SOM and participants agee M+SD: 0.73 +- 0.44 \n"
     ]
    },
    {
     "name": "stderr",
     "output_type": "stream",
     "text": [
      "/usr/local/lib/python2.7/dist-packages/ipykernel/__main__.py:177: DeprecationWarning: axis != 0 for ndim == 1; this will raise an error in future versions of numpy\n",
      "/usr/local/lib/python2.7/dist-packages/ipykernel/__main__.py:178: DeprecationWarning: axis != 0 for ndim == 1; this will raise an error in future versions of numpy\n"
     ]
    }
   ],
   "source": [
    "# how well do SOMs and participants agree in decisions?\n",
    "#      train incrementally and combine all participant scores\n",
    "\n",
    "# def allFilesPred(  ):\n",
    "# fileDir = '../../KARS_reinf/Python/FeatSeenBySubAdultBL/'\n",
    "# fileDir = '../../KARS_reinf/Python/FeatSeenBySubBaseline/'\n",
    "# fileDir = '../../KARS_reinf/Python/FeatSeenBySubLabel/'\n",
    "# fileDir = '../../KARS_reinf/Python/FeatSeenBySubSup/'\n",
    "\n",
    "\n",
    "files = glob( fileDir + '*.csv') #fileDir+'4760.csv'\n",
    "agVec = np.array([])\n",
    "for idx,f in enumerate(files):  \n",
    "    mod = SOM( f, learning_rate=0.2 ) #'4750.csv'\n",
    "    agree =  mod.predAll( verbose=False, skip=0, reps=1) \n",
    "    \n",
    "    # compile how many times SOM and infant agree\n",
    "    agVec = np.append( agVec, agree)             \n",
    "\n",
    "print fileDir\n",
    "print( 'SOM and participants agee M+SD: %.2f +- %.2f '% (nanmean( agVec), nanstd(agVec))  )\n",
    "\n"
   ]
  },
  {
   "cell_type": "code",
   "execution_count": 37,
   "metadata": {
    "collapsed": false
   },
   "outputs": [],
   "source": [
    "# Optimize learning rate to maximize SOM/infant prediction correlation\n",
    "\n",
    "def allFilesPred( x0 ): # learning rate\n",
    "    fileDir = '../../KARS_reinf/Python/FeatSeenBySubBaseline/'\n",
    "    files = glob( fileDir + '*.csv') #fileDir+'4760.csv'\n",
    "    agVec = np.array([])\n",
    "    for idx,f in enumerate(files):\n",
    "        #print f\n",
    "        mod = SOM( f, learning_rate=x0 ) # 0.3\n",
    "        agree =  mod.predAll( verbose=False, skip=8, reps=3) \n",
    "        # compile how many times SOM and infant agree\n",
    "        agVec = np.append( agVec, agree)             \n",
    "        \n",
    "    print(fileDir)\n",
    "    print( 'Learning rate: %.2f' % x0)        \n",
    "    print( 'SOM and participants agee M+SD: %.3f +- %.3f '% (nanmean( agVec), nanstd(agVec))  )\n",
    "#     return nanmean( agVec)\n",
    "\n",
    "\n",
    "# for lrnRt in np.arange(.1,2,.2):\n",
    "# allFilesPred( lrnRt) \n",
    "    \n",
    "# x = fmin( "
   ]
  },
  {
   "cell_type": "code",
   "execution_count": 38,
   "metadata": {
    "collapsed": false
   },
   "outputs": [],
   "source": [
    "# f"
   ]
  },
  {
   "cell_type": "code",
   "execution_count": 39,
   "metadata": {
    "collapsed": false
   },
   "outputs": [
    {
     "name": "stdout",
     "output_type": "stream",
     "text": [
      "Training exemplar projection\n"
     ]
    },
    {
     "data": {
      "image/png": "[encoded data removed]",
      "text/plain": [
       "<matplotlib.figure.Figure at 0x5406450>"
      ]
     },
     "metadata": {},
     "output_type": "display_data"
    },
    {
     "name": "stdout",
     "output_type": "stream",
     "text": [
      "Ideal exemplar projection\n"
     ]
    },
    {
     "data": {
      "image/png": "[encoded data removed]",
      "text/plain": [
       "<matplotlib.figure.Figure at 0x5406b90>"
      ]
     },
     "metadata": {},
     "output_type": "display_data"
    },
    {
     "name": "stdout",
     "output_type": "stream",
     "text": [
      "Class separation: 10.62\n"
     ]
    }
   ],
   "source": [
    "# how to use\n",
    "# fileDir = '../../KARS_reinf/Python/FeatSeenBySub/'\n",
    "\n",
    "mod = SOM( '4750.csv', learning_rate=0.3 ) #fileDir+'4760.csv')\n",
    "mod.train(20)\n",
    "# mod.trainOneGliozzi()\n",
    "mod.show()\n",
    "\n",
    "# print( 'SOM with infant exemplars')\n",
    "mod.showIdeal()\n",
    "print( 'Class separation: %.2f' %mod.separation())\n",
    "\n",
    "# print mod.acc\n",
    "# print nanmean( mod.acc)\n"
   ]
  },
  {
   "cell_type": "code",
   "execution_count": 16,
   "metadata": {
    "collapsed": false
   },
   "outputs": [],
   "source": [
    "# import sklearn"
   ]
  },
  {
   "cell_type": "code",
   "execution_count": 24,
   "metadata": {
    "collapsed": false
   },
   "outputs": [
    {
     "data": {
      "text/plain": [
       "12.426039644253821"
      ]
     },
     "execution_count": 24,
     "metadata": {},
     "output_type": "execute_result"
    }
   ],
   "source": [
    "# run the model fitting N times, get mean class separation\n",
    "N = 20\n",
    "sepList = np.arange(N,dtype=float)\n",
    "for i1 in range(N):\n",
    "    mod = SOM('4750.csv')\n",
    "    mod.train(20)\n",
    "    sepList[i1] = mod.separation()\n",
    "\n",
    "sepList.mean()\n",
    "# mod.show()\n",
    "# mod.showIdeal()\n"
   ]
  },
  {
   "cell_type": "code",
   "execution_count": 413,
   "metadata": {
    "collapsed": false
   },
   "outputs": [],
   "source": []
  },
  {
   "cell_type": "code",
   "execution_count": 414,
   "metadata": {
    "collapsed": false
   },
   "outputs": [
    {
     "name": "stdout",
     "output_type": "stream",
     "text": [
      "Participant 6375_sra, Category separation: 15.519\n",
      "Participant 6378_sra, Category separation: 15.538\n",
      "Participant 6474_sra, Category separation: 15.630\n",
      "Participant 6479_sra, Category separation: 15.851\n",
      "Participant 6519_sra, Category separation: 15.664\n",
      "Participant 6523_sra, Category separation: 15.801\n",
      "Participant 6528_sra, Category separation: 15.821\n",
      "Participant 6530_sra, Category separation: 15.841\n",
      "Participant 6736_sra, Category separation: 16.418\n"
     ]
    }
   ],
   "source": [
    "# loop through files and train up SOMs, measure class separation\n",
    "# fileDir = '../../KARS_reinf/Python/FeatSeenBySub/'\n",
    "resultFile = 'catSeparation.txt'\n",
    "fOut = open(resultFile, 'w')\n",
    "fOut.write( 'subID\\tcatSep\\n')\n",
    "\n",
    "\n",
    "files= glob( fileDir+'*.csv')\n",
    "N = 50 # number models to generate per participant\n",
    "iters = 30 # number training iterations\n",
    "\n",
    "for f in files:\n",
    "    participant = f.split('/')[-1].split('.')[0]\n",
    "    sepList = np.arange(N,dtype=float) # init list\n",
    "    for i1 in range(N):            \n",
    "        mod = SOM( f)\n",
    "        mod.train(iters)\n",
    "        sepList[i1] = mod.separation()\n",
    "    # output result\n",
    "    fOut.write( '%s\\t%.4f\\n'%(participant, sepList.mean()) )\n",
    "    print( 'Participant %s, Category separation: %.3f' % (participant, sepList.mean()) )\n",
    "\n",
    "    \n",
    "fOut.close()"
   ]
  },
  {
   "cell_type": "code",
   "execution_count": 415,
   "metadata": {
    "collapsed": false
   },
   "outputs": [
    {
     "data": {
      "text/plain": [
       "0.01798497020287171"
      ]
     },
     "execution_count": 415,
     "metadata": {},
     "output_type": "execute_result"
    }
   ],
   "source": [
    "r.random()"
   ]
  },
  {
   "cell_type": "code",
   "execution_count": 416,
   "metadata": {
    "collapsed": false
   },
   "outputs": [],
   "source": [
    "#  cat catSeparation.txt\n"
   ]
  },
  {
   "cell_type": "code",
   "execution_count": 417,
   "metadata": {
    "collapsed": false
   },
   "outputs": [],
   "source": [
    "# x = arange(5)\n",
    "# x[:0]"
   ]
  },
  {
   "cell_type": "code",
   "execution_count": 418,
   "metadata": {
    "collapsed": false
   },
   "outputs": [
    {
     "data": {
      "text/plain": [
       "True"
      ]
     },
     "execution_count": 418,
     "metadata": {},
     "output_type": "execute_result"
    }
   ],
   "source": [
    "20 <np.inf"
   ]
  },
  {
   "cell_type": "code",
   "execution_count": 418,
   "metadata": {
    "collapsed": false
   },
   "outputs": [],
   "source": []
  }
 ],
 "metadata": {
  "kernelspec": {
   "display_name": "Python 2",
   "language": "python",
   "name": "python2"
  },
  "language_info": {
   "codemirror_mode": {
    "name": "ipython",
    "version": 2
   },
   "file_extension": ".py",
   "mimetype": "text/x-python",
   "name": "python",
   "nbconvert_exporter": "python",
   "pygments_lexer": "ipython2",
   "version": "2.7.10"
  }
 },
 "nbformat": 4,
 "nbformat_minor": 0
}
