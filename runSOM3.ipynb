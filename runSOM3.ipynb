{
 "cells": [
  {
   "cell_type": "code",
   "execution_count": 1,
   "metadata": {
    "collapsed": false
   },
   "outputs": [
    {
     "name": "stdout",
     "output_type": "stream",
     "text": [
      "Populating the interactive namespace from numpy and matplotlib\n"
     ]
    }
   ],
   "source": [
    "%load_ext autoreload\n",
    "%autoreload 2\n",
    "\n",
    "from minisom import MiniSom\n",
    "import random as r\n",
    "import copy as cop\n",
    "import os\n",
    "import numpy as np\n",
    "\n",
    "from glob import glob\n",
    "# import matplotlib as plt\n",
    "\n",
    "\n",
    "%pylab inline\n"
   ]
  },
  {
   "cell_type": "code",
   "execution_count": 2,
   "metadata": {
    "collapsed": false
   },
   "outputs": [],
   "source": [
    "# MiniSom.winner()"
   ]
  },
  {
   "cell_type": "code",
   "execution_count": 3,
   "metadata": {
    "collapsed": false
   },
   "outputs": [],
   "source": [
    "class SOM:\n",
    "    def pertWeights( self, scale=.2 ):     \n",
    "        print( 'Adding noise to SOM weights')\n",
    "        pertAmount = scale*(np.random.random_sample( self.som.weights.shape)-.5)\n",
    "        self.som.weights = self.som.weights + pertAmount\n",
    "    \n",
    "    def pertData( self, p=.2, verbose=False):\n",
    "        if verbose:\n",
    "            print( 'Making %.2f percent of inputs 0.0' %(p*100))\n",
    "        # randomly get proportion of indices to switch, then replace\n",
    "        p = max( min(p,1), 0 ) # set in range [0,1]\n",
    "        \n",
    "   \n",
    "#         if skipCols == None:\n",
    "        \n",
    "#         else:\n",
    "#         sh = self.data.shape\n",
    "#         noiseIndex = np.random.binomial(1,p,(sh[0], sh[1]-1 ) ) \n",
    "            \n",
    "        noiseIndex = np.random.binomial(1,p, self.data.shape)  #ones at p proportion of samples\n",
    "        self.data[noiseIndex ==1 ] = 0\n",
    "        #return data\n",
    "    \n",
    "    # plot the thing\n",
    "    def show( self, maxIdx=None, indices=None):\n",
    "        print( 'Exemplar projection')\n",
    "        som = self.som\n",
    "        if maxIdx == None:\n",
    "            maxIdx = len(self.data)            \n",
    "        if indices ==None:            \n",
    "            data= self.data[0:maxIdx]\n",
    "            target = self.target\n",
    "        else:\n",
    "            data= self.data[indices]\n",
    "            target= self.target[indices]\n",
    "            \n",
    "        bone()\n",
    "        pcolor(som.distance_map().T) # plotting the distance map as background\n",
    "        colorbar()\n",
    "        t = zeros(len(target),dtype=int)\n",
    "        t[target == 'A'] = 0\n",
    "        t[target == 'B'] = 1\n",
    "        # use different colors and markers for each label\n",
    "        markers = ['o','s','D']\n",
    "        colors = ['r','g','b']\n",
    "        for cnt,xx in enumerate(data):\n",
    "            w = som.winner(xx) # getting the winner\n",
    "            # palce a marker on the winning position for the sample xx\n",
    "            plot(w[0]+.5,w[1]+.5,markers[t[cnt]],markerfacecolor='None',\n",
    "                markeredgecolor=colors[t[cnt]],markersize=12,markeredgewidth=2)\n",
    "        axis([0,som.weights.shape[0],0,som.weights.shape[1]])\n",
    "        show() # show the figure\n",
    "        \n",
    "    def showIdeal( self):\n",
    "        print( 'Ideal exemplar projection')\n",
    "        som = self.som\n",
    "        data= self.ideal\n",
    "        target = self.idealTarget\n",
    "        bone()\n",
    "        pcolor(som.distance_map().T) # plotting the distance map as background\n",
    "        colorbar()\n",
    "        t = zeros(len(target),dtype=int)\n",
    "        t[target == 'A'] = 0\n",
    "        t[target == 'B'] = 1\n",
    "        # use different colors and markers for each label\n",
    "        markers = ['o','s','D']\n",
    "        colors = ['r','g','b']\n",
    "        for cnt,xx in enumerate(data):\n",
    "            w = som.winner(xx) # getting the winner\n",
    "            # palce a marker on the winning position for the sample xx\n",
    "            plot(w[0]+.5,w[1]+.5,markers[t[cnt]],markerfacecolor='None',\n",
    "                markeredgecolor=colors[t[cnt]],markersize=12,markeredgewidth=2)\n",
    "        axis([0,som.weights.shape[0],0,som.weights.shape[1]])\n",
    "        show() # show the figure        \n",
    "        \n",
    "    def train(self, iters = 30):\n",
    "        self.som.train_random(self.data,iters)\n",
    "#         print( 'Post training quantization error: %f' % self.som.quantization_error(self.data))\n",
    "\n",
    "    \"\"\"def trainOneGliozzi(self):\n",
    "        # using gliozzi thing\n",
    "        # init learning params\n",
    "        self.som.sigma_gliozzi = linspace(1.2, 0.8, num=len(self.data))\n",
    "        self.som._init_T(len(self.data))   \n",
    "        \n",
    "        #  will use the data idx to slowly reduce sigma, and learning rate in update function\n",
    "        self.som.update_gliozzi(self.data[self.dataIdx],self.som.winner(self.data[self.som.dataIdx]), self.som.dataIdx)\n",
    "\n",
    "        # update training index (for next time)\n",
    "        self.dataIdx += 1\n",
    "        if self.dataIdx >= len(self.data):\n",
    "            self.dataIdx = 0 \n",
    "    \"\"\"\n",
    "    \n",
    "    def trainOne(self ):\n",
    "        \"\"\" Trains the SOM picking samples from data one at a time \n",
    "            featIdx specifies subset of features to use for finding BMU\n",
    "        \"\"\"\n",
    "        #self.running = True        \n",
    "        d = self.dataIdx  # data index to train\n",
    "        self.som._init_T(len(self.data))      \n",
    "        self.som.update( self.data[d], self.som.winner(self.data[d]), d)  # update\n",
    "        #self.running = False\n",
    "        \n",
    "        # update training index (for next time)\n",
    "        self.dataIdx += 1\n",
    "        if self.dataIdx >= len(self.data):\n",
    "            self.dataIdx = 0        \n",
    "\n",
    "    def predOne(self, verbose=False):\n",
    "        # Do the next one prediction\n",
    "        \n",
    "        # get BMU index and weight \n",
    "        x = self.data[self.dataIdx]        \n",
    "        bmuW = self.som.weights[self.som.winner(x)]\n",
    "        protDist = []\n",
    "        protLab = []\n",
    "        \n",
    "        if self.predMode == 'prot':\n",
    "            # find distance to all prototypes  \n",
    "            print('Decision based on prot')\n",
    "            for prot,label in self.getProt():                       \n",
    "                #protMapped = self.som.weights[self.som.winner(prot) ]\n",
    "                protDist.append( norm( bmuW- prot )) # self.ideal[ idx ])) \n",
    "                protLab.append( label )             #  self.idealTarget[idx] )     \n",
    "\n",
    "            # SOM decision  ( random if not close to any prototoype or first trial)\n",
    "            if len( protDist ) >0:                       \n",
    "                somLab = protLab[ argmin( protDist ) ]  # nearest category             \n",
    "                # make random if not like either prototype\n",
    "                if min(protDist) > self.predThresh:\n",
    "                    somLab = ( 'A' if r.random() > .5 else 'B' )                \n",
    "            else: # random on first trial\n",
    "                somLab = ( 'A' if r.random() > .5 else 'B' )\n",
    "                \n",
    "        # decide based on the value of 'side' feature        \n",
    "        elif  self.predMode == 'side':      \n",
    "            print( 'Decision based on side feature')\n",
    "            # find distance to all prototypes (for just the side feature)                   \n",
    "            for prot,label in self.getProt(idealProt = True ):                       \n",
    "                protDist.append( norm( bmuW[-2:]- prot[-2:] )) # self.ideal[ idx ])) \n",
    "                protLab.append( label )             #  self.idealTarget[idx] )     \n",
    "            # SOM decision  ( random if not close to any prototoype or first trial)\n",
    "            if len( protDist ) >0:                       \n",
    "                somLab = protLab[ argmin( protDist ) ]  # nearest category             \n",
    "                # make random if not like either prototype\n",
    "                if min(protDist) > self.predThresh:\n",
    "                    somLab = ( 'A' if r.random() > .5 else 'B' )                \n",
    "            else: # random on first trial\n",
    "                somLab = ( 'A' if r.random() > .5 else 'B' )           \n",
    "            \n",
    "        else:\n",
    "            print ('Invalid prediction mode entered.  Should be prot or side')\n",
    "        \n",
    "        # update SOM accuracy\n",
    "        trueLab = self.target[self.dataIdx]\n",
    "        self.somAcc[self.dataIdx] = (1 if somLab==trueLab else 0 )\n",
    "        \n",
    "        # get child label\n",
    "        #  somAcc = (1 if predLab == trueLab else 0 )\n",
    "        if self.acc[self.dataIdx ] == 1: # if accurate\n",
    "            childLab = trueLab\n",
    "        elif np.isnan(self.acc[self.dataIdx ]): # if NaN\n",
    "            childLab = 'N'\n",
    "        else: # if wrong\n",
    "            childLab = 'AB'.strip(trueLab) \n",
    "    \n",
    "        if verbose:\n",
    "            print( 'Qnt error current Sample: %.4f' % norm(x- bmuW) )            \n",
    "            print( 'SOM/Child/True Label: %s/%s/%s.' % (  somLab, childLab, trueLab)  )\n",
    "            print( 'Project prototype distances: ' )\n",
    "            print protDist, protLab\n",
    "        return ( somLab, childLab ) \n",
    "\n",
    "    def predAll(self, reset = True, skip =0, verbose= True, reps=1 ):\n",
    "        \n",
    "        fullSomList = np.array([])\n",
    "        fullChildList = np.array([])\n",
    "        \n",
    "        for numRepetitions in range(reps): # repeat for random initialization of som            \n",
    "            # initialize som weights, and data index if reset=True\n",
    "            if reset:\n",
    "                self.initWeights()                \n",
    "                self.dataIdx = 0 # to index what data sample for one shot learning\n",
    "            \n",
    "            # init for storing results\n",
    "            somList = np.chararray(len(self.data)) #*np.nan\n",
    "            childList = np.chararray(len(self.data)) #*np.nan\n",
    "            # go through each trial and predict\n",
    "            for idx in range(len(self.data)):          \n",
    "                #predict\n",
    "                somLab, childLab = self.predOne()\n",
    "                somList[idx] = somLab\n",
    "                childList[idx] = childLab\n",
    "                # train\n",
    "                self.trainOne()  #  don't use mod.trainOneGliozzi()\n",
    "\n",
    "            # deal with missing values and skip first if requested\n",
    "            somList = somList[skip:]  # kick out first skip samples\n",
    "            childList = childList[skip:] # kick out first skip samples        \n",
    "            somList = somList[ childList != 'N'] # N for nan\n",
    "            childList = childList[ childList != 'N']\n",
    "            \n",
    "            # store in the big list\n",
    "            fullSomList = np.concatenate( (fullSomList, somList), axis=1)\n",
    "            fullChildList = np.concatenate( (fullChildList, childList), axis=1)\n",
    "        \n",
    "        # get how well model does\n",
    "        if len(fullChildList) >0:\n",
    "            scAgreement = float(np.sum( fullSomList==fullChildList))/len(fullSomList)\n",
    "        else:\n",
    "            scAgreement = np.nan\n",
    "            \n",
    "        if verbose:\n",
    "            print 'SOM pred: ', fullSomList\n",
    "            print 'Inf pred: ', fullChildList            \n",
    "            print('SOM and infant agree %.2f of time' % scAgreement )\n",
    "        return fullSomList == fullChildList\n",
    "\n",
    "    \n",
    "    \n",
    "    def separation( self):\n",
    "        \"\"\"return the norm of the difference vector between the mean of projected idealized class\n",
    "            A exemplars, and class B exemplars.  Essentially, the separation between those classes \n",
    "            May need to include a variance normalization in future. \"\"\"\n",
    "        A =  self.ideal[ self.idealTarget=='A']\n",
    "        B =  self.ideal[ self.idealTarget=='B']\n",
    "        projA = numpy.empty(A.shape) * numpy.nan\n",
    "        projB = numpy.empty(B.shape) * numpy.nan\n",
    "        # go through all catA\n",
    "        for idx,x in enumerate(A):\n",
    "            projA[idx] = mod.som.weights[mod.som.winner(x)]\n",
    "        for idx,x in enumerate(B):\n",
    "            projB[idx] = mod.som.weights[mod.som.winner(x)]\n",
    "        diff = linalg.norm(projA.mean(axis=0)-projB.mean(axis=0) ) \n",
    "        \n",
    "        # pooled variance estimate (not standard, since using average variance across dimensions for a class)\n",
    "        pVar = pVar = (projA.var(axis=0).mean() + projB.var(axis=0).mean() )/2  \n",
    "        \n",
    "        return diff/np.sqrt( pVar)\n",
    "    \n",
    "    def getProt( self, idealProt = False ):\n",
    "        prot = []\n",
    "        label = []    \n",
    "        \n",
    "        # use true prototypes from ideal data\n",
    "        if idealProt:\n",
    "            for idx in self.protIdx:\n",
    "                prot.append(self.ideal[idx,:])\n",
    "                label.append(self.idealTarget[idx])        \n",
    "        # estimate prototypes based in training data\n",
    "        else:\n",
    "            # get data/labels just until the current iteration (data is projected onto SOM)\n",
    "            targTemp = self.target[:self.dataIdx]\n",
    "            dataTemp = self.som.quantization( self.data[:self.dataIdx,:] ) # projected samples\n",
    "            \n",
    "            # loop through all labels, calc prototypes by average\n",
    "            for t in np.unique(targTemp):    \n",
    "                prot.append(np.mean( dataTemp[ targTemp==t, :], axis=0 ))  # mean of category\n",
    "                label.append(t) # corresponding label                \n",
    "        return zip(prot,label )   \n",
    "        \n",
    "    def initWeights(self, scale=1 ):\n",
    "        \"\"\" Initializes the weights of the SOM randomly around 0 \"\"\"        \n",
    "        self.som.weights =scale*(np.random.random_sample( self.som.weights.shape)-.5)\n",
    "\n",
    "\n",
    "    def showLearnCuves(self, window=6):\n",
    "        curveSOM = slideAcc( self.somAcc, window )\n",
    "        curveSubj = slideAcc( self.acc, window )\n",
    "        plot( np.arange(len(curveSOM)) ,curveSOM, 'k.-', linewidth=3, label='SOM')\n",
    "        plot( np.arange(len(curveSubj)), curveSubj, 'g--', linewidth=3, label='prt')\n",
    "        plot( np.arange(0,50), np.ones(50)*.5,'r-', linewidth=2, label='chance')\n",
    "        xlabel('trial')\n",
    "        legend()\n",
    "        self.curveSOM = curveSOM\n",
    "        self.curveSubj = curveSubj\n",
    "        \n",
    "    \n",
    "    def meanLrnCurves( self, iters = 10, removeProp = 0  ):\n",
    "        # backup ori data, init acc vector\n",
    "        dataOri = cop.copy(self.data)\n",
    "        accSum = np.zeros(len(self.acc))\n",
    "        \n",
    "        for i1 in range(iters):\n",
    "            # train/predict SOM several times            \n",
    "            self.data = cop.copy(dataOri)\n",
    "            self.pertData(removeProp)  #not perfect data to train                      \n",
    "            agreement = self.predAll( verbose=False, skip=0, reps=1)     \n",
    "            accSum =accSum + self.somAcc\n",
    "        self.somAcc = accSum/iters # average accuracy\n",
    "        \n",
    "        # return accuracy\n",
    "        return self.somAcc\n",
    "    \n",
    "            \n",
    "    \n",
    "    #-------------------------------------------------\n",
    "    \n",
    "    def __init__(self, file_name='4750.csv', columns = [0,1,3,4,5,6], width = 6, height = 5, \n",
    "                 sigma=1.2,  learning_rate=0.5, predThresh=np.inf, \n",
    "                 bmuFeatures=None, predMode='prot' ):\n",
    "        # columns in file names are:\n",
    "        # ['Antenna','Mouth','Back','Hand','Feet','Tail','Body','Color','Label', 'category', 'accuracy', 'isLabeled']\n",
    "        #    skipping feature 2 in default, because we aren't using back (so 7 features without acoustic label)\n",
    "        #    \n",
    "        #       Since feature 7( color) redundant, I may use that to define\n",
    "        #       'side' feature instead\n",
    "        #\n",
    "        #       visual object only      = [0,1,3,4,5,6]\n",
    "        #       visual object with side = [0,1,3,4,5,6,7] (side is 7)\n",
    "        #       visual, side, acoustic  = [0,1,3,4,5,6,7,8]\n",
    "\n",
    "        # load data and normalization\n",
    "        self.data = np.genfromtxt( file_name, delimiter=',',usecols=columns, skip_header=1)   \n",
    "        self.data = binToOrthog( self.data) # make orthogonal representation\n",
    "        self.data *= 2.0 \n",
    "        self.data += -1.0  # -0.5 \n",
    "        # get target labels\n",
    "        self.target = genfromtxt(file_name,delimiter=',',usecols=(9),dtype=str, skip_header=1) # loading the labels\n",
    "        #get infant accuracy\n",
    "        self.acc = genfromtxt(file_name,delimiter=',',usecols=(10),dtype=float, skip_header=1) \n",
    "        self.somAcc = self.acc*np.nan\n",
    "        \n",
    "        # init som\n",
    "        self.som = MiniSom(width, height, self.data.shape[1], sigma=sigma,learning_rate=learning_rate, bmuFeatures=bmuFeatures)\n",
    "        #self.som.random_weights_init(self.data)\n",
    "        self.initWeights()  \n",
    "        self.dataIdx = 0 # to index what data sample for one shot learning\n",
    "        \n",
    "        # get idealized data\n",
    "        self.ideal = np.genfromtxt( 'stimuli.csv', delimiter=',',usecols=columns, skip_header=1) \n",
    "        self.ideal = binToOrthog(self.ideal ) # make orthogonal representation\n",
    "        self.ideal *= 2.0 \n",
    "        self.ideal += -1.0  # -0.5 \n",
    "        self.idealTarget = genfromtxt('stimuli.csv',delimiter=',',usecols=(9),dtype=str, skip_header=1) # loading the labels\n",
    "               \n",
    "        # index of ideal samples that are category prototypes\n",
    "        self.protIdx = np.array([6,7]) # doesn't use this anymore (this was when using ideal protoypes, see getProt function)\n",
    "        self.predThresh = predThresh  # when classifying by prototype, if distance larger than this then random decision\n",
    "        self.predMode = predMode\n",
    "\n",
    "#------------------------------------------------------------------\n",
    "\n",
    "# def getIdeal( file_name='stimuli.csv', columns = [0,1,2,3,4,5,6,7]): \n",
    "#     # return the ideal data for checking quantization error\n",
    "#     data = np.genfromtxt( file_name, delimiter=',',usecols=columns, skip_header=1)     \n",
    "#     return ( data[:7,:], data[7:,:] )\n",
    "\n",
    "\n",
    "def slideAcc( acc, window=6 ):\n",
    "    # return a sliding window average of accuracy \n",
    "    N = len(acc)\n",
    "    wAcc = np.zeros((N))*np.nan\n",
    "    for i1 in range(window,N+1):      \n",
    "        a = acc[i1-window:i1]\n",
    "        #print i1, a\n",
    "        wAcc[i1-1] = nanmean(a) # get mean over window    \n",
    "    return wAcc\n",
    "\n",
    "\n",
    "def binToOrthog( data ):\n",
    "    # take a binary data matrix and convert to orthogonal representation    \n",
    "    N,d = data.shape # N,d : num samples, num features\n",
    "    dataOut = np.ones((N, 2*d))*np.nan  \n",
    "    \n",
    "    dataOut[:,::2] = data\n",
    "    dataOut[:,1::2] = 1-data    \n",
    "    '''        \n",
    "    for subIdx,x in enumerate(data):\n",
    "        for fIdx, xi in enumerate(x):\n",
    "            # get the f1,f2 features \n",
    "            if xi== 0:\n",
    "                f1= 1\n",
    "                f2= 0\n",
    "            else:\n",
    "                f1 =0\n",
    "                f2 =1\n",
    "            dataOut[subIdx,2*fIdx:2*fIdx+2] = f1,f2\n",
    "    '''\n",
    "    return dataOut\n"
   ]
  },
  {
   "cell_type": "code",
   "execution_count": 4,
   "metadata": {
    "collapsed": false
   },
   "outputs": [],
   "source": [
    "# print mod.som.bmuFeatures"
   ]
  },
  {
   "cell_type": "code",
   "execution_count": null,
   "metadata": {
    "collapsed": true
   },
   "outputs": [],
   "source": []
  },
  {
   "cell_type": "code",
   "execution_count": 5,
   "metadata": {
    "collapsed": false,
    "scrolled": true
   },
   "outputs": [
    {
     "name": "stdout",
     "output_type": "stream",
     "text": [
      "Exemplar projection\n"
     ]
    },
    {
     "name": "stderr",
     "output_type": "stream",
     "text": [
      "/usr/local/lib/python2.7/site-packages/matplotlib/collections.py:590: FutureWarning: elementwise comparison failed; returning scalar instead, but in the future will perform elementwise comparison\n",
      "  if self._edgecolors == str('face'):\n"
     ]
    },
    {
     "data": {
      "image/png": "[encoded data removed]",
      "text/plain": [
       "<matplotlib.figure.Figure at 0x10437ae90>"
      ]
     },
     "metadata": {},
     "output_type": "display_data"
    },
    {
     "name": "stdout",
     "output_type": "stream",
     "text": [
      "Ideal exemplar projection\n"
     ]
    },
    {
     "data": {
      "image/png": "[encoded data removed]",
      "text/plain": [
       "<matplotlib.figure.Figure at 0x102b6ae50>"
      ]
     },
     "metadata": {},
     "output_type": "display_data"
    }
   ],
   "source": [
    "# init som\n",
    "# f = '4750.csv'\n",
    "\n",
    "\n",
    "fileDir = '../../KARS_reinf/Python/FeatIdealAdultBL/'\n",
    "\n",
    "# fileDir = '../../KARS_reinf/Python/FeatSeenBySubAdultBL/'\n",
    "\n",
    "# fileDir = '../../KARS_reinf/Python/FeatSeenBySubBaseline/'\n",
    "# fileDir = '../../KARS_reinf/Python/FeatSeenBySubLabel/'\n",
    "# fileDir = '../../KARS_reinf/Python/FeatSeenBySubSup/'\n",
    "files = glob( fileDir + '*.csv') #fileDir+'4760.csv'\n",
    "\n",
    "\n",
    "mod = SOM( files[1], learning_rate=.1) #, predThresh=.9) \n",
    "mod.pertData(.7)\n",
    "mod.show()\n",
    "mod.showIdeal()\n",
    "\n",
    "\n",
    "\n"
   ]
  },
  {
   "cell_type": "code",
   "execution_count": 6,
   "metadata": {
    "collapsed": false
   },
   "outputs": [
    {
     "name": "stdout",
     "output_type": "stream",
     "text": [
      "[ 1. -1.]\n",
      "[-1.  1.]\n"
     ]
    }
   ],
   "source": [
    "# mod.som.weights[:,:, :-1].shape\n",
    "# mod.data[:,:-1].shape\n",
    "\n",
    "for x in mod.getProt( idealProt=True):\n",
    "    print x[0][-2:]\n"
   ]
  },
  {
   "cell_type": "code",
   "execution_count": 7,
   "metadata": {
    "collapsed": false
   },
   "outputs": [
    {
     "name": "stdout",
     "output_type": "stream",
     "text": [
      "Decision based on prot\n",
      "Qnt error current Sample: 1.4207\n",
      "SOM/Child/True Label: A/A/A.\n",
      "Project prototype distances: \n",
      "[] []\n",
      "Iter 1\n",
      "Exemplar projection\n"
     ]
    },
    {
     "data": {
      "image/png": "[encoded data removed]",
      "text/plain": [
       "<matplotlib.figure.Figure at 0x1049d0190>"
      ]
     },
     "metadata": {},
     "output_type": "display_data"
    },
    {
     "name": "stdout",
     "output_type": "stream",
     "text": [
      "Ideal exemplar projection\n"
     ]
    },
    {
     "data": {
      "image/png": "[encoded data removed]",
      "text/plain": [
       "<matplotlib.figure.Figure at 0x104bacb90>"
      ]
     },
     "metadata": {},
     "output_type": "display_data"
    }
   ],
   "source": [
    "# train incrementally example \n",
    "\n",
    "somLab, childLab = mod.predOne( verbose=True)\n",
    "mod.trainOne()  #  don't use mod.trainOneGliozzi()\n",
    "print( 'Iter %d'% mod.dataIdx )\n",
    "\n",
    "mod.show(mod.dataIdx)\n",
    "mod.showIdeal()  # ideal exemplars on trained map\n",
    "\n",
    "\n"
   ]
  },
  {
   "cell_type": "code",
   "execution_count": 8,
   "metadata": {
    "collapsed": false
   },
   "outputs": [],
   "source": [
    "# try matching based on side feature\n",
    "# bmuFeatures currently hard coded\n",
    "\n",
    "mod = SOM( files[1], learning_rate=.05, columns=[0, 1, 3, 4, 5, 6,7],\n",
    "          bmuFeatures= 1, predMode='side') \n",
    "# mod.show()\n",
    "mod.trainOne()"
   ]
  },
  {
   "cell_type": "code",
   "execution_count": 9,
   "metadata": {
    "collapsed": false
   },
   "outputs": [],
   "source": [
    "mod.som.train_random(mod.data,2)"
   ]
  },
  {
   "cell_type": "code",
   "execution_count": 10,
   "metadata": {
    "collapsed": false
   },
   "outputs": [
    {
     "name": "stdout",
     "output_type": "stream",
     "text": [
      "(12,)\n",
      "(6, 5, 12)\n"
     ]
    }
   ],
   "source": [
    "# mod.data.shape\n",
    "# print mod.data[0][:-2].shape\n",
    "\n",
    "print mod.data[0][:-2].shape\n",
    "print mod.som.weights[:,:,:-2].shape\n",
    "# ,self.weights[:,:,:-2] "
   ]
  },
  {
   "cell_type": "code",
   "execution_count": 11,
   "metadata": {
    "collapsed": false,
    "scrolled": false
   },
   "outputs": [
    {
     "ename": "NameError",
     "evalue": "name 'numFts' is not defined",
     "output_type": "error",
     "traceback": [
      "\u001b[0;31m---------------------------------------------------------------------------\u001b[0m",
      "\u001b[0;31mNameError\u001b[0m                                 Traceback (most recent call last)",
      "\u001b[0;32m<ipython-input-11-ed1e90bb0439>\u001b[0m in \u001b[0;36m<module>\u001b[0;34m()\u001b[0m\n\u001b[1;32m     11\u001b[0m \u001b[0;34m\u001b[0m\u001b[0m\n\u001b[1;32m     12\u001b[0m \u001b[0mmod\u001b[0m\u001b[0;34m.\u001b[0m\u001b[0mpertData\u001b[0m\u001b[0;34m(\u001b[0m\u001b[0;36m.2\u001b[0m\u001b[0;34m)\u001b[0m\u001b[0;34m\u001b[0m\u001b[0m\n\u001b[0;32m---> 13\u001b[0;31m \u001b[0;32mprint\u001b[0m\u001b[0;34m(\u001b[0m \u001b[0;34m'Qnt error to start: %.2f'\u001b[0m \u001b[0;34m%\u001b[0m \u001b[0;34m(\u001b[0m \u001b[0mmod\u001b[0m\u001b[0;34m.\u001b[0m\u001b[0msom\u001b[0m\u001b[0;34m.\u001b[0m\u001b[0mquantization_error\u001b[0m\u001b[0;34m(\u001b[0m\u001b[0mmod\u001b[0m\u001b[0;34m.\u001b[0m\u001b[0mdata\u001b[0m\u001b[0;34m)\u001b[0m\u001b[0;34m/\u001b[0m\u001b[0mnumFts\u001b[0m\u001b[0;34m)\u001b[0m\u001b[0;34m)\u001b[0m\u001b[0;34m\u001b[0m\u001b[0m\n\u001b[0m\u001b[1;32m     14\u001b[0m \u001b[0;31m# mod.show()\u001b[0m\u001b[0;34m\u001b[0m\u001b[0;34m\u001b[0m\u001b[0m\n\u001b[1;32m     15\u001b[0m \u001b[0;34m\u001b[0m\u001b[0m\n",
      "\u001b[0;31mNameError\u001b[0m: name 'numFts' is not defined"
     ]
    }
   ],
   "source": [
    "# look at quanitzation error over learning\n",
    "#  quantization error is average distance between BMU and the data\n",
    "#  Plotting normalized qE by # features to be consistent across different prediction rules\n",
    "\n",
    "# matching by appearance, decision based on side\n",
    "mod = SOM( files[1], learning_rate=.05, columns=[0, 1, 3, 4, 5, 6,7], \n",
    "          bmuFeatures=1, predMode='side'  ) \n",
    "numTrain  = len(mod.data)/2\n",
    "numFts = mod.data.shape[1]\n",
    "\n",
    "# # standard appearance model, with protoypes\n",
    "# mod = SOM( files[1], learning_rate=.05  ) #, predThresh=.9) \n",
    "\n",
    "mod.pertData(.2)\n",
    "print( 'Qnt error to start: %.2f' % ( mod.som.quantization_error(mod.data)/numFts))\n",
    "# mod.show()\n",
    "\n",
    "# for i1 in range( len(mod.data)):\n",
    "#     print( 'Qnt error after iter %d: %.2f' % ( i1,mod.som.quantization_error(mod.data)))\n",
    "#     mod.trainOne()  #  don't use mod.trainOneGliozzi()   \n",
    "# print( 'Iter %d'% mod.dataIdx )\n",
    "\n",
    "\n",
    "Niters = 40\n",
    "qE = []\n",
    "qETrain = []\n",
    "for ep in range(Niters):\n",
    "#     print('Training random once')\n",
    "    mod.som.train_random_once(mod.data[:numTrain])\n",
    "    # mod.som.train_random(mod.data, 2)\n",
    "    errorTest = mod.som.quantization_error(mod.data[numTrain:])/numFts #normalize by # features\n",
    "    errorTrain = mod.som.quantization_error(mod.data[:numTrain])/numFts\n",
    "    qE.append(errorTest)\n",
    "    qETrain.append(errorTrain)\n",
    "#     print( 'Qnt error after epoch %d: %.2f' % (error ))\n",
    "\n",
    "fSize = 18\n",
    "plot( array(qE), linewidth=3, label= 'test')\n",
    "plot( array(qETrain), linewidth=3, label= 'train')\n",
    "ylabel( 'quant error', fontsize=fSize)\n",
    "xlabel( 'epoch', fontsize=fSize)\n",
    "legend()\n",
    "\n",
    "# figure()\n",
    "# mod.show(indices=np.arange(0, numTrain))\n",
    "# print( 'Train samples')\n",
    "# mod.show(indices=np.arange(numTrain,len(mod.data)))\n",
    "# print( 'Test samples')\n",
    "\n",
    "savefig( 'qntErrorByEpoch.png')"
   ]
  },
  {
   "cell_type": "code",
   "execution_count": 282,
   "metadata": {
    "collapsed": false
   },
   "outputs": [
    {
     "data": {
      "text/plain": [
       "array([ 0.,  1., -1.,  1.,  0.,  1., -1.,  0., -1.,  1., -1.,  0., -1.,  0.])"
      ]
     },
     "execution_count": 282,
     "metadata": {},
     "output_type": "execute_result"
    }
   ],
   "source": [
    "# mod.data[:numTrain]\n",
    "mod.data[9]"
   ]
  },
  {
   "cell_type": "code",
   "execution_count": 73,
   "metadata": {
    "collapsed": false
   },
   "outputs": [
    {
     "data": {
      "text/plain": [
       "'\\nLook at differences between prediction rules\\n  * Previously, prediction given  by matching to stored updating prototype \\n  \\n  * Now, we determine BMU based on subset of features, ignoring side.\\n    Then use the side (left/right) feature to make decision.\\n    In that case, make SOM class have a \"predMode\" attribute  \\n'"
      ]
     },
     "execution_count": 73,
     "metadata": {},
     "output_type": "execute_result"
    }
   ],
   "source": [
    "'''\n",
    "Look at differences between prediction rules\n",
    "  * Previously, prediction given  by matching to stored updating prototype \n",
    "  \n",
    "  * Now, we determine BMU based on subset of features, ignoring side.\n",
    "    Then use the side (left/right) feature to make decision.\n",
    "    In that case, make SOM class have a \"predMode\" attribute  \n",
    "'''\n",
    "\n",
    "# len(mod.data)\n",
    "# mod.data.shape\n",
    "\n",
    "\n",
    "# mod = SOM( files[1], learning_rate=.3, predThresh=.9, bmuFeatures=1) \n"
   ]
  },
  {
   "cell_type": "code",
   "execution_count": 74,
   "metadata": {
    "collapsed": false
   },
   "outputs": [
    {
     "name": "stdout",
     "output_type": "stream",
     "text": [
      "Exemplar projection\n"
     ]
    },
    {
     "data": {
      "image/png": "[encoded data removed]",
      "text/plain": [
       "<matplotlib.figure.Figure at 0x1060857d0>"
      ]
     },
     "metadata": {},
     "output_type": "display_data"
    },
    {
     "name": "stdout",
     "output_type": "stream",
     "text": [
      "Exemplar projection\n"
     ]
    },
    {
     "name": "stderr",
     "output_type": "stream",
     "text": [
      "/usr/local/lib/python2.7/site-packages/ipykernel/__main__.py:191: DeprecationWarning: axis != 0 for ndim == 1; this will raise an error in future versions of numpy\n",
      "/usr/local/lib/python2.7/site-packages/ipykernel/__main__.py:192: DeprecationWarning: axis != 0 for ndim == 1; this will raise an error in future versions of numpy\n"
     ]
    },
    {
     "data": {
      "image/png": "[encoded data removed]",
      "text/plain": [
       "<matplotlib.figure.Figure at 0x106d16090>"
      ]
     },
     "metadata": {},
     "output_type": "display_data"
    },
    {
     "data": {
      "image/png": "[encoded data removed]",
      "text/plain": [
       "<matplotlib.figure.Figure at 0x106c78750>"
      ]
     },
     "metadata": {},
     "output_type": "display_data"
    },
    {
     "name": "stdout",
     "output_type": "stream",
     "text": [
      "Qnt error after 1 epoch: 1.80\n"
     ]
    }
   ],
   "source": [
    "#####  Calculate learning curve (several initializations)\n",
    "\n",
    "\n",
    "f = files[1]\n",
    "removeProp = .6 #5\n",
    "lrnRt = .3\n",
    "iters = 5 # 30\n",
    "\n",
    "\n",
    "\n",
    "mod = SOM( f, learning_rate= lrnRt, predThresh=.7)\n",
    "\n",
    "\n",
    "# show untrained map\n",
    "mod.show()\n",
    "\n",
    "# show curves\n",
    "figure()\n",
    "mod.meanLrnCurves( iters = iters, removeProp = removeProp  )\n",
    "mod.showLearnCuves(window=6)\n",
    "\n",
    "#show trained map\n",
    "figure()\n",
    "mod.show()\n",
    "\n",
    "print( 'Qnt error after 1 epoch: %.2f'%  mod.som.quantization_error(mod.data))\n"
   ]
  },
  {
   "cell_type": "code",
   "execution_count": null,
   "metadata": {
    "collapsed": false
   },
   "outputs": [],
   "source": [
    "# make some nice larning curves (for encoding error)\n",
    "\n",
    "# self.somAcc\n",
    "\n",
    "\n",
    "\n",
    "f = files[1]\n",
    "lrnRt = .3\n",
    "iters = 50 # 30\n",
    "w = 6\n",
    "predThresh = .7\n",
    "\n",
    "\n",
    "\n",
    "# for saving figures\n",
    "outDir = 'SOMfigs/'\n",
    "if not os.path.exists( outDir ):\n",
    "    os.mkdir( outDir )         \n",
    "\n",
    "##-------------------------------------------------\n",
    "\n",
    "# loop through different removeProp (% encoding error)\n",
    "for removeProp in np.arange(.1,1, .2):                       \n",
    "    mod = SOM( f, learning_rate= lrnRt, predThresh=.7)\n",
    "    meanAcc  = mod.meanLrnCurves( iters = iters, removeProp = removeProp  )\n",
    "    # show them \n",
    "    plot( slideAcc( meanAcc, window=w), linewidth=3, label=('%.0f%% Encoding Err'% (100*removeProp)))\n",
    "# chance line    \n",
    "plot( np.arange(50), .5*ones(50 ), '--', linewidth=2, label='chance')    \n",
    "xlabel('Trial', fontsize=20)\n",
    "ylabel( 'Mean Accuracy', fontsize=20)\n",
    "title('SOM Accuracy by Encoding Error, LrnRate=0.3', fontsize=20)\n",
    "# show legend\n",
    "lgd = legend(bbox_to_anchor=(1.4, 1.01)) \n",
    "\n",
    "# save it  \n",
    "saveFile = outDir + 'removePropFig.png'\n",
    "savefig( saveFile, bbox_extra_artists=(lgd,), bbox_inches='tight')\n",
    "\n",
    "\n",
    "\n",
    "\n",
    "\n",
    "\n",
    "\n",
    "# mod.showLearnCuves(window=w)\n",
    "# for acc in allAcc:\n",
    "#     plot( acc)\n",
    "\n",
    "\n"
   ]
  },
  {
   "cell_type": "code",
   "execution_count": null,
   "metadata": {
    "collapsed": false
   },
   "outputs": [],
   "source": [
    "##-------------------------------------------------\n",
    "# plot function of learning rate\n",
    "\n",
    "\n",
    "removeProp = .5\n",
    "\n",
    "\n",
    "\n",
    "figure()\n",
    "# loop through different learning rates % fixed encoding error\n",
    "\n",
    "for lrnRt in np.arange(.0,1.8, .3):                       \n",
    "    mod = SOM( f, learning_rate= lrnRt, predThresh=predThresh)\n",
    "    meanAcc  = mod.meanLrnCurves( iters = iters, removeProp = removeProp  )\n",
    "    # show them \n",
    "    plot( slideAcc( meanAcc, window=w), linewidth=3, label=('%.2f LRate'% (lrnRt)))\n",
    "# chance line    \n",
    "plot( np.arange(50), .5*ones(50 ), '--', linewidth=2, label='chance')    \n",
    "xlabel('Trial')\n",
    "ylabel( 'Mean Accuracy')\n",
    "title('Accuracy by Learn Rate, EncError=50%')\n",
    "# show legend\n",
    "lgd = legend(bbox_to_anchor=(1.4, 1.01)) \n",
    "\n",
    "# save it  \n",
    "saveFile = outDir + 'lrnRate.png'\n",
    "savefig( saveFile, bbox_extra_artists=(lgd,), bbox_inches='tight')\n"
   ]
  },
  {
   "cell_type": "code",
   "execution_count": null,
   "metadata": {
    "collapsed": false
   },
   "outputs": [],
   "source": [
    "# lets now mess with learning rate \n",
    "\n",
    "def pertData( self, p=.2, verbose=False):\n",
    "    if verbose:\n",
    "        print( 'Making %.2f percent of inputs 0.0' %(p*100))\n",
    "    # randomly get proportion of indices to switch, then replace\n",
    "    p = max( min(p,1), 0 ) # set in range [0,1]\n",
    "    \n",
    "    sh = self.data.shape\n",
    "    noiseIndex = np.random.binomial(1,p,(sh[0], sh[1]-1 ) )  #ones at p proportion of samples\n",
    "    self.data[noiseIndex ==1 ] = 0\n",
    "    \n",
    "    \n",
    "mod = SOM( f)    \n",
    "pertData( mod)\n",
    "# mod.data\n",
    "# mod.som.weights\n",
    "    "
   ]
  },
  {
   "cell_type": "code",
   "execution_count": null,
   "metadata": {
    "collapsed": false
   },
   "outputs": [],
   "source": [
    "##  fit learning curve to participants\n",
    "\n",
    "import scipy.optimize as opt\n",
    "\n",
    "\n",
    "f = files[2]\n",
    "iters = 30\n",
    "\n",
    "def subModError( x0):\n",
    "    lrnRt = 3*x0[0]\n",
    "    removeProp = 3*x0[1]\n",
    "    \n",
    "    \n",
    "    mod = SOM( f, learning_rate= lrnRt )\n",
    "    mod.meanLrnCurves( iters = iters, removeProp = removeProp  )\n",
    "    \n",
    "    # return norm or error divided my length\n",
    "    error = norm(mod.somAcc[ ~np.isnan(mod.acc)]  - mod.acc[~np.isnan(  mod.acc)])/np.sum( np.sum( ~np.isnan(mod.acc))) \n",
    "    print('learn rate: %.4f, removed prop: %.4f, error: %.4f' %( lrnRt, removeProp, error) )\n",
    "    return error\n",
    "    \n",
    "# subModError( array([.2,.5]))\n",
    "\n",
    "\n",
    "# res = opt.minimize(subModError, [.1,.1], method= 'powell',  #'nelder-mead',\n",
    "#                         options={'xtol': 1e-3, 'disp': True} )"
   ]
  },
  {
   "cell_type": "code",
   "execution_count": null,
   "metadata": {
    "collapsed": false
   },
   "outputs": [],
   "source": [
    "# 3*res.x"
   ]
  },
  {
   "cell_type": "code",
   "execution_count": null,
   "metadata": {
    "collapsed": false
   },
   "outputs": [],
   "source": [
    "# how well do SOMs and participants agree in decisions?\n",
    "#      train incrementally and combine all participant scores\n",
    "\n",
    "# def allFilesPred(  ):\n",
    "# fileDir = '../../KARS_reinf/Python/FeatSeenBySubAdultBL/'\n",
    "# fileDir = '../../KARS_reinf/Python/FeatSeenBySubBaseline/'\n",
    "# fileDir = '../../KARS_reinf/Python/FeatSeenBySubLabel/'\n",
    "# fileDir = '../../KARS_reinf/Python/FeatSeenBySubSup/'\n",
    "\n",
    "\n",
    "files = glob( fileDir + '*.csv') #fileDir+'4760.csv'\n",
    "agVec = np.array([])\n",
    "for idx,f in enumerate(files):  \n",
    "    mod = SOM( f, learning_rate=0.2 ) #'4750.csv'\n",
    "    agree =  mod.predAll( verbose=False, skip=0, reps=1) \n",
    "    \n",
    "    # compile how many times SOM and infant agree\n",
    "    agVec = np.append( agVec, agree)             \n",
    "\n",
    "print fileDir\n",
    "print( 'SOM and participants agee M+SD: %.2f +- %.2f '% (nanmean( agVec), nanstd(agVec))  )\n",
    "\n"
   ]
  },
  {
   "cell_type": "code",
   "execution_count": null,
   "metadata": {
    "collapsed": false
   },
   "outputs": [],
   "source": [
    "# Optimize learning rate to maximize SOM/infant prediction correlation\n",
    "\n",
    "def allFilesPred( x0 ): # learning rate\n",
    "    fileDir = '../../KARS_reinf/Python/FeatSeenBySubBaseline/'\n",
    "    files = glob( fileDir + '*.csv') #fileDir+'4760.csv'\n",
    "    agVec = np.array([])\n",
    "    for idx,f in enumerate(files):\n",
    "        #print f\n",
    "        mod = SOM( f, learning_rate=x0 ) # 0.3\n",
    "        agree =  mod.predAll( verbose=False, skip=8, reps=3) \n",
    "        # compile how many times SOM and infant agree\n",
    "        agVec = np.append( agVec, agree)             \n",
    "        \n",
    "    print(fileDir)\n",
    "    print( 'Learning rate: %.2f' % x0)        \n",
    "    print( 'SOM and participants agee M+SD: %.3f +- %.3f '% (nanmean( agVec), nanstd(agVec))  )\n",
    "#     return nanmean( agVec)\n",
    "\n",
    "\n",
    "# for lrnRt in np.arange(.1,2,.2):\n",
    "# allFilesPred( lrnRt) \n",
    "    \n",
    "# x = fmin( "
   ]
  },
  {
   "cell_type": "code",
   "execution_count": null,
   "metadata": {
    "collapsed": false
   },
   "outputs": [],
   "source": [
    "# f"
   ]
  },
  {
   "cell_type": "code",
   "execution_count": null,
   "metadata": {
    "collapsed": false
   },
   "outputs": [],
   "source": [
    "# how to use\n",
    "# fileDir = '../../KARS_reinf/Python/FeatSeenBySub/'\n",
    "\n",
    "mod = SOM( '4750.csv', learning_rate=0.3 ) #fileDir+'4760.csv')\n",
    "mod.train(20)\n",
    "# mod.trainOneGliozzi()\n",
    "mod.show()\n",
    "\n",
    "# print( 'SOM with infant exemplars')\n",
    "mod.showIdeal()\n",
    "print( 'Class separation: %.2f' %mod.separation())\n",
    "\n",
    "# print mod.acc\n",
    "# print nanmean( mod.acc)\n"
   ]
  },
  {
   "cell_type": "code",
   "execution_count": null,
   "metadata": {
    "collapsed": false
   },
   "outputs": [],
   "source": [
    "# import sklearn"
   ]
  },
  {
   "cell_type": "code",
   "execution_count": null,
   "metadata": {
    "collapsed": false
   },
   "outputs": [],
   "source": [
    "# run the model fitting N times, get mean class separation\n",
    "N = 20\n",
    "sepList = np.arange(N,dtype=float)\n",
    "for i1 in range(N):\n",
    "    mod = SOM('4750.csv')\n",
    "    mod.train(20)\n",
    "    sepList[i1] = mod.separation()\n",
    "\n",
    "sepList.mean()\n",
    "# mod.show()\n",
    "# mod.showIdeal()\n"
   ]
  },
  {
   "cell_type": "code",
   "execution_count": null,
   "metadata": {
    "collapsed": false
   },
   "outputs": [],
   "source": []
  },
  {
   "cell_type": "code",
   "execution_count": null,
   "metadata": {
    "collapsed": false
   },
   "outputs": [],
   "source": [
    "# loop through files and train up SOMs, measure class separation\n",
    "# fileDir = '../../KARS_reinf/Python/FeatSeenBySub/'\n",
    "resultFile = 'catSeparation.txt'\n",
    "fOut = open(resultFile, 'w')\n",
    "fOut.write( 'subID\\tcatSep\\n')\n",
    "\n",
    "\n",
    "files= glob( fileDir+'*.csv')\n",
    "N = 50 # number models to generate per participant\n",
    "iters = 30 # number training iterations\n",
    "\n",
    "for f in files:\n",
    "    participant = f.split('/')[-1].split('.')[0]\n",
    "    sepList = np.arange(N,dtype=float) # init list\n",
    "    for i1 in range(N):            \n",
    "        mod = SOM( f)\n",
    "        mod.train(iters)\n",
    "        sepList[i1] = mod.separation()\n",
    "    # output result\n",
    "    fOut.write( '%s\\t%.4f\\n'%(participant, sepList.mean()) )\n",
    "    print( 'Participant %s, Category separation: %.3f' % (participant, sepList.mean()) )\n",
    "\n",
    "    \n",
    "fOut.close()"
   ]
  },
  {
   "cell_type": "code",
   "execution_count": null,
   "metadata": {
    "collapsed": false
   },
   "outputs": [],
   "source": [
    "r.random()"
   ]
  },
  {
   "cell_type": "code",
   "execution_count": null,
   "metadata": {
    "collapsed": false
   },
   "outputs": [],
   "source": [
    "#  cat catSeparation.txt\n"
   ]
  },
  {
   "cell_type": "code",
   "execution_count": null,
   "metadata": {
    "collapsed": false
   },
   "outputs": [],
   "source": [
    "# x = arange(5)\n",
    "# x[:0]"
   ]
  },
  {
   "cell_type": "code",
   "execution_count": null,
   "metadata": {
    "collapsed": false
   },
   "outputs": [],
   "source": [
    "20 <np.inf"
   ]
  },
  {
   "cell_type": "code",
   "execution_count": null,
   "metadata": {
    "collapsed": false
   },
   "outputs": [],
   "source": []
  }
 ],
 "metadata": {
  "kernelspec": {
   "display_name": "Python 2",
   "language": "python",
   "name": "python2"
  },
  "language_info": {
   "codemirror_mode": {
    "name": "ipython",
    "version": 2
   },
   "file_extension": ".py",
   "mimetype": "text/x-python",
   "name": "python",
   "nbconvert_exporter": "python",
   "pygments_lexer": "ipython2",
   "version": "2.7.11"
  }
 },
 "nbformat": 4,
 "nbformat_minor": 0
}
