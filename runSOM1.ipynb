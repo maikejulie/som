{
 "metadata": {
  "name": "",
  "signature": "sha256:43e55a2a1c107267fc73618c5b15b0612f8c42ca4bdb567450f305673434539c"
 },
 "nbformat": 3,
 "nbformat_minor": 0,
 "worksheets": [
  {
   "cells": [
    {
     "cell_type": "code",
     "collapsed": false,
     "input": [
      "from minisom import MiniSom\n",
      "import random as r\n",
      "import copy as cop\n",
      "import os\n",
      "import numpy as np\n",
      "\n",
      "# import matplotlib as plt\n",
      "\n",
      "\n",
      "%pylab inline\n"
     ],
     "language": "python",
     "metadata": {},
     "outputs": [
      {
       "output_type": "stream",
       "stream": "stdout",
       "text": [
        "Populating the interactive namespace from numpy and matplotlib\n"
       ]
      }
     ],
     "prompt_number": 3
    },
    {
     "cell_type": "code",
     "collapsed": false,
     "input": [
      "# from gui import SOM"
     ],
     "language": "python",
     "metadata": {},
     "outputs": [],
     "prompt_number": 4
    },
    {
     "cell_type": "code",
     "collapsed": false,
     "input": [
      "file_name = '4750.csv' #'stimuli.csv'\n",
      "columns = [0,1,2,3,4,5,6,7]\n",
      "width = 12\n",
      "height = 10\n",
      "\n",
      "#       self.visual_only = [0,1,2,3,4,5,6,7]\n",
      "#       self.visual_and_acoustic = [0,1,2,3,4,5,6,7,8]\n",
      "\n",
      "# load/labels and normalize data\n",
      "data = np.genfromtxt( file_name, delimiter=',',usecols=columns, skip_header=1)\n",
      "target = genfromtxt(file_name,delimiter=',',usecols=(9),dtype=str, skip_header=1) # loading the labels\n",
      "data += -.5  #0.00001\n",
      "data = np.apply_along_axis(lambda x: x/np.linalg.norm(x),1, data) # data normalization#self.data[:, 0:len(cols)]\n",
      "\n",
      "\n",
      "som = MiniSom(width, height, data.shape[1], sigma=1.2,learning_rate=0.5)\n",
      "som.random_weights_init(data)\n",
      "som.train_random(data,250)\n",
      "\n",
      "qnt = som.quantization(data)\n",
      "\n",
      "\n"
     ],
     "language": "python",
     "metadata": {},
     "outputs": [],
     "prompt_number": 5
    },
    {
     "cell_type": "code",
     "collapsed": false,
     "input": [
      "# plot the thing\n",
      "bone()\n",
      "pcolor(som.distance_map().T) # plotting the distance map as background\n",
      "colorbar()\n",
      "t = zeros(len(target),dtype=int)\n",
      "t[target == 'A'] = 0\n",
      "t[target == 'B'] = 1\n",
      "# use different colors and markers for each label\n",
      "markers = ['o','s','D']\n",
      "colors = ['r','g','b']\n",
      "for cnt,xx in enumerate(data):\n",
      "    w = som.winner(xx) # getting the winner\n",
      "    # palce a marker on the winning position for the sample xx\n",
      "    plot(w[0]+.5,w[1]+.5,markers[t[cnt]],markerfacecolor='None',\n",
      "        markeredgecolor=colors[t[cnt]],markersize=12,markeredgewidth=2)\n",
      "axis([0,som.weights.shape[0],0,som.weights.shape[1]])\n",
      "show() # show the figure\n"
     ],
     "language": "python",
     "metadata": {},
     "outputs": [
      {
       "metadata": {},
       "output_type": "display_data",
       "png": "[encoded data removed]",
       "text": [
        "<matplotlib.figure.Figure at 0x2282a10>"
       ]
      }
     ],
     "prompt_number": 6
    },
    {
     "cell_type": "code",
     "collapsed": false,
     "input": [],
     "language": "python",
     "metadata": {},
     "outputs": [],
     "prompt_number": 6
    },
    {
     "cell_type": "code",
     "collapsed": false,
     "input": [],
     "language": "python",
     "metadata": {},
     "outputs": [],
     "prompt_number": 6
    },
    {
     "cell_type": "code",
     "collapsed": false,
     "input": [],
     "language": "python",
     "metadata": {},
     "outputs": [],
     "prompt_number": 6
    },
    {
     "cell_type": "code",
     "collapsed": false,
     "input": [],
     "language": "python",
     "metadata": {},
     "outputs": [],
     "prompt_number": 6
    }
   ],
   "metadata": {}
  }
 ]
}