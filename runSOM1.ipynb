{
 "metadata": {
  "name": "",
  "signature": "sha256:dacd1584a271681c7281675aecf18892ffd1d7c00ae53c249b70c889e5eb7c62"
 },
 "nbformat": 3,
 "nbformat_minor": 0,
 "worksheets": [
  {
   "cells": [
    {
     "cell_type": "code",
     "collapsed": false,
     "input": [
      "from minisom import MiniSom\n",
      "import random as r\n",
      "import copy as cop\n",
      "import os\n",
      "import numpy as np\n",
      "\n",
      "# import matplotlib as plt\n",
      "\n",
      "\n",
      "%pylab inline\n"
     ],
     "language": "python",
     "metadata": {},
     "outputs": [
      {
       "output_type": "stream",
       "stream": "stdout",
       "text": [
        "Populating the interactive namespace from numpy and matplotlib\n"
       ]
      },
      {
       "output_type": "stream",
       "stream": "stderr",
       "text": [
        "WARNING: pylab import has clobbered these variables: ['colors']\n",
        "`%pylab --no-import-all` prevents importing * from pylab and numpy\n"
       ]
      }
     ],
     "prompt_number": 6
    },
    {
     "cell_type": "code",
     "collapsed": false,
     "input": [
      "def pertWeights( som, scale=.2 ):     \n",
      "    print( 'Adding noise to SOM weights')\n",
      "    pertAmount = scale*(np.random.random_sample( som.weights.shape)-.5)\n",
      "    som.weights = som.weights + pertAmount\n",
      "\n",
      "def pertData( data, p=.2):\n",
      "    print( 'Making %f percent of inputs 0.5' %(p*100))\n",
      "    # randomly get proportion of indices to switch, then replace\n",
      "    noiseIndex = np.random.binomial(1,p, data.shape)  #ones at p proportion of samples\n",
      "    data[noiseIndex ==1 ] = .5\n",
      "    return data\n",
      "\n",
      "# plot the thing\n",
      "def show( som, data, target ):\n",
      "    bone()\n",
      "    pcolor(som.distance_map().T) # plotting the distance map as background\n",
      "    colorbar()\n",
      "    t = zeros(len(target),dtype=int)\n",
      "    t[target == 'A'] = 0\n",
      "    t[target == 'B'] = 1\n",
      "    # use different colors and markers for each label\n",
      "    markers = ['o','s','D']\n",
      "    colors = ['r','g','b']\n",
      "    for cnt,xx in enumerate(data):\n",
      "        w = som.winner(xx) # getting the winner\n",
      "        # palce a marker on the winning position for the sample xx\n",
      "        plot(w[0]+.5,w[1]+.5,markers[t[cnt]],markerfacecolor='None',\n",
      "            markeredgecolor=colors[t[cnt]],markersize=12,markeredgewidth=2)\n",
      "    axis([0,som.weights.shape[0],0,som.weights.shape[1]])\n",
      "    show() # show the figure\n",
      "\n",
      "    "
     ],
     "language": "python",
     "metadata": {},
     "outputs": [],
     "prompt_number": 78
    },
    {
     "cell_type": "code",
     "collapsed": false,
     "input": [],
     "language": "python",
     "metadata": {},
     "outputs": [],
     "prompt_number": 78
    },
    {
     "cell_type": "code",
     "collapsed": false,
     "input": [
      "file_name = '4750.csv' #'stimuli.csv'\n",
      "columns = [0,1,2,3,4,5,6,7]\n",
      "width = 7\n",
      "height = 6\n",
      "\n",
      "#       self.visual_only = [0,1,2,3,4,5,6,7]\n",
      "#       self.visual_and_acoustic = [0,1,2,3,4,5,6,7,8]\n",
      "\n",
      "# load/labels and normalize data\n",
      "data = np.genfromtxt( file_name, delimiter=',',usecols=columns, skip_header=1)\n",
      "target = genfromtxt(file_name,delimiter=',',usecols=(9),dtype=str, skip_header=1) # loading the labels\n",
      "# add even more noise to data\n",
      "# data = pertData( data, .1)\n",
      "\n",
      "# data normalization\n",
      "data += -.5 \n",
      "# data = np.apply_along_axis(lambda x: x/np.linalg.norm(x),1, data) \n",
      "\n",
      "# train som\n",
      "som = MiniSom(width, height, data.shape[1], sigma=1.2,learning_rate=0.5)\n",
      "som.random_weights_init(data)\n",
      "som.train_random(data,30)\n",
      "\n",
      "# check error\n",
      "print( 'quantization error: %f' % som.quantization_error(data))\n",
      "# qnt = pertWeights(som)\n",
      "# print( 'quantization error after perturb SOM: %f'% som.quantization_error(data))\n",
      "\n",
      "\n",
      "# visualize\n",
      "showSom( som, data, target )\n"
     ],
     "language": "python",
     "metadata": {},
     "outputs": [
      {
       "output_type": "stream",
       "stream": "stdout",
       "text": [
        "quantization error: 0.430651\n"
       ]
      },
      {
       "metadata": {},
       "output_type": "display_data",
       "png": "[encoded data removed]",
       "text": [
        "<matplotlib.figure.Figure at 0x10539c850>"
       ]
      }
     ],
     "prompt_number": 85
    },
    {
     "cell_type": "code",
     "collapsed": false,
     "input": [
      "# Let's look at the different error terms\n",
      "# qnt[1,:]\n",
      "# diffX = np.apply_along_axis(lambda x: np.linalg.norm(x),1, qnt) \n",
      "# print( diffX)\n",
      "# print mean(diffX)\n",
      "# print som.quantization_error( data)"
     ],
     "language": "python",
     "metadata": {},
     "outputs": [],
     "prompt_number": 72
    },
    {
     "cell_type": "code",
     "collapsed": false,
     "input": [
      "print qntX.shape\n",
      "print data.shape"
     ],
     "language": "python",
     "metadata": {},
     "outputs": [
      {
       "output_type": "stream",
       "stream": "stdout",
       "text": [
        "(8,)\n",
        "(18, 8)\n"
       ]
      }
     ],
     "prompt_number": 73
    },
    {
     "cell_type": "code",
     "collapsed": false,
     "input": [
      "# plot the thing\n",
      "bone()\n",
      "pcolor(som.distance_map().T) # plotting the distance map as background\n",
      "colorbar()\n",
      "t = zeros(len(target),dtype=int)\n",
      "t[target == 'A'] = 0\n",
      "t[target == 'B'] = 1\n",
      "# use different colors and markers for each label\n",
      "markers = ['o','s','D']\n",
      "colors = ['r','g','b']\n",
      "for cnt,xx in enumerate(data):\n",
      "    w = som.winner(xx) # getting the winner\n",
      "    # palce a marker on the winning position for the sample xx\n",
      "    plot(w[0]+.5,w[1]+.5,markers[t[cnt]],markerfacecolor='None',\n",
      "        markeredgecolor=colors[t[cnt]],markersize=12,markeredgewidth=2)\n",
      "axis([0,som.weights.shape[0],0,som.weights.shape[1]])\n",
      "show() # show the figure\n"
     ],
     "language": "python",
     "metadata": {},
     "outputs": [
      {
       "metadata": {},
       "output_type": "display_data",
       "png": "[encoded data removed]",
       "text": [
        "<matplotlib.figure.Figure at 0x10532d8d0>"
       ]
      }
     ],
     "prompt_number": 74
    },
    {
     "cell_type": "code",
     "collapsed": false,
     "input": [
      "# som.quantization_error(data)"
     ],
     "language": "python",
     "metadata": {},
     "outputs": [
      {
       "metadata": {},
       "output_type": "pyout",
       "prompt_number": 75,
       "text": [
        "0.44986971521645647"
       ]
      }
     ],
     "prompt_number": 75
    },
    {
     "cell_type": "code",
     "collapsed": false,
     "input": [
      "help( som.quantization_error)"
     ],
     "language": "python",
     "metadata": {},
     "outputs": [
      {
       "output_type": "stream",
       "stream": "stdout",
       "text": [
        "Help on method quantization_error in module minisom:\n",
        "\n",
        "quantization_error(self, data) method of minisom.MiniSom instance\n",
        "    Returns the quantization error computed as the average distance between\n",
        "    each input sample and its best matching unit.\n",
        "\n"
       ]
      }
     ],
     "prompt_number": 76
    },
    {
     "cell_type": "code",
     "collapsed": false,
     "input": [
      "help(linalg.norm)"
     ],
     "language": "python",
     "metadata": {},
     "outputs": [
      {
       "output_type": "stream",
       "stream": "stdout",
       "text": [
        "Help on function norm in module numpy.linalg.linalg:\n",
        "\n",
        "norm(x, ord=None, axis=None)\n",
        "    Matrix or vector norm.\n",
        "    \n",
        "    This function is able to return one of seven different matrix norms,\n",
        "    or one of an infinite number of vector norms (described below), depending\n",
        "    on the value of the ``ord`` parameter.\n",
        "    \n",
        "    Parameters\n",
        "    ----------\n",
        "    x : array_like\n",
        "        Input array.  If `axis` is None, `x` must be 1-D or 2-D.\n",
        "    ord : {non-zero int, inf, -inf, 'fro'}, optional\n",
        "        Order of the norm (see table under ``Notes``). inf means numpy's\n",
        "        `inf` object.\n",
        "    axis : {int, 2-tuple of ints, None}, optional\n",
        "        If `axis` is an integer, it specifies the axis of `x` along which to\n",
        "        compute the vector norms.  If `axis` is a 2-tuple, it specifies the\n",
        "        axes that hold 2-D matrices, and the matrix norms of these matrices\n",
        "        are computed.  If `axis` is None then either a vector norm (when `x`\n",
        "        is 1-D) or a matrix norm (when `x` is 2-D) is returned.\n",
        "    \n",
        "    Returns\n",
        "    -------\n",
        "    n : float or ndarray\n",
        "        Norm of the matrix or vector(s).\n",
        "    \n",
        "    Notes\n",
        "    -----\n",
        "    For values of ``ord <= 0``, the result is, strictly speaking, not a\n",
        "    mathematical 'norm', but it may still be useful for various numerical\n",
        "    purposes.\n",
        "    \n",
        "    The following norms can be calculated:\n",
        "    \n",
        "    =====  ============================  ==========================\n",
        "    ord    norm for matrices             norm for vectors\n",
        "    =====  ============================  ==========================\n",
        "    None   Frobenius norm                2-norm\n",
        "    'fro'  Frobenius norm                --\n",
        "    inf    max(sum(abs(x), axis=1))      max(abs(x))\n",
        "    -inf   min(sum(abs(x), axis=1))      min(abs(x))\n",
        "    0      --                            sum(x != 0)\n",
        "    1      max(sum(abs(x), axis=0))      as below\n",
        "    -1     min(sum(abs(x), axis=0))      as below\n",
        "    2      2-norm (largest sing. value)  as below\n",
        "    -2     smallest singular value       as below\n",
        "    other  --                            sum(abs(x)**ord)**(1./ord)\n",
        "    =====  ============================  ==========================\n",
        "    \n",
        "    The Frobenius norm is given by [1]_:\n",
        "    \n",
        "        :math:`||A||_F = [\\sum_{i,j} abs(a_{i,j})^2]^{1/2}`\n",
        "    \n",
        "    References\n",
        "    ----------\n",
        "    .. [1] G. H. Golub and C. F. Van Loan, *Matrix Computations*,\n",
        "           Baltimore, MD, Johns Hopkins University Press, 1985, pg. 15\n",
        "    \n",
        "    Examples\n",
        "    --------\n",
        "    >>> from numpy import linalg as LA\n",
        "    >>> a = np.arange(9) - 4\n",
        "    >>> a\n",
        "    array([-4, -3, -2, -1,  0,  1,  2,  3,  4])\n",
        "    >>> b = a.reshape((3, 3))\n",
        "    >>> b\n",
        "    array([[-4, -3, -2],\n",
        "           [-1,  0,  1],\n",
        "           [ 2,  3,  4]])\n",
        "    \n",
        "    >>> LA.norm(a)\n",
        "    7.745966692414834\n",
        "    >>> LA.norm(b)\n",
        "    7.745966692414834\n",
        "    >>> LA.norm(b, 'fro')\n",
        "    7.745966692414834\n",
        "    >>> LA.norm(a, np.inf)\n",
        "    4\n",
        "    >>> LA.norm(b, np.inf)\n",
        "    9\n",
        "    >>> LA.norm(a, -np.inf)\n",
        "    0\n",
        "    >>> LA.norm(b, -np.inf)\n",
        "    2\n",
        "    \n",
        "    >>> LA.norm(a, 1)\n",
        "    20\n",
        "    >>> LA.norm(b, 1)\n",
        "    7\n",
        "    >>> LA.norm(a, -1)\n",
        "    -4.6566128774142013e-010\n",
        "    >>> LA.norm(b, -1)\n",
        "    6\n",
        "    >>> LA.norm(a, 2)\n",
        "    7.745966692414834\n",
        "    >>> LA.norm(b, 2)\n",
        "    7.3484692283495345\n",
        "    \n",
        "    >>> LA.norm(a, -2)\n",
        "    nan\n",
        "    >>> LA.norm(b, -2)\n",
        "    1.8570331885190563e-016\n",
        "    >>> LA.norm(a, 3)\n",
        "    5.8480354764257312\n",
        "    >>> LA.norm(a, -3)\n",
        "    nan\n",
        "    \n",
        "    Using the `axis` argument to compute vector norms:\n",
        "    \n",
        "    >>> c = np.array([[ 1, 2, 3],\n",
        "    ...               [-1, 1, 4]])\n",
        "    >>> LA.norm(c, axis=0)\n",
        "    array([ 1.41421356,  2.23606798,  5.        ])\n",
        "    >>> LA.norm(c, axis=1)\n",
        "    array([ 3.74165739,  4.24264069])\n",
        "    >>> LA.norm(c, ord=1, axis=1)\n",
        "    array([6, 6])\n",
        "    \n",
        "    Using the `axis` argument to compute matrix norms:\n",
        "    \n",
        "    >>> m = np.arange(8).reshape(2,2,2)\n",
        "    >>> LA.norm(m, axis=(1,2))\n",
        "    array([  3.74165739,  11.22497216])\n",
        "    >>> LA.norm(m[0, :, :]), LA.norm(m[1, :, :])\n",
        "    (3.7416573867739413, 11.224972160321824)\n",
        "\n"
       ]
      }
     ],
     "prompt_number": 54
    },
    {
     "cell_type": "code",
     "collapsed": false,
     "input": [],
     "language": "python",
     "metadata": {},
     "outputs": [],
     "prompt_number": 6
    }
   ],
   "metadata": {}
  }
 ]
}