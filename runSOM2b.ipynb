{
 "metadata": {
  "name": "",
  "signature": "sha256:b276604e16b19bc323962777f15c57d88f0e38404a9f8d7f78b07e8822770fd1"
 },
 "nbformat": 3,
 "nbformat_minor": 0,
 "worksheets": [
  {
   "cells": [
    {
     "cell_type": "code",
     "collapsed": false,
     "input": [
      "from minisom import MiniSom\n",
      "import random as r\n",
      "import copy as cop\n",
      "import os\n",
      "import numpy as np\n",
      "\n",
      "from glob import glob\n",
      "# import matplotlib as plt\n",
      "\n",
      "\n",
      "%pylab inline\n"
     ],
     "language": "python",
     "metadata": {},
     "outputs": [
      {
       "output_type": "stream",
       "stream": "stdout",
       "text": [
        "Populating the interactive namespace from numpy and matplotlib\n"
       ]
      },
      {
       "output_type": "stream",
       "stream": "stderr",
       "text": [
        "WARNING: pylab import has clobbered these variables: ['f', 'mod']\n",
        "`%matplotlib` prevents importing * from pylab and numpy\n"
       ]
      }
     ],
     "prompt_number": 44
    },
    {
     "cell_type": "code",
     "collapsed": false,
     "input": [
      "class SOM:\n",
      "    def pertWeights( self, scale=.2 ):     \n",
      "        print( 'Adding noise to SOM weights')\n",
      "        pertAmount = scale*(np.random.random_sample( self.som.weights.shape)-.5)\n",
      "        self.som.weights = self.som.weights + pertAmount\n",
      "    \n",
      "    def pertData( self, p=.2, verbose=False):\n",
      "        if verbose:\n",
      "            print( 'Making %.2f percent of inputs 0.0' %(p*100))\n",
      "        # randomly get proportion of indices to switch, then replace\n",
      "        p = max( min(p,1), 0 ) # set in range [0,1]\n",
      "        noiseIndex = np.random.binomial(1,p, self.data.shape)  #ones at p proportion of samples\n",
      "        self.data[noiseIndex ==1 ] = 0\n",
      "        #return data\n",
      "    \n",
      "    # plot the thing\n",
      "    def show( self, maxIdx=None):\n",
      "        print( 'Training exemplar projection')\n",
      "        som = self.som\n",
      "        if maxIdx == None:\n",
      "            maxIdx = len(self.data)\n",
      "        data= self.data[0:maxIdx]\n",
      "        target = self.target\n",
      "        bone()\n",
      "        pcolor(som.distance_map().T) # plotting the distance map as background\n",
      "        colorbar()\n",
      "        t = zeros(len(target),dtype=int)\n",
      "        t[target == 'A'] = 0\n",
      "        t[target == 'B'] = 1\n",
      "        # use different colors and markers for each label\n",
      "        markers = ['o','s','D']\n",
      "        colors = ['r','g','b']\n",
      "        for cnt,xx in enumerate(data):\n",
      "            w = som.winner(xx) # getting the winner\n",
      "            # palce a marker on the winning position for the sample xx\n",
      "            plot(w[0]+.5,w[1]+.5,markers[t[cnt]],markerfacecolor='None',\n",
      "                markeredgecolor=colors[t[cnt]],markersize=12,markeredgewidth=2)\n",
      "        axis([0,som.weights.shape[0],0,som.weights.shape[1]])\n",
      "        show() # show the figure\n",
      "        \n",
      "    def showIdeal( self):\n",
      "        print( 'Ideal exemplar projection')\n",
      "        som = self.som\n",
      "        data= self.ideal\n",
      "        target = self.idealTarget\n",
      "        bone()\n",
      "        pcolor(som.distance_map().T) # plotting the distance map as background\n",
      "        colorbar()\n",
      "        t = zeros(len(target),dtype=int)\n",
      "        t[target == 'A'] = 0\n",
      "        t[target == 'B'] = 1\n",
      "        # use different colors and markers for each label\n",
      "        markers = ['o','s','D']\n",
      "        colors = ['r','g','b']\n",
      "        for cnt,xx in enumerate(data):\n",
      "            w = som.winner(xx) # getting the winner\n",
      "            # palce a marker on the winning position for the sample xx\n",
      "            plot(w[0]+.5,w[1]+.5,markers[t[cnt]],markerfacecolor='None',\n",
      "                markeredgecolor=colors[t[cnt]],markersize=12,markeredgewidth=2)\n",
      "        axis([0,som.weights.shape[0],0,som.weights.shape[1]])\n",
      "        show() # show the figure        \n",
      "        \n",
      "    def train(self, iters = 30):\n",
      "        self.som.train_random(self.data,iters)\n",
      "#         print( 'Post training quantization error: %f' % self.som.quantization_error(self.data))\n",
      "\n",
      "    \"\"\"def trainOneGliozzi(self):\n",
      "        # using gliozzi thing\n",
      "        # init learning params\n",
      "        self.som.sigma_gliozzi = linspace(1.2, 0.8, num=len(self.data))\n",
      "        self.som._init_T(len(self.data))   \n",
      "        \n",
      "        #  will use the data idx to slowly reduce sigma, and learning rate in update function\n",
      "        self.som.update_gliozzi(self.data[self.dataIdx],self.som.winner(self.data[self.som.dataIdx]), self.som.dataIdx)\n",
      "\n",
      "        # update training index (for next time)\n",
      "        self.dataIdx += 1\n",
      "        if self.dataIdx >= len(self.data):\n",
      "            self.dataIdx = 0 \n",
      "    \"\"\"\n",
      "    \n",
      "    def trainOne(self ):\n",
      "        \"\"\" Trains the SOM picking samples from data one at a time \"\"\"\n",
      "        #self.running = True        \n",
      "        d = self.dataIdx  # data index to train\n",
      "        self.som._init_T(len(self.data))      \n",
      "        self.som.update( self.data[d], self.som.winner(self.data[d]), d)  # update\n",
      "        #self.running = False\n",
      "        \n",
      "        # update training index (for next time)\n",
      "        self.dataIdx += 1\n",
      "        if self.dataIdx >= len(self.data):\n",
      "            self.dataIdx = 0        \n",
      "\n",
      "    def predOne(self, verbose=False):\n",
      "        # Do the next one prediction\n",
      "        \n",
      "        # get BMU index and weight \n",
      "        bmuIdx = self.som.winner(self.data[self.dataIdx])\n",
      "        bmuW = self.som.weights[bmuIdx]\n",
      "        protDist = []\n",
      "        protLab = []\n",
      "        \n",
      "        # find distance to all prototypes                    \n",
      "        for prot,label in self.getProt():\n",
      "            protMapped = self.som.weights[self.som.winner(prot) ]\n",
      "            protDist.append( norm( bmuW- protMapped )) # self.ideal[ idx ])) \n",
      "            protLab.append( label )             #  self.idealTarget[idx] )     \n",
      "        \n",
      "        # SOM decision (random if no previous input)\n",
      "        if len( protDist ) >0:            \n",
      "            somLab = protLab[ argmin( protDist ) ]  # nearest category                \n",
      "        else:\n",
      "            somLab = ( 'A' if r.random() > .5 else 'B' )\n",
      "        trueLab = self.target[self.dataIdx]\n",
      "        \n",
      "        # update SOM accuracy\n",
      "        self.somAcc[self.dataIdx] = (1 if somLab==trueLab else 0 )\n",
      "        \n",
      "        # get child label\n",
      "        #  somAcc = (1 if predLab == trueLab else 0 )\n",
      "        if self.acc[self.dataIdx ] == 1: # if accurate\n",
      "            childLab = trueLab\n",
      "        elif np.isnan(self.acc[self.dataIdx ]): # if NaN\n",
      "            childLab = 'N'\n",
      "        else: # if wrong\n",
      "            childLab = 'AB'.strip(trueLab) \n",
      "    \n",
      "        if verbose:\n",
      "            print( 'SOM/Child/True Label: %s/%s/%s.' % (  somLab, childLab, trueLab)  )\n",
      "        return ( somLab, childLab ) \n",
      "\n",
      "    def predAll(self, reset = True, skip =0, verbose= True, reps=1 ):\n",
      "        \n",
      "        fullSomList = np.array([])\n",
      "        fullChildList = np.array([])\n",
      "        \n",
      "        for numRepetitions in range(reps): # repeat for random initialization of som            \n",
      "            # initialize som weights, and data index if reset=True\n",
      "            if reset:\n",
      "                self.initWeights()                \n",
      "                self.dataIdx = 0 # to index what data sample for one shot learning\n",
      "            \n",
      "            # init for storing results\n",
      "            somList = np.chararray(len(self.data)) #*np.nan\n",
      "            childList = np.chararray(len(self.data)) #*np.nan\n",
      "            # go through each trial and predict\n",
      "            for idx in range(len(self.data)):          \n",
      "                #predict\n",
      "                somLab, childLab = self.predOne()\n",
      "                somList[idx] = somLab\n",
      "                childList[idx] = childLab\n",
      "                # train\n",
      "                self.trainOne()  #  don't use mod.trainOneGliozzi()\n",
      "\n",
      "            # deal with missing values and skip first if requested\n",
      "            somList = somList[skip:]  # kick out first skip samples\n",
      "            childList = childList[skip:] # kick out first skip samples        \n",
      "            somList = somList[ childList != 'N'] # N for nan\n",
      "            childList = childList[ childList != 'N']\n",
      "            \n",
      "            # store in the big list\n",
      "            fullSomList = np.concatenate( (fullSomList, somList), axis=1)\n",
      "            fullChildList = np.concatenate( (fullChildList, childList), axis=1)\n",
      "        \n",
      "        # get how well model does\n",
      "        if len(fullChildList) >0:\n",
      "            scAgreement = float(np.sum( fullSomList==fullChildList))/len(fullSomList)\n",
      "        else:\n",
      "            scAgreement = np.nan\n",
      "            \n",
      "        if verbose:\n",
      "            print 'SOM pred: ', fullSomList\n",
      "            print 'Inf pred: ', fullChildList            \n",
      "            print('SOM and infant agree %.2f of time' % scAgreement )\n",
      "        return fullSomList == fullChildList\n",
      "\n",
      "    \n",
      "    \n",
      "    def separation( self):\n",
      "        \"\"\"return the norm of the difference vector between the mean of projected idealized class\n",
      "            A exemplars, and class B exemplars.  Essentially, the separation between those classes \n",
      "            May need to include a variance normalization in future. \"\"\"\n",
      "        A =  self.ideal[ self.idealTarget=='A']\n",
      "        B =  self.ideal[ self.idealTarget=='B']\n",
      "        projA = numpy.empty(A.shape) * numpy.nan\n",
      "        projB = numpy.empty(B.shape) * numpy.nan\n",
      "        # go through all catA\n",
      "        for idx,x in enumerate(A):\n",
      "            projA[idx] = mod.som.weights[mod.som.winner(x)]\n",
      "        for idx,x in enumerate(B):\n",
      "            projB[idx] = mod.som.weights[mod.som.winner(x)]\n",
      "        diff = linalg.norm(projA.mean(axis=0)-projB.mean(axis=0) ) \n",
      "        \n",
      "        # pooled variance estimate (not standard, since using average variance across dimensions for a class)\n",
      "        pVar = pVar = (projA.var(axis=0).mean() + projB.var(axis=0).mean() )/2  \n",
      "        \n",
      "        return diff/np.sqrt( pVar)\n",
      "    \n",
      "    def getProt( self, idealProt = False ):\n",
      "        prot = []\n",
      "        label = []    \n",
      "        \n",
      "        # use true prototypes from ideal data\n",
      "        if idealProt:\n",
      "            for idx in self.protIdx:\n",
      "                prot.append(self.ideal[idx,:])\n",
      "                label.append(self.idealTarget[idx])        \n",
      "        # estimate prototypes based in training data\n",
      "        else:\n",
      "            # get data/labels just until the current iteration\n",
      "            targTemp = self.target[:self.dataIdx]\n",
      "            dataTemp = self.data[:self.dataIdx,:]\n",
      "            # loop through all labels, calc prototypes by average\n",
      "            for t in np.unique(targTemp):    \n",
      "                prot.append(np.mean( dataTemp[ targTemp==t, :], axis=0 ))  # mean of category\n",
      "                label.append(t) # corresponding label                \n",
      "        return zip(prot,label )   \n",
      "        \n",
      "    def initWeights(self, scale=1 ):\n",
      "        \"\"\" Initializes the weights of the SOM randomly around 0 \"\"\"        \n",
      "        self.som.weights =scale*(np.random.random_sample( self.som.weights.shape)-.5)\n",
      "\n",
      "\n",
      "    def showLearnCuves(self, window=6):\n",
      "        curveSOM = slideAcc( self.somAcc, window )\n",
      "        curveSubj = slideAcc( self.acc, window )\n",
      "        plot( np.arange(len(curveSOM)) ,curveSOM, 'k.-', linewidth=3, label='SOM')\n",
      "        plot( np.arange(len(curveSubj)), curveSubj, 'g--', linewidth=3, label='prt')\n",
      "        plot( np.arange(0,50), np.ones(50)*.5,'r-', linewidth=2, label='chance')\n",
      "        xlabel('trial')\n",
      "        legend()\n",
      "        self.curveSOM = curveSOM\n",
      "        self.curveSubj = curveSubj\n",
      "        \n",
      "    \n",
      "    def meanLrnCurves( self, iters = 10, removeProp = 0  ):\n",
      "        # backup ori data, init acc vector\n",
      "        dataOri = cop.copy(self.data)\n",
      "        accSum = np.zeros(len(self.acc))\n",
      "        \n",
      "        for i1 in range(iters):\n",
      "            # train/predict SOM several times            \n",
      "            self.data = cop.copy(dataOri)\n",
      "            self.pertData(removeProp)  #not perfect data to train                      \n",
      "            agreement = self.predAll( verbose=False, skip=0, reps=1)     \n",
      "            accSum =accSum + self.somAcc\n",
      "        self.somAcc = accSum/iters\n",
      "        # average accuracy\n",
      "\n",
      "\n",
      "    \n",
      "    #-------------------------------------------------\n",
      "    \n",
      "    def __init__(self, file_name='4750.csv', columns = [0,1,2,3,4,5,6,7], width = 6, height = 5, sigma=1.2,  learning_rate=0.5 ):\n",
      "        \n",
      "        #       self.visual_only = [0,1,2,3,4,5,6,7]\n",
      "        #       self.visual_and_acoustic = [0,1,2,3,4,5,6,7,8]\n",
      "\n",
      "        # load data and normalization\n",
      "        self.data = np.genfromtxt( file_name, delimiter=',',usecols=columns, skip_header=1)        \n",
      "        self.data *= 2.0 \n",
      "        self.data += -1.0  # -0.5 \n",
      "        # get target labels\n",
      "        self.target = genfromtxt(file_name,delimiter=',',usecols=(9),dtype=str, skip_header=1) # loading the labels\n",
      "        #get infant accuracy\n",
      "        self.acc = genfromtxt(file_name,delimiter=',',usecols=(10),dtype=float, skip_header=1) \n",
      "        self.somAcc = self.acc*np.nan\n",
      "        \n",
      "        # init som\n",
      "        self.som = MiniSom(width, height, self.data.shape[1], sigma=sigma,learning_rate=learning_rate)\n",
      "        #self.som.random_weights_init(self.data)\n",
      "        self.initWeights()  \n",
      "        self.dataIdx = 0 # to index what data sample for one shot learning\n",
      "        \n",
      "        # get idealized data\n",
      "        self.ideal = np.genfromtxt( 'stimuli.csv', delimiter=',',usecols=columns, skip_header=1) \n",
      "        self.ideal *= 2.0 \n",
      "        self.ideal += -1.0  # -0.5 \n",
      "        self.idealTarget = genfromtxt('stimuli.csv',delimiter=',',usecols=(9),dtype=str, skip_header=1) # loading the labels\n",
      "               \n",
      "        # index of ideal samples that are category prototypes\n",
      "        self.protIdx = np.array([6,7])\n",
      "\n",
      "\n",
      "#------------------------------------------------------------------\n",
      "\n",
      "# def getIdeal( file_name='stimuli.csv', columns = [0,1,2,3,4,5,6,7]): \n",
      "#     # return the ideal data for checking quantization error\n",
      "#     data = np.genfromtxt( file_name, delimiter=',',usecols=columns, skip_header=1)     \n",
      "#     return ( data[:7,:], data[7:,:] )\n",
      "\n",
      "\n",
      "def slideAcc( acc, window=6 ):\n",
      "    # return a sliding window average of accuracy \n",
      "    N = len(acc)\n",
      "    wAcc = np.zeros((N))*np.nan\n",
      "    for i1 in range(window,N+1):      \n",
      "        a = acc[i1-window:i1]\n",
      "        #print i1, a\n",
      "        wAcc[i1-1] = nanmean(a) # get mean over window    \n",
      "    return wAcc\n"
     ],
     "language": "python",
     "metadata": {},
     "outputs": [],
     "prompt_number": 45
    },
    {
     "cell_type": "code",
     "collapsed": false,
     "input": [],
     "language": "python",
     "metadata": {},
     "outputs": [],
     "prompt_number": 45
    },
    {
     "cell_type": "code",
     "collapsed": false,
     "input": [
      "# init som\n",
      "f = '4750.csv'\n",
      "\n",
      "\n",
      "fileDir = '../../KARS_reinf/Python/FeatIdealAdultBL/'\n",
      "# fileDir = '../../KARS_reinf/Python/FeatSeenBySubAdultBL/'\n",
      "\n",
      "# fileDir = '../../KARS_reinf/Python/FeatSeenBySubBaseline/'\n",
      "# fileDir = '../../KARS_reinf/Python/FeatSeenBySubLabel/'\n",
      "# fileDir = '../../KARS_reinf/Python/FeatSeenBySubSup/'\n",
      "files = glob( fileDir + '*.csv') #fileDir+'4760.csv'\n",
      "\n",
      "\n",
      "mod = SOM( files[1], learning_rate=0.4 ) \n",
      "mod.pertData(.8)\n",
      "mod.show()\n",
      "mod.showIdeal()\n",
      "\n",
      "\n",
      "\n"
     ],
     "language": "python",
     "metadata": {},
     "outputs": [
      {
       "output_type": "stream",
       "stream": "stdout",
       "text": [
        "Training exemplar projection\n"
       ]
      },
      {
       "metadata": {},
       "output_type": "display_data",
       "png": "[encoded data removed]",
       "text": [
        "<matplotlib.figure.Figure at 0x47e3c90>"
       ]
      },
      {
       "output_type": "stream",
       "stream": "stdout",
       "text": [
        "Ideal exemplar projection\n"
       ]
      },
      {
       "metadata": {},
       "output_type": "display_data",
       "png": "[encoded data removed]",
       "text": [
        "<matplotlib.figure.Figure at 0x4b6ccd0>"
       ]
      }
     ],
     "prompt_number": 46
    },
    {
     "cell_type": "code",
     "collapsed": false,
     "input": [
      "# mod.data\n",
      "# mod.somAcc\n",
      "# mod.acc"
     ],
     "language": "python",
     "metadata": {},
     "outputs": [],
     "prompt_number": 47
    },
    {
     "cell_type": "code",
     "collapsed": false,
     "input": [
      "\n",
      "# train incrementally example\n",
      "\n",
      "somLab, childLab = mod.predOne( verbose=True)\n",
      "mod.trainOne()  #  don't use mod.trainOneGliozzi()\n",
      "print( 'Iter %d'% mod.dataIdx )\n",
      "\n",
      "mod.show(mod.dataIdx)\n",
      "mod.showIdeal()  # ideal exemplars on trained map\n",
      "\n",
      "\n"
     ],
     "language": "python",
     "metadata": {},
     "outputs": [
      {
       "output_type": "stream",
       "stream": "stdout",
       "text": [
        "SOM/Child/True Label: B/A/A.\n",
        "Iter 1\n",
        "Training exemplar projection\n"
       ]
      },
      {
       "metadata": {},
       "output_type": "display_data",
       "png": "[encoded data removed]",
       "text": [
        "<matplotlib.figure.Figure at 0x3f162d0>"
       ]
      },
      {
       "output_type": "stream",
       "stream": "stdout",
       "text": [
        "Ideal exemplar projection\n"
       ]
      },
      {
       "metadata": {},
       "output_type": "display_data",
       "png": "[encoded data removed]",
       "text": [
        "<matplotlib.figure.Figure at 0x4b494d0>"
       ]
      }
     ],
     "prompt_number": 48
    },
    {
     "cell_type": "code",
     "collapsed": false,
     "input": [
      "#####  Calculate learning curve (several initializations)\n",
      "\n",
      "f = files[2]\n",
      "removeProp = .7\n",
      "lrnRt = 0\n",
      "iters = 30\n",
      "\n",
      "\n",
      "mod = SOM( f, learning_rate= lrnRt )\n",
      "mod.meanLrnCurves( iters = iters, removeProp = removeProp  )\n",
      "\n",
      "# show curves\n",
      "mod.showLearnCuves(window=4)\n",
      "\n",
      "figure()\n",
      "mod.show()\n"
     ],
     "language": "python",
     "metadata": {},
     "outputs": [
      {
       "output_type": "stream",
       "stream": "stdout",
       "text": [
        "Training exemplar projection\n"
       ]
      },
      {
       "metadata": {},
       "output_type": "display_data",
       "png": "[encoded data removed]",
       "text": [
        "<matplotlib.figure.Figure at 0x51de5d0>"
       ]
      },
      {
       "metadata": {},
       "output_type": "display_data",
       "png": "[encoded data removed]",
       "text": [
        "<matplotlib.figure.Figure at 0x51de150>"
       ]
      }
     ],
     "prompt_number": 77
    },
    {
     "cell_type": "code",
     "collapsed": false,
     "input": [
      "##  fit learning curve to participants\n",
      "\n",
      "import scipy.optimize as opt\n",
      "\n",
      "\n",
      "f = files[2]\n",
      "iters = 30\n",
      "\n",
      "def subModError( x0):\n",
      "    lrnRt = 3*x0[0]\n",
      "    removeProp = 3*x0[1]\n",
      "    \n",
      "    \n",
      "    mod = SOM( f, learning_rate= lrnRt )\n",
      "    mod.meanLrnCurves( iters = iters, removeProp = removeProp  )\n",
      "    \n",
      "    # return norm or error divided my length\n",
      "    error = norm(mod.somAcc[ ~np.isnan(mod.acc)]  - mod.acc[~np.isnan(  mod.acc)])/np.sum( np.sum( ~np.isnan(mod.acc))) \n",
      "    print('learn rate: %.4f, removed prop: %.4f, error: %.4f' %( lrnRt, removeProp, error) )\n",
      "    return error\n",
      "    \n",
      "# subModError( array([.2,.5]))\n",
      "\n",
      "\n",
      "res = opt.minimize(subModError, [.1,.1], method= 'powell',  #'nelder-mead',\n",
      "                        options={'xtol': 1e-3, 'disp': True} )"
     ],
     "language": "python",
     "metadata": {},
     "outputs": [
      {
       "output_type": "stream",
       "stream": "stdout",
       "text": [
        "learn rate: 0.3000, removed prop: 0.3000, error: 0.0498\n",
        "learn rate: 0.3000, removed prop: 0.3000, error: 0.0510"
       ]
      },
      {
       "output_type": "stream",
       "stream": "stdout",
       "text": [
        "\n",
        "learn rate: 3.3000, removed prop: 0.3000, error: 0.0498"
       ]
      },
      {
       "output_type": "stream",
       "stream": "stdout",
       "text": [
        "\n",
        "learn rate: 8.1541, removed prop: 0.3000, error: 0.0446"
       ]
      },
      {
       "output_type": "stream",
       "stream": "stdout",
       "text": [
        "\n",
        "learn rate: 16.0082, removed prop: 0.3000, error: 0.0446"
       ]
      },
      {
       "output_type": "stream",
       "stream": "stdout",
       "text": [
        "\n",
        "learn rate: 8.1541, removed prop: 0.3000, error: 0.0474"
       ]
      },
      {
       "output_type": "stream",
       "stream": "stdout",
       "text": [
        "\n",
        "learn rate: 11.1541, removed prop: 0.3000, error: 0.0473"
       ]
      },
      {
       "output_type": "stream",
       "stream": "stdout",
       "text": [
        "\n",
        "learn rate: 13.0082, removed prop: 0.3000, error: 0.0469"
       ]
      },
      {
       "output_type": "stream",
       "stream": "stdout",
       "text": [
        "\n",
        "learn rate: 14.2790, removed prop: 0.3000, error: 0.0441"
       ]
      },
      {
       "output_type": "stream",
       "stream": "stdout",
       "text": [
        "\n",
        "learn rate: 14.2790, removed prop: 0.3000, error: 0.0453"
       ]
      },
      {
       "output_type": "stream",
       "stream": "stdout",
       "text": [
        "\n",
        "learn rate: 14.2790, removed prop: 3.3000, error: 0.1066"
       ]
      },
      {
       "output_type": "stream",
       "stream": "stdout",
       "text": [
        "\n",
        "learn rate: 14.2790, removed prop: -4.5541, error: 0.0519"
       ]
      },
      {
       "output_type": "stream",
       "stream": "stdout",
       "text": [
        "\n",
        "learn rate: 14.2790, removed prop: 0.3000, error: 0.0482"
       ]
      },
      {
       "output_type": "stream",
       "stream": "stdout",
       "text": [
        "\n",
        "learn rate: 14.2790, removed prop: -1.5541, error: 0.0506"
       ]
      },
      {
       "output_type": "stream",
       "stream": "stdout",
       "text": [
        "\n",
        "learn rate: 14.2790, removed prop: 1.4459, error: 0.1068"
       ]
      },
      {
       "output_type": "stream",
       "stream": "stdout",
       "text": [
        "\n",
        "learn rate: 14.2790, removed prop: -0.5899, error: 0.0509"
       ]
      },
      {
       "output_type": "stream",
       "stream": "stdout",
       "text": [
        "\n",
        "learn rate: 14.2790, removed prop: 0.7377, error: 0.0566"
       ]
      },
      {
       "output_type": "stream",
       "stream": "stdout",
       "text": [
        "\n",
        "learn rate: 14.2790, removed prop: -0.0399, error: 0.0510"
       ]
      },
      {
       "output_type": "stream",
       "stream": "stdout",
       "text": [
        "\n",
        "learn rate: 14.2790, removed prop: 0.4672, error: 0.0495"
       ]
      },
      {
       "output_type": "stream",
       "stream": "stdout",
       "text": [
        "\n",
        "learn rate: 14.2790, removed prop: 0.1702, error: 0.0448"
       ]
      },
      {
       "output_type": "stream",
       "stream": "stdout",
       "text": [
        "\n",
        "learn rate: 14.2790, removed prop: 0.0899, error: 0.0465"
       ]
      },
      {
       "output_type": "stream",
       "stream": "stdout",
       "text": [
        "\n",
        "learn rate: 14.2790, removed prop: 0.1831, error: 0.0476"
       ]
      },
      {
       "output_type": "stream",
       "stream": "stdout",
       "text": [
        "\n",
        "learn rate: 14.2790, removed prop: 0.1342, error: 0.0458"
       ]
      },
      {
       "output_type": "stream",
       "stream": "stdout",
       "text": [
        "\n",
        "learn rate: 14.2790, removed prop: 0.1564, error: 0.0455"
       ]
      },
      {
       "output_type": "stream",
       "stream": "stdout",
       "text": [
        "\n",
        "learn rate: 28.2580, removed prop: 0.0403, error: 0.0475"
       ]
      },
      {
       "output_type": "stream",
       "stream": "stdout",
       "text": [
        "\n",
        "learn rate: 14.2790, removed prop: 0.1702, error: 0.0459"
       ]
      },
      {
       "output_type": "stream",
       "stream": "stdout",
       "text": [
        "\n",
        "learn rate: 28.2580, removed prop: 0.0403, error: 0.0465"
       ]
      },
      {
       "output_type": "stream",
       "stream": "stdout",
       "text": [
        "\n",
        "learn rate: -8.3395, removed prop: 0.3802, error: 0.0537"
       ]
      },
      {
       "output_type": "stream",
       "stream": "stdout",
       "text": [
        "\n",
        "learn rate: 14.2790, removed prop: 0.1702, error: 0.0470"
       ]
      },
      {
       "output_type": "stream",
       "stream": "stdout",
       "text": [
        "\n",
        "learn rate: 5.6395, removed prop: 0.2504, error: 0.0459"
       ]
      },
      {
       "output_type": "stream",
       "stream": "stdout",
       "text": [
        "\n",
        "learn rate: 0.3000, removed prop: 0.3000, error: 0.0496"
       ]
      },
      {
       "output_type": "stream",
       "stream": "stdout",
       "text": [
        "\n",
        "learn rate: 8.8688, removed prop: 0.2204, error: 0.0468"
       ]
      },
      {
       "output_type": "stream",
       "stream": "stdout",
       "text": [
        "\n",
        "learn rate: 3.6000, removed prop: 0.2693, error: 0.0488"
       ]
      },
      {
       "output_type": "stream",
       "stream": "stdout",
       "text": [
        "\n",
        "learn rate: 6.8730, removed prop: 0.2389, error: 0.0468"
       ]
      },
      {
       "output_type": "stream",
       "stream": "stdout",
       "text": [
        "\n",
        "learn rate: 4.7756, removed prop: 0.2584, error: 0.0477"
       ]
      },
      {
       "output_type": "stream",
       "stream": "stdout",
       "text": [
        "\n",
        "learn rate: 5.6395, removed prop: 0.2504, error: 0.0442"
       ]
      },
      {
       "output_type": "stream",
       "stream": "stdout",
       "text": [
        "\n",
        "learn rate: 5.6395, removed prop: 3.2504, error: 0.1068"
       ]
      },
      {
       "output_type": "stream",
       "stream": "stdout",
       "text": [
        "\n",
        "learn rate: 5.6395, removed prop: -4.6037, error: 0.0442"
       ]
      },
      {
       "output_type": "stream",
       "stream": "stdout",
       "text": [
        "\n",
        "learn rate: 5.6395, removed prop: 0.2504, error: 0.0478"
       ]
      },
      {
       "output_type": "stream",
       "stream": "stdout",
       "text": [
        "\n",
        "learn rate: 5.6395, removed prop: -1.6037, error: 0.0439"
       ]
      },
      {
       "output_type": "stream",
       "stream": "stdout",
       "text": [
        "\n",
        "learn rate: 5.6395, removed prop: -2.7496, error: 0.0440"
       ]
      },
      {
       "output_type": "stream",
       "stream": "stdout",
       "text": [
        "\n",
        "learn rate: 5.6395, removed prop: -2.0757, error: 0.0449"
       ]
      },
      {
       "output_type": "stream",
       "stream": "stdout",
       "text": [
        "\n",
        "learn rate: 5.6395, removed prop: -0.8955, error: 0.0437"
       ]
      },
      {
       "output_type": "stream",
       "stream": "stdout",
       "text": [
        "\n",
        "learn rate: 5.6395, removed prop: -0.4578, error: 0.0435"
       ]
      },
      {
       "output_type": "stream",
       "stream": "stdout",
       "text": [
        "\n",
        "learn rate: 5.6395, removed prop: -0.1873, error: 0.0444"
       ]
      },
      {
       "output_type": "stream",
       "stream": "stdout",
       "text": [
        "\n",
        "learn rate: 5.6395, removed prop: -0.6250, error: 0.0433"
       ]
      },
      {
       "output_type": "stream",
       "stream": "stdout",
       "text": [
        "\n",
        "learn rate: 5.6395, removed prop: -0.7125, error: 0.0446"
       ]
      },
      {
       "output_type": "stream",
       "stream": "stdout",
       "text": [
        "\n",
        "learn rate: 5.6395, removed prop: -0.6250, error: 0.0439"
       ]
      },
      {
       "output_type": "stream",
       "stream": "stdout",
       "text": [
        "\n",
        "learn rate: -3.0000, removed prop: -0.5447, error: 0.0546"
       ]
      },
      {
       "output_type": "stream",
       "stream": "stdout",
       "text": [
        "\n",
        "learn rate: 19.6185, removed prop: -0.7548, error: 0.0532"
       ]
      },
      {
       "output_type": "stream",
       "stream": "stdout",
       "text": [
        "\n",
        "learn rate: 5.6395, removed prop: -0.6250, error: 0.0433"
       ]
      },
      {
       "output_type": "stream",
       "stream": "stdout",
       "text": [
        "\n",
        "learn rate: 10.9790, removed prop: -0.6746, error: 0.0496"
       ]
      },
      {
       "output_type": "stream",
       "stream": "stdout",
       "text": [
        "\n",
        "learn rate: 2.3395, removed prop: -0.5943, error: 0.0488"
       ]
      },
      {
       "output_type": "stream",
       "stream": "stdout",
       "text": [
        "\n",
        "learn rate: 6.5028, removed prop: -0.6330, error: 0.0493"
       ]
      },
      {
       "output_type": "stream",
       "stream": "stdout",
       "text": [
        "\n",
        "learn rate: 4.3916, removed prop: -0.6134, error: 0.0480"
       ]
      },
      {
       "output_type": "stream",
       "stream": "stdout",
       "text": [
        "\n",
        "learn rate: 5.1629, removed prop: -0.6206, error: 0.0488"
       ]
      },
      {
       "output_type": "stream",
       "stream": "stdout",
       "text": [
        "\n",
        "learn rate: 5.9693, removed prop: -0.6280, error: 0.0488"
       ]
      },
      {
       "output_type": "stream",
       "stream": "stdout",
       "text": [
        "\n",
        "learn rate: 5.4575, removed prop: -0.6233, error: 0.0491"
       ]
      },
      {
       "output_type": "stream",
       "stream": "stdout",
       "text": [
        "\n",
        "learn rate: 5.7655, removed prop: -0.6262, error: 0.0435"
       ]
      },
      {
       "output_type": "stream",
       "stream": "stdout",
       "text": [
        "\n",
        "learn rate: 5.5700, removed prop: -0.6243, error: 0.0482"
       ]
      },
      {
       "output_type": "stream",
       "stream": "stdout",
       "text": [
        "\n",
        "learn rate: 5.6876, removed prop: -0.6254, error: 0.0437"
       ]
      },
      {
       "output_type": "stream",
       "stream": "stdout",
       "text": [
        "\n",
        "learn rate: 5.6129, removed prop: -0.6247, error: 0.0443"
       ]
      },
      {
       "output_type": "stream",
       "stream": "stdout",
       "text": [
        "\n",
        "learn rate: 5.6579, removed prop: -0.6252, error: 0.0437"
       ]
      },
      {
       "output_type": "stream",
       "stream": "stdout",
       "text": [
        "\n",
        "learn rate: 5.6294, removed prop: -0.6249, error: 0.0442"
       ]
      },
      {
       "output_type": "stream",
       "stream": "stdout",
       "text": [
        "\n",
        "learn rate: 5.6465, removed prop: -0.6250, error: 0.0437"
       ]
      },
      {
       "output_type": "stream",
       "stream": "stdout",
       "text": [
        "\n",
        "learn rate: 5.6356, removed prop: -0.6249, error: 0.0437"
       ]
      },
      {
       "output_type": "stream",
       "stream": "stdout",
       "text": [
        "\n",
        "learn rate: 5.6422, removed prop: -0.6250, error: 0.0435"
       ]
      },
      {
       "output_type": "stream",
       "stream": "stdout",
       "text": [
        "\n",
        "learn rate: 5.6380, removed prop: -0.6250, error: 0.0440"
       ]
      },
      {
       "output_type": "stream",
       "stream": "stdout",
       "text": [
        "\n",
        "learn rate: 5.6405, removed prop: -0.6250, error: 0.0433"
       ]
      },
      {
       "output_type": "stream",
       "stream": "stdout",
       "text": [
        "\n",
        "learn rate: 5.6400, removed prop: -0.6250, error: 0.0429"
       ]
      },
      {
       "output_type": "stream",
       "stream": "stdout",
       "text": [
        "\n",
        "learn rate: 5.6400, removed prop: -0.6250, error: 0.0435"
       ]
      },
      {
       "output_type": "stream",
       "stream": "stdout",
       "text": [
        "\n",
        "learn rate: 5.6401, removed prop: -0.6250, error: 0.0444"
       ]
      },
      {
       "output_type": "stream",
       "stream": "stdout",
       "text": [
        "\n",
        "learn rate: -2.9990, removed prop: -1.4201, error: 0.0530"
       ]
      },
      {
       "output_type": "stream",
       "stream": "stdout",
       "text": [
        "\n",
        "learn rate: 5.6400, removed prop: -0.6250, error: 0.0440"
       ]
      },
      {
       "output_type": "stream",
       "stream": "stdout",
       "text": [
        "\n",
        "learn rate: 5.6400, removed prop: 2.3750, error: 0.1069"
       ]
      },
      {
       "output_type": "stream",
       "stream": "stdout",
       "text": [
        "\n",
        "learn rate: 5.6400, removed prop: -5.4791, error: 0.0442"
       ]
      },
      {
       "output_type": "stream",
       "stream": "stdout",
       "text": [
        "\n",
        "learn rate: 5.6400, removed prop: -0.6250, error: 0.0444"
       ]
      },
      {
       "output_type": "stream",
       "stream": "stdout",
       "text": [
        "\n",
        "learn rate: 5.6400, removed prop: -2.4791, error: 0.0440"
       ]
      },
      {
       "output_type": "stream",
       "stream": "stdout",
       "text": [
        "\n",
        "learn rate: 5.6400, removed prop: -3.6250, error: 0.0442"
       ]
      },
      {
       "output_type": "stream",
       "stream": "stdout",
       "text": [
        "\n",
        "learn rate: 5.6400, removed prop: -2.2937, error: 0.0434"
       ]
      },
      {
       "output_type": "stream",
       "stream": "stdout",
       "text": [
        "\n",
        "learn rate: 5.6400, removed prop: -1.6563, error: 0.0442"
       ]
      },
      {
       "output_type": "stream",
       "stream": "stdout",
       "text": [
        "\n",
        "learn rate: 5.6400, removed prop: -2.0874, error: 0.0444"
       ]
      },
      {
       "output_type": "stream",
       "stream": "stdout",
       "text": [
        "\n",
        "learn rate: 5.6400, removed prop: -2.2937, error: 0.0439"
       ]
      },
      {
       "output_type": "stream",
       "stream": "stdout",
       "text": [
        "\n",
        "learn rate: -2.9995, removed prop: -2.2134, error: 0.0531"
       ]
      },
      {
       "output_type": "stream",
       "stream": "stdout",
       "text": [
        "\n",
        "learn rate: 19.6190, removed prop: -2.4235, error: 0.0530"
       ]
      },
      {
       "output_type": "stream",
       "stream": "stdout",
       "text": [
        "\n",
        "learn rate: 5.6400, removed prop: -2.2937, error: 0.0437"
       ]
      },
      {
       "output_type": "stream",
       "stream": "stdout",
       "text": [
        "\n",
        "learn rate: 10.9795, removed prop: -2.3433, error: 0.0489"
       ]
      },
      {
       "output_type": "stream",
       "stream": "stdout",
       "text": [
        "\n",
        "learn rate: 2.3400, removed prop: -2.2630, error: 0.0486"
       ]
      },
      {
       "output_type": "stream",
       "stream": "stdout",
       "text": [
        "\n",
        "learn rate: 6.5969, removed prop: -2.3026, error: 0.0483"
       ]
      },
      {
       "output_type": "stream",
       "stream": "stdout",
       "text": [
        "\n",
        "learn rate: 4.4898, removed prop: -2.2830, error: 0.0491"
       ]
      },
      {
       "output_type": "stream",
       "stream": "stdout",
       "text": [
        "\n",
        "learn rate: 5.2007, removed prop: -2.2896, error: 0.0491"
       ]
      },
      {
       "output_type": "stream",
       "stream": "stdout",
       "text": [
        "\n",
        "learn rate: 6.0055, removed prop: -2.2971, error: 0.0494"
       ]
      },
      {
       "output_type": "stream",
       "stream": "stdout",
       "text": [
        "\n",
        "learn rate: 5.4722, removed prop: -2.2921, error: 0.0488"
       ]
      },
      {
       "output_type": "stream",
       "stream": "stdout",
       "text": [
        "\n",
        "learn rate: 5.7796, removed prop: -2.2950, error: 0.0437"
       ]
      },
      {
       "output_type": "stream",
       "stream": "stdout",
       "text": [
        "\n",
        "learn rate: 5.7098, removed prop: -2.2943, error: 0.0434"
       ]
      },
      {
       "output_type": "stream",
       "stream": "stdout",
       "text": [
        "\n",
        "learn rate: 5.7029, removed prop: -2.2943, error: 0.0440"
       ]
      },
      {
       "output_type": "stream",
       "stream": "stdout",
       "text": [
        "\n",
        "learn rate: 5.7168, removed prop: -2.2944, error: 0.0434"
       ]
      },
      {
       "output_type": "stream",
       "stream": "stdout",
       "text": [
        "\n",
        "learn rate: 5.7408, removed prop: -2.2946, error: 0.0439"
       ]
      },
      {
       "output_type": "stream",
       "stream": "stdout",
       "text": [
        "\n",
        "learn rate: 5.7245, removed prop: -2.2945, error: 0.0439"
       ]
      },
      {
       "output_type": "stream",
       "stream": "stdout",
       "text": [
        "\n",
        "Optimization terminated successfully.\n",
        "         Current function value: 0.043396\n",
        "         Iterations: 3\n",
        "         Function evaluations: 99\n"
       ]
      }
     ],
     "prompt_number": 59
    },
    {
     "cell_type": "code",
     "collapsed": false,
     "input": [
      "3*res.x"
     ],
     "language": "python",
     "metadata": {},
     "outputs": [
      {
       "metadata": {},
       "output_type": "pyout",
       "prompt_number": 60,
       "text": [
        "array([ 5.71681156, -2.29439183])"
       ]
      }
     ],
     "prompt_number": 60
    },
    {
     "cell_type": "code",
     "collapsed": false,
     "input": [
      "# how well do SOMs and participants agree in decisions?\n",
      "#      train incrementally and combine all participant scores\n",
      "\n",
      "# def allFilesPred(  ):\n",
      "# fileDir = '../../KARS_reinf/Python/FeatSeenBySubAdultBL/'\n",
      "# fileDir = '../../KARS_reinf/Python/FeatSeenBySubBaseline/'\n",
      "# fileDir = '../../KARS_reinf/Python/FeatSeenBySubLabel/'\n",
      "# fileDir = '../../KARS_reinf/Python/FeatSeenBySubSup/'\n",
      "\n",
      "\n",
      "files = glob( fileDir + '*.csv') #fileDir+'4760.csv'\n",
      "agVec = np.array([])\n",
      "for idx,f in enumerate(files):  \n",
      "    mod = SOM( f, learning_rate=0.2 ) #'4750.csv'\n",
      "    agree =  mod.predAll( verbose=False, skip=0, reps=1) \n",
      "    \n",
      "    # compile how many times SOM and infant agree\n",
      "    agVec = np.append( agVec, agree)             \n",
      "\n",
      "print fileDir\n",
      "print( 'SOM and participants agee M+SD: %.2f +- %.2f '% (nanmean( agVec), nanstd(agVec))  )\n",
      "\n"
     ],
     "language": "python",
     "metadata": {},
     "outputs": [
      {
       "output_type": "stream",
       "stream": "stdout",
       "text": [
        "../../KARS_reinf/Python/FeatIdealAdultBL/\n",
        "SOM and participants agee M+SD: 0.73 +- 0.44 \n"
       ]
      }
     ],
     "prompt_number": 7
    },
    {
     "cell_type": "code",
     "collapsed": false,
     "input": [
      "# Optimize learning rate to maximize SOM/infant prediction correlation\n",
      "\n",
      "def allFilesPred( x0 ): # learning rate\n",
      "    fileDir = '../../KARS_reinf/Python/FeatSeenBySubBaseline/'\n",
      "    files = glob( fileDir + '*.csv') #fileDir+'4760.csv'\n",
      "    agVec = np.array([])\n",
      "    for idx,f in enumerate(files):\n",
      "        #print f\n",
      "        mod = SOM( f, learning_rate=x0 ) # 0.3\n",
      "        agree =  mod.predAll( verbose=False, skip=8, reps=3) \n",
      "        # compile how many times SOM and infant agree\n",
      "        agVec = np.append( agVec, agree)             \n",
      "        \n",
      "    print(fileDir)\n",
      "    print( 'Learning rate: %.2f' % x0)        \n",
      "    print( 'SOM and participants agee M+SD: %.3f +- %.3f '% (nanmean( agVec), nanstd(agVec))  )\n",
      "#     return nanmean( agVec)\n",
      "\n",
      "\n",
      "# for lrnRt in np.arange(.1,2,.2):\n",
      "allFilesPred( lrnRt) \n",
      "    \n",
      "# x = fmin( "
     ],
     "language": "python",
     "metadata": {},
     "outputs": [
      {
       "output_type": "stream",
       "stream": "stdout",
       "text": [
        "../../KARS_reinf/Python/FeatSeenBySubBaseline/\n",
        "Learning rate: 0.30\n",
        "SOM and participants agee M+SD: 0.538 +- 0.499 \n"
       ]
      }
     ],
     "prompt_number": 8
    },
    {
     "cell_type": "code",
     "collapsed": false,
     "input": [
      "# f"
     ],
     "language": "python",
     "metadata": {},
     "outputs": [],
     "prompt_number": 9
    },
    {
     "cell_type": "code",
     "collapsed": false,
     "input": [
      "# how to use\n",
      "# fileDir = '../../KARS_reinf/Python/FeatSeenBySub/'\n",
      "\n",
      "mod = SOM( '4750.csv', learning_rate=0.3 ) #fileDir+'4760.csv')\n",
      "mod.train(20)\n",
      "# mod.trainOneGliozzi()\n",
      "mod.show()\n",
      "\n",
      "# print( 'SOM with infant exemplars')\n",
      "mod.showIdeal()\n",
      "mod.separation()\n",
      "\n",
      "print mod.acc\n",
      "print nanmean( mod.acc)\n"
     ],
     "language": "python",
     "metadata": {},
     "outputs": [
      {
       "output_type": "stream",
       "stream": "stdout",
       "text": [
        "Training exemplar projection\n"
       ]
      },
      {
       "metadata": {},
       "output_type": "display_data",
       "png": "[encoded data removed]",
       "text": [
        "<matplotlib.figure.Figure at 0x3b60f10>"
       ]
      },
      {
       "output_type": "stream",
       "stream": "stdout",
       "text": [
        "Ideal exemplar projection\n"
       ]
      },
      {
       "metadata": {},
       "output_type": "display_data",
       "png": "[encoded data removed]",
       "text": [
        "<matplotlib.figure.Figure at 0x3812e90>"
       ]
      },
      {
       "output_type": "stream",
       "stream": "stdout",
       "text": [
        "[  1.   1.   1.  nan   0.  nan   1.   1.   1.  nan   1.   0.   1.  nan   1.\n",
        "   0.   1.  nan]\n",
        "0.769230769231\n"
       ]
      }
     ],
     "prompt_number": 10
    },
    {
     "cell_type": "code",
     "collapsed": false,
     "input": [
      "# import sklearn"
     ],
     "language": "python",
     "metadata": {},
     "outputs": [],
     "prompt_number": 11
    },
    {
     "cell_type": "code",
     "collapsed": false,
     "input": [
      "# run the model fitting N times\n",
      "N = 20\n",
      "sepList = np.arange(N,dtype=float)\n",
      "for i1 in range(N):\n",
      "    mod = SOM('4750.csv')\n",
      "    mod.train(20)\n",
      "    sepList[i1] = mod.separation()\n",
      "\n",
      "sepList.mean()\n",
      "# mod.show()\n",
      "# mod.showIdeal()\n"
     ],
     "language": "python",
     "metadata": {},
     "outputs": [
      {
       "metadata": {},
       "output_type": "pyout",
       "prompt_number": 12,
       "text": [
        "11.85411619686843"
       ]
      }
     ],
     "prompt_number": 12
    },
    {
     "cell_type": "code",
     "collapsed": false,
     "input": [],
     "language": "python",
     "metadata": {},
     "outputs": [],
     "prompt_number": 12
    },
    {
     "cell_type": "code",
     "collapsed": false,
     "input": [
      "# loop through files and train up SOMs, measure class separation\n",
      "# fileDir = '../../KARS_reinf/Python/FeatSeenBySub/'\n",
      "resultFile = 'catSeparation.txt'\n",
      "fOut = open(resultFile, 'w')\n",
      "fOut.write( 'subID\\tcatSep\\n')\n",
      "\n",
      "\n",
      "files= glob( fileDir+'*.csv')\n",
      "N = 50 # number models to generate per participant\n",
      "iters = 30 # number training iterations\n",
      "\n",
      "for f in files:\n",
      "    participant = f.split('/')[-1].split('.')[0]\n",
      "    sepList = np.arange(N,dtype=float) # init list\n",
      "    for i1 in range(N):            \n",
      "        mod = SOM( f)\n",
      "        mod.train(iters)\n",
      "        sepList[i1] = mod.separation()\n",
      "    # output result\n",
      "    fOut.write( '%s\\t%.4f\\n'%(participant, sepList.mean()) )\n",
      "    print( 'Participant %s, Category separation: %.3f' % (participant, sepList.mean()) )\n",
      "\n",
      "    \n",
      "fOut.close()"
     ],
     "language": "python",
     "metadata": {},
     "outputs": [
      {
       "output_type": "stream",
       "stream": "stdout",
       "text": [
        "Participant 6375_sra, Category separation: 15.429\n",
        "Participant 6378_sra, Category separation: 14.939"
       ]
      },
      {
       "output_type": "stream",
       "stream": "stdout",
       "text": [
        "\n",
        "Participant 6474_sra, Category separation: 15.451"
       ]
      },
      {
       "output_type": "stream",
       "stream": "stdout",
       "text": [
        "\n",
        "Participant 6479_sra, Category separation: 15.624"
       ]
      },
      {
       "output_type": "stream",
       "stream": "stdout",
       "text": [
        "\n",
        "Participant 6519_sra, Category separation: 14.637"
       ]
      },
      {
       "output_type": "stream",
       "stream": "stdout",
       "text": [
        "\n",
        "Participant 6523_sra, Category separation: 16.146"
       ]
      },
      {
       "output_type": "stream",
       "stream": "stdout",
       "text": [
        "\n",
        "Participant 6528_sra, Category separation: 15.798"
       ]
      },
      {
       "output_type": "stream",
       "stream": "stdout",
       "text": [
        "\n",
        "Participant 6530_sra, Category separation: 15.785"
       ]
      },
      {
       "output_type": "stream",
       "stream": "stdout",
       "text": [
        "\n",
        "Participant 6736_sra, Category separation: 16.707"
       ]
      },
      {
       "output_type": "stream",
       "stream": "stdout",
       "text": [
        "\n"
       ]
      }
     ],
     "prompt_number": 13
    },
    {
     "cell_type": "code",
     "collapsed": false,
     "input": [
      "r.random()"
     ],
     "language": "python",
     "metadata": {},
     "outputs": [
      {
       "metadata": {},
       "output_type": "pyout",
       "prompt_number": 14,
       "text": [
        "0.6313259441361979"
       ]
      }
     ],
     "prompt_number": 14
    },
    {
     "cell_type": "code",
     "collapsed": false,
     "input": [
      "#  cat catSeparation.txt\n"
     ],
     "language": "python",
     "metadata": {},
     "outputs": [],
     "prompt_number": 15
    },
    {
     "cell_type": "code",
     "collapsed": false,
     "input": [
      "# x = arange(5)\n",
      "# x[:0]"
     ],
     "language": "python",
     "metadata": {},
     "outputs": [],
     "prompt_number": 16
    },
    {
     "cell_type": "code",
     "collapsed": false,
     "input": [],
     "language": "python",
     "metadata": {},
     "outputs": [],
     "prompt_number": 16
    }
   ],
   "metadata": {}
  }
 ]
}