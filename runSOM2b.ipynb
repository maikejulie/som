{
 "metadata": {
  "name": "",
  "signature": "sha256:e92bf20e9d04b92b3e49072b29a42f529b4c940a8e85462f7ede56cf21d4bf1e"
 },
 "nbformat": 3,
 "nbformat_minor": 0,
 "worksheets": [
  {
   "cells": [
    {
     "cell_type": "code",
     "collapsed": false,
     "input": [
      "from minisom import MiniSom\n",
      "import random as r\n",
      "import copy as cop\n",
      "import os\n",
      "import numpy as np\n",
      "\n",
      "from glob import glob\n",
      "# import matplotlib as plt\n",
      "\n",
      "\n",
      "%pylab inline\n"
     ],
     "language": "python",
     "metadata": {},
     "outputs": [
      {
       "output_type": "stream",
       "stream": "stdout",
       "text": [
        "Populating the interactive namespace from numpy and matplotlib\n"
       ]
      },
      {
       "output_type": "stream",
       "stream": "stderr",
       "text": [
        "WARNING: pylab import has clobbered these variables: ['f', 'mod']\n",
        "`%matplotlib` prevents importing * from pylab and numpy\n"
       ]
      }
     ],
     "prompt_number": 400
    },
    {
     "cell_type": "code",
     "collapsed": false,
     "input": [
      "class SOM:\n",
      "    def pertWeights( self, scale=.2 ):     \n",
      "        print( 'Adding noise to SOM weights')\n",
      "        pertAmount = scale*(np.random.random_sample( self.som.weights.shape)-.5)\n",
      "        self.som.weights = self.som.weights + pertAmount\n",
      "    \n",
      "    def pertData( self, p=.2, verbose=False):\n",
      "        if verbose:\n",
      "            print( 'Making %.2f percent of inputs 0.0' %(p*100))\n",
      "        # randomly get proportion of indices to switch, then replace\n",
      "        p = max( min(p,1), 0 ) # set in range [0,1]\n",
      "        noiseIndex = np.random.binomial(1,p, self.data.shape)  #ones at p proportion of samples\n",
      "        self.data[noiseIndex ==1 ] = 0\n",
      "        #return data\n",
      "    \n",
      "    # plot the thing\n",
      "    def show( self, maxIdx=None):\n",
      "        print( 'Training exemplar projection')\n",
      "        som = self.som\n",
      "        if maxIdx == None:\n",
      "            maxIdx = len(self.data)\n",
      "        data= self.data[0:maxIdx]\n",
      "        target = self.target\n",
      "        bone()\n",
      "        pcolor(som.distance_map().T) # plotting the distance map as background\n",
      "        colorbar()\n",
      "        t = zeros(len(target),dtype=int)\n",
      "        t[target == 'A'] = 0\n",
      "        t[target == 'B'] = 1\n",
      "        # use different colors and markers for each label\n",
      "        markers = ['o','s','D']\n",
      "        colors = ['r','g','b']\n",
      "        for cnt,xx in enumerate(data):\n",
      "            w = som.winner(xx) # getting the winner\n",
      "            # palce a marker on the winning position for the sample xx\n",
      "            plot(w[0]+.5,w[1]+.5,markers[t[cnt]],markerfacecolor='None',\n",
      "                markeredgecolor=colors[t[cnt]],markersize=12,markeredgewidth=2)\n",
      "        axis([0,som.weights.shape[0],0,som.weights.shape[1]])\n",
      "        show() # show the figure\n",
      "        \n",
      "    def showIdeal( self):\n",
      "        print( 'Ideal exemplar projection')\n",
      "        som = self.som\n",
      "        data= self.ideal\n",
      "        target = self.idealTarget\n",
      "        bone()\n",
      "        pcolor(som.distance_map().T) # plotting the distance map as background\n",
      "        colorbar()\n",
      "        t = zeros(len(target),dtype=int)\n",
      "        t[target == 'A'] = 0\n",
      "        t[target == 'B'] = 1\n",
      "        # use different colors and markers for each label\n",
      "        markers = ['o','s','D']\n",
      "        colors = ['r','g','b']\n",
      "        for cnt,xx in enumerate(data):\n",
      "            w = som.winner(xx) # getting the winner\n",
      "            # palce a marker on the winning position for the sample xx\n",
      "            plot(w[0]+.5,w[1]+.5,markers[t[cnt]],markerfacecolor='None',\n",
      "                markeredgecolor=colors[t[cnt]],markersize=12,markeredgewidth=2)\n",
      "        axis([0,som.weights.shape[0],0,som.weights.shape[1]])\n",
      "        show() # show the figure        \n",
      "        \n",
      "    def train(self, iters = 30):\n",
      "        self.som.train_random(self.data,iters)\n",
      "#         print( 'Post training quantization error: %f' % self.som.quantization_error(self.data))\n",
      "\n",
      "    \"\"\"def trainOneGliozzi(self):\n",
      "        # using gliozzi thing\n",
      "        # init learning params\n",
      "        self.som.sigma_gliozzi = linspace(1.2, 0.8, num=len(self.data))\n",
      "        self.som._init_T(len(self.data))   \n",
      "        \n",
      "        #  will use the data idx to slowly reduce sigma, and learning rate in update function\n",
      "        self.som.update_gliozzi(self.data[self.dataIdx],self.som.winner(self.data[self.som.dataIdx]), self.som.dataIdx)\n",
      "\n",
      "        # update training index (for next time)\n",
      "        self.dataIdx += 1\n",
      "        if self.dataIdx >= len(self.data):\n",
      "            self.dataIdx = 0 \n",
      "    \"\"\"\n",
      "    \n",
      "    def trainOne(self ):\n",
      "        \"\"\" Trains the SOM picking samples from data one at a time \"\"\"\n",
      "        #self.running = True        \n",
      "        d = self.dataIdx  # data index to train\n",
      "        self.som._init_T(len(self.data))      \n",
      "        self.som.update( self.data[d], self.som.winner(self.data[d]), d)  # update\n",
      "        #self.running = False\n",
      "        \n",
      "        # update training index (for next time)\n",
      "        self.dataIdx += 1\n",
      "        if self.dataIdx >= len(self.data):\n",
      "            self.dataIdx = 0        \n",
      "\n",
      "    def predOne(self, verbose=False):\n",
      "        # Do the next one prediction\n",
      "        \n",
      "        # get BMU index and weight \n",
      "        x = self.data[self.dataIdx]        \n",
      "        bmuW = self.som.weights[self.som.winner(x)]\n",
      "        protDist = []\n",
      "        protLab = []\n",
      "        \n",
      "        # find distance to all prototypes                    \n",
      "        for prot,label in self.getProt():                       \n",
      "            #protMapped = self.som.weights[self.som.winner(prot) ]\n",
      "            protDist.append( norm( bmuW- prot )) # self.ideal[ idx ])) \n",
      "            protLab.append( label )             #  self.idealTarget[idx] )     \n",
      "                \n",
      "        # SOM decision  ( random if not close to any prototoype or first trial)\n",
      "        if len( protDist ) >0:                       \n",
      "            somLab = protLab[ argmin( protDist ) ]  # nearest category             \n",
      "            # make random if not like either prototype\n",
      "            if min(protDist) > self.predThresh:\n",
      "                somLab = ( 'A' if r.random() > .5 else 'B' )                \n",
      "        else: # random on first trial\n",
      "            somLab = ( 'A' if r.random() > .5 else 'B' )\n",
      "                \n",
      "        # update SOM accuracy\n",
      "        trueLab = self.target[self.dataIdx]\n",
      "        self.somAcc[self.dataIdx] = (1 if somLab==trueLab else 0 )\n",
      "        \n",
      "        # get child label\n",
      "        #  somAcc = (1 if predLab == trueLab else 0 )\n",
      "        if self.acc[self.dataIdx ] == 1: # if accurate\n",
      "            childLab = trueLab\n",
      "        elif np.isnan(self.acc[self.dataIdx ]): # if NaN\n",
      "            childLab = 'N'\n",
      "        else: # if wrong\n",
      "            childLab = 'AB'.strip(trueLab) \n",
      "    \n",
      "        if verbose:\n",
      "            print( 'Qnt error current Sample: %.4f' % norm(x- bmuW) )            \n",
      "            print( 'SOM/Child/True Label: %s/%s/%s.' % (  somLab, childLab, trueLab)  )\n",
      "            print( 'Project prototype distances: ' )\n",
      "            print protDist, protLab\n",
      "        return ( somLab, childLab ) \n",
      "\n",
      "    def predAll(self, reset = True, skip =0, verbose= True, reps=1 ):\n",
      "        \n",
      "        fullSomList = np.array([])\n",
      "        fullChildList = np.array([])\n",
      "        \n",
      "        for numRepetitions in range(reps): # repeat for random initialization of som            \n",
      "            # initialize som weights, and data index if reset=True\n",
      "            if reset:\n",
      "                self.initWeights()                \n",
      "                self.dataIdx = 0 # to index what data sample for one shot learning\n",
      "            \n",
      "            # init for storing results\n",
      "            somList = np.chararray(len(self.data)) #*np.nan\n",
      "            childList = np.chararray(len(self.data)) #*np.nan\n",
      "            # go through each trial and predict\n",
      "            for idx in range(len(self.data)):          \n",
      "                #predict\n",
      "                somLab, childLab = self.predOne()\n",
      "                somList[idx] = somLab\n",
      "                childList[idx] = childLab\n",
      "                # train\n",
      "                self.trainOne()  #  don't use mod.trainOneGliozzi()\n",
      "\n",
      "            # deal with missing values and skip first if requested\n",
      "            somList = somList[skip:]  # kick out first skip samples\n",
      "            childList = childList[skip:] # kick out first skip samples        \n",
      "            somList = somList[ childList != 'N'] # N for nan\n",
      "            childList = childList[ childList != 'N']\n",
      "            \n",
      "            # store in the big list\n",
      "            fullSomList = np.concatenate( (fullSomList, somList), axis=1)\n",
      "            fullChildList = np.concatenate( (fullChildList, childList), axis=1)\n",
      "        \n",
      "        # get how well model does\n",
      "        if len(fullChildList) >0:\n",
      "            scAgreement = float(np.sum( fullSomList==fullChildList))/len(fullSomList)\n",
      "        else:\n",
      "            scAgreement = np.nan\n",
      "            \n",
      "        if verbose:\n",
      "            print 'SOM pred: ', fullSomList\n",
      "            print 'Inf pred: ', fullChildList            \n",
      "            print('SOM and infant agree %.2f of time' % scAgreement )\n",
      "        return fullSomList == fullChildList\n",
      "\n",
      "    \n",
      "    \n",
      "    def separation( self):\n",
      "        \"\"\"return the norm of the difference vector between the mean of projected idealized class\n",
      "            A exemplars, and class B exemplars.  Essentially, the separation between those classes \n",
      "            May need to include a variance normalization in future. \"\"\"\n",
      "        A =  self.ideal[ self.idealTarget=='A']\n",
      "        B =  self.ideal[ self.idealTarget=='B']\n",
      "        projA = numpy.empty(A.shape) * numpy.nan\n",
      "        projB = numpy.empty(B.shape) * numpy.nan\n",
      "        # go through all catA\n",
      "        for idx,x in enumerate(A):\n",
      "            projA[idx] = mod.som.weights[mod.som.winner(x)]\n",
      "        for idx,x in enumerate(B):\n",
      "            projB[idx] = mod.som.weights[mod.som.winner(x)]\n",
      "        diff = linalg.norm(projA.mean(axis=0)-projB.mean(axis=0) ) \n",
      "        \n",
      "        # pooled variance estimate (not standard, since using average variance across dimensions for a class)\n",
      "        pVar = pVar = (projA.var(axis=0).mean() + projB.var(axis=0).mean() )/2  \n",
      "        \n",
      "        return diff/np.sqrt( pVar)\n",
      "    \n",
      "    def getProt( self, idealProt = False ):\n",
      "        prot = []\n",
      "        label = []    \n",
      "        \n",
      "        # use true prototypes from ideal data\n",
      "        if idealProt:\n",
      "            for idx in self.protIdx:\n",
      "                prot.append(self.ideal[idx,:])\n",
      "                label.append(self.idealTarget[idx])        \n",
      "        # estimate prototypes based in training data\n",
      "        else:\n",
      "            # get data/labels just until the current iteration (data is projected onto SOM)\n",
      "            targTemp = self.target[:self.dataIdx]\n",
      "            dataTemp = self.som.quantization( self.data[:self.dataIdx,:] ) # projected samples\n",
      "            \n",
      "            # loop through all labels, calc prototypes by average\n",
      "            for t in np.unique(targTemp):    \n",
      "                prot.append(np.mean( dataTemp[ targTemp==t, :], axis=0 ))  # mean of category\n",
      "                label.append(t) # corresponding label                \n",
      "        return zip(prot,label )   \n",
      "        \n",
      "    def initWeights(self, scale=1 ):\n",
      "        \"\"\" Initializes the weights of the SOM randomly around 0 \"\"\"        \n",
      "        self.som.weights =scale*(np.random.random_sample( self.som.weights.shape)-.5)\n",
      "\n",
      "\n",
      "    def showLearnCuves(self, window=6):\n",
      "        curveSOM = slideAcc( self.somAcc, window )\n",
      "        curveSubj = slideAcc( self.acc, window )\n",
      "        plot( np.arange(len(curveSOM)) ,curveSOM, 'k.-', linewidth=3, label='SOM')\n",
      "        plot( np.arange(len(curveSubj)), curveSubj, 'g--', linewidth=3, label='prt')\n",
      "        plot( np.arange(0,50), np.ones(50)*.5,'r-', linewidth=2, label='chance')\n",
      "        xlabel('trial')\n",
      "        legend()\n",
      "        self.curveSOM = curveSOM\n",
      "        self.curveSubj = curveSubj\n",
      "        \n",
      "    \n",
      "    def meanLrnCurves( self, iters = 10, removeProp = 0  ):\n",
      "        # backup ori data, init acc vector\n",
      "        dataOri = cop.copy(self.data)\n",
      "        accSum = np.zeros(len(self.acc))\n",
      "        \n",
      "        for i1 in range(iters):\n",
      "            # train/predict SOM several times            \n",
      "            self.data = cop.copy(dataOri)\n",
      "            self.pertData(removeProp)  #not perfect data to train                      \n",
      "            agreement = self.predAll( verbose=False, skip=0, reps=1)     \n",
      "            accSum =accSum + self.somAcc\n",
      "        self.somAcc = accSum/iters\n",
      "        # average accuracy\n",
      "\n",
      "\n",
      "    \n",
      "    #-------------------------------------------------\n",
      "    \n",
      "    def __init__(self, file_name='4750.csv', columns = [0,1,2,3,4,5,6,7], width = 6, height = 5, sigma=1.2,  learning_rate=0.5, predThresh=np.inf ):\n",
      "        \n",
      "        #       self.visual_only = [0,1,2,3,4,5,6,7]\n",
      "        #       self.visual_and_acoustic = [0,1,2,3,4,5,6,7,8]\n",
      "\n",
      "        # load data and normalization\n",
      "        self.data = np.genfromtxt( file_name, delimiter=',',usecols=columns, skip_header=1)        \n",
      "        self.data *= 2.0 \n",
      "        self.data += -1.0  # -0.5 \n",
      "        # get target labels\n",
      "        self.target = genfromtxt(file_name,delimiter=',',usecols=(9),dtype=str, skip_header=1) # loading the labels\n",
      "        #get infant accuracy\n",
      "        self.acc = genfromtxt(file_name,delimiter=',',usecols=(10),dtype=float, skip_header=1) \n",
      "        self.somAcc = self.acc*np.nan\n",
      "        \n",
      "        # init som\n",
      "        self.som = MiniSom(width, height, self.data.shape[1], sigma=sigma,learning_rate=learning_rate)\n",
      "        #self.som.random_weights_init(self.data)\n",
      "        self.initWeights()  \n",
      "        self.dataIdx = 0 # to index what data sample for one shot learning\n",
      "        \n",
      "        # get idealized data\n",
      "        self.ideal = np.genfromtxt( 'stimuli.csv', delimiter=',',usecols=columns, skip_header=1) \n",
      "        self.ideal *= 2.0 \n",
      "        self.ideal += -1.0  # -0.5 \n",
      "        self.idealTarget = genfromtxt('stimuli.csv',delimiter=',',usecols=(9),dtype=str, skip_header=1) # loading the labels\n",
      "               \n",
      "        # index of ideal samples that are category prototypes\n",
      "        self.protIdx = np.array([6,7])\n",
      "        self.predThresh = predThresh  # when classifying, if distance larger than this then random decision\n",
      "\n",
      "\n",
      "#------------------------------------------------------------------\n",
      "\n",
      "# def getIdeal( file_name='stimuli.csv', columns = [0,1,2,3,4,5,6,7]): \n",
      "#     # return the ideal data for checking quantization error\n",
      "#     data = np.genfromtxt( file_name, delimiter=',',usecols=columns, skip_header=1)     \n",
      "#     return ( data[:7,:], data[7:,:] )\n",
      "\n",
      "\n",
      "def slideAcc( acc, window=6 ):\n",
      "    # return a sliding window average of accuracy \n",
      "    N = len(acc)\n",
      "    wAcc = np.zeros((N))*np.nan\n",
      "    for i1 in range(window,N+1):      \n",
      "        a = acc[i1-window:i1]\n",
      "        #print i1, a\n",
      "        wAcc[i1-1] = nanmean(a) # get mean over window    \n",
      "    return wAcc\n"
     ],
     "language": "python",
     "metadata": {},
     "outputs": [],
     "prompt_number": 401
    },
    {
     "cell_type": "code",
     "collapsed": false,
     "input": [],
     "language": "python",
     "metadata": {},
     "outputs": [],
     "prompt_number": 401
    },
    {
     "cell_type": "code",
     "collapsed": false,
     "input": [
      "# init som\n",
      "f = '4750.csv'\n",
      "\n",
      "\n",
      "fileDir = '../../KARS_reinf/Python/FeatIdealAdultBL/'\n",
      "# fileDir = '../../KARS_reinf/Python/FeatSeenBySubAdultBL/'\n",
      "\n",
      "# fileDir = '../../KARS_reinf/Python/FeatSeenBySubBaseline/'\n",
      "# fileDir = '../../KARS_reinf/Python/FeatSeenBySubLabel/'\n",
      "# fileDir = '../../KARS_reinf/Python/FeatSeenBySubSup/'\n",
      "files = glob( fileDir + '*.csv') #fileDir+'4760.csv'\n",
      "\n",
      "\n",
      "mod = SOM( files[1], learning_rate=0) #, predThresh=.9) \n",
      "mod.pertData(.7)\n",
      "mod.show()\n",
      "mod.showIdeal()\n",
      "\n",
      "\n",
      "\n"
     ],
     "language": "python",
     "metadata": {},
     "outputs": [
      {
       "output_type": "stream",
       "stream": "stdout",
       "text": [
        "Training exemplar projection\n"
       ]
      },
      {
       "metadata": {},
       "output_type": "display_data",
       "png": "[encoded data removed]",
       "text": [
        "<matplotlib.figure.Figure at 0x1baa210>"
       ]
      },
      {
       "output_type": "stream",
       "stream": "stdout",
       "text": [
        "Ideal exemplar projection\n"
       ]
      },
      {
       "metadata": {},
       "output_type": "display_data",
       "png": "[encoded data removed]",
       "text": [
        "<matplotlib.figure.Figure at 0x3535f90>"
       ]
      }
     ],
     "prompt_number": 402
    },
    {
     "cell_type": "code",
     "collapsed": false,
     "input": [
      "# mod.data\n",
      "# mod.somAcc\n",
      "# mod.acc"
     ],
     "language": "python",
     "metadata": {},
     "outputs": [],
     "prompt_number": 403
    },
    {
     "cell_type": "code",
     "collapsed": false,
     "input": [
      "\n",
      "# train incrementally example\n",
      "\n",
      "somLab, childLab = mod.predOne( verbose=True)\n",
      "mod.trainOne()  #  don't use mod.trainOneGliozzi()\n",
      "print( 'Iter %d'% mod.dataIdx )\n",
      "\n",
      "mod.show(mod.dataIdx)\n",
      "mod.showIdeal()  # ideal exemplars on trained map\n",
      "\n",
      "\n"
     ],
     "language": "python",
     "metadata": {},
     "outputs": [
      {
       "output_type": "stream",
       "stream": "stdout",
       "text": [
        "Qnt error current Sample: 1.5595\n",
        "SOM/Child/True Label: A/A/A.\n",
        "Project prototype distances: \n",
        "[] []\n",
        "Iter 1\n",
        "Training exemplar projection\n"
       ]
      },
      {
       "metadata": {},
       "output_type": "display_data",
       "png": "[encoded data removed]",
       "text": [
        "<matplotlib.figure.Figure at 0x3535210>"
       ]
      },
      {
       "output_type": "stream",
       "stream": "stdout",
       "text": [
        "Ideal exemplar projection\n"
       ]
      },
      {
       "metadata": {},
       "output_type": "display_data",
       "png": "[encoded data removed]",
       "text": [
        "<matplotlib.figure.Figure at 0x3ec96d0>"
       ]
      }
     ],
     "prompt_number": 404
    },
    {
     "cell_type": "code",
     "collapsed": false,
     "input": [
      "#####  Calculate learning curve (several initializations)\n",
      "\n",
      "\n",
      "f = files[1]\n",
      "removeProp = .5\n",
      "lrnRt = .2\n",
      "iters = 30\n",
      "\n",
      "\n",
      "\n",
      "mod = SOM( f, learning_rate= lrnRt, predThresh=.7)\n",
      "\n",
      "\n",
      "# show untrained map\n",
      "mod.show()\n",
      "\n",
      "figure()\n",
      "mod.meanLrnCurves( iters = iters, removeProp = removeProp  )\n",
      "\n",
      "# show curves\n",
      "mod.showLearnCuves(window=6)\n",
      "\n",
      "#show trained map\n",
      "figure()\n",
      "mod.show()\n"
     ],
     "language": "python",
     "metadata": {},
     "outputs": [
      {
       "output_type": "stream",
       "stream": "stdout",
       "text": [
        "Training exemplar projection\n"
       ]
      },
      {
       "metadata": {},
       "output_type": "display_data",
       "png": "[encoded data removed]",
       "text": [
        "<matplotlib.figure.Figure at 0x3c11d90>"
       ]
      },
      {
       "output_type": "stream",
       "stream": "stdout",
       "text": [
        "Training exemplar projection\n"
       ]
      },
      {
       "metadata": {},
       "output_type": "display_data",
       "png": "[encoded data removed]",
       "text": [
        "<matplotlib.figure.Figure at 0x33b3dd0>"
       ]
      },
      {
       "metadata": {},
       "output_type": "display_data",
       "png": "[encoded data removed]",
       "text": [
        "<matplotlib.figure.Figure at 0x3a1c210>"
       ]
      }
     ],
     "prompt_number": 460
    },
    {
     "cell_type": "code",
     "collapsed": false,
     "input": [
      "##  fit learning curve to participants\n",
      "\n",
      "import scipy.optimize as opt\n",
      "\n",
      "\n",
      "f = files[2]\n",
      "iters = 30\n",
      "\n",
      "def subModError( x0):\n",
      "    lrnRt = 3*x0[0]\n",
      "    removeProp = 3*x0[1]\n",
      "    \n",
      "    \n",
      "    mod = SOM( f, learning_rate= lrnRt )\n",
      "    mod.meanLrnCurves( iters = iters, removeProp = removeProp  )\n",
      "    \n",
      "    # return norm or error divided my length\n",
      "    error = norm(mod.somAcc[ ~np.isnan(mod.acc)]  - mod.acc[~np.isnan(  mod.acc)])/np.sum( np.sum( ~np.isnan(mod.acc))) \n",
      "    print('learn rate: %.4f, removed prop: %.4f, error: %.4f' %( lrnRt, removeProp, error) )\n",
      "    return error\n",
      "    \n",
      "# subModError( array([.2,.5]))\n",
      "\n",
      "\n",
      "# res = opt.minimize(subModError, [.1,.1], method= 'powell',  #'nelder-mead',\n",
      "#                         options={'xtol': 1e-3, 'disp': True} )"
     ],
     "language": "python",
     "metadata": {},
     "outputs": [],
     "prompt_number": 406
    },
    {
     "cell_type": "code",
     "collapsed": false,
     "input": [
      "# 3*res.x"
     ],
     "language": "python",
     "metadata": {},
     "outputs": [],
     "prompt_number": 407
    },
    {
     "cell_type": "code",
     "collapsed": false,
     "input": [
      "# how well do SOMs and participants agree in decisions?\n",
      "#      train incrementally and combine all participant scores\n",
      "\n",
      "# def allFilesPred(  ):\n",
      "# fileDir = '../../KARS_reinf/Python/FeatSeenBySubAdultBL/'\n",
      "# fileDir = '../../KARS_reinf/Python/FeatSeenBySubBaseline/'\n",
      "# fileDir = '../../KARS_reinf/Python/FeatSeenBySubLabel/'\n",
      "# fileDir = '../../KARS_reinf/Python/FeatSeenBySubSup/'\n",
      "\n",
      "\n",
      "files = glob( fileDir + '*.csv') #fileDir+'4760.csv'\n",
      "agVec = np.array([])\n",
      "for idx,f in enumerate(files):  \n",
      "    mod = SOM( f, learning_rate=0.2 ) #'4750.csv'\n",
      "    agree =  mod.predAll( verbose=False, skip=0, reps=1) \n",
      "    \n",
      "    # compile how many times SOM and infant agree\n",
      "    agVec = np.append( agVec, agree)             \n",
      "\n",
      "print fileDir\n",
      "print( 'SOM and participants agee M+SD: %.2f +- %.2f '% (nanmean( agVec), nanstd(agVec))  )\n",
      "\n"
     ],
     "language": "python",
     "metadata": {},
     "outputs": [
      {
       "output_type": "stream",
       "stream": "stdout",
       "text": [
        "../../KARS_reinf/Python/FeatIdealAdultBL/\n",
        "SOM and participants agee M+SD: 0.74 +- 0.44 \n"
       ]
      }
     ],
     "prompt_number": 408
    },
    {
     "cell_type": "code",
     "collapsed": false,
     "input": [
      "# Optimize learning rate to maximize SOM/infant prediction correlation\n",
      "\n",
      "def allFilesPred( x0 ): # learning rate\n",
      "    fileDir = '../../KARS_reinf/Python/FeatSeenBySubBaseline/'\n",
      "    files = glob( fileDir + '*.csv') #fileDir+'4760.csv'\n",
      "    agVec = np.array([])\n",
      "    for idx,f in enumerate(files):\n",
      "        #print f\n",
      "        mod = SOM( f, learning_rate=x0 ) # 0.3\n",
      "        agree =  mod.predAll( verbose=False, skip=8, reps=3) \n",
      "        # compile how many times SOM and infant agree\n",
      "        agVec = np.append( agVec, agree)             \n",
      "        \n",
      "    print(fileDir)\n",
      "    print( 'Learning rate: %.2f' % x0)        \n",
      "    print( 'SOM and participants agee M+SD: %.3f +- %.3f '% (nanmean( agVec), nanstd(agVec))  )\n",
      "#     return nanmean( agVec)\n",
      "\n",
      "\n",
      "# for lrnRt in np.arange(.1,2,.2):\n",
      "# allFilesPred( lrnRt) \n",
      "    \n",
      "# x = fmin( "
     ],
     "language": "python",
     "metadata": {},
     "outputs": [],
     "prompt_number": 409
    },
    {
     "cell_type": "code",
     "collapsed": false,
     "input": [
      "# f"
     ],
     "language": "python",
     "metadata": {},
     "outputs": [],
     "prompt_number": 410
    },
    {
     "cell_type": "code",
     "collapsed": false,
     "input": [
      "# how to use\n",
      "# fileDir = '../../KARS_reinf/Python/FeatSeenBySub/'\n",
      "\n",
      "mod = SOM( '4750.csv', learning_rate=0.3 ) #fileDir+'4760.csv')\n",
      "mod.train(20)\n",
      "# mod.trainOneGliozzi()\n",
      "mod.show()\n",
      "\n",
      "# print( 'SOM with infant exemplars')\n",
      "mod.showIdeal()\n",
      "mod.separation()\n",
      "\n",
      "print mod.acc\n",
      "print nanmean( mod.acc)\n"
     ],
     "language": "python",
     "metadata": {},
     "outputs": [
      {
       "output_type": "stream",
       "stream": "stdout",
       "text": [
        "Training exemplar projection\n"
       ]
      },
      {
       "metadata": {},
       "output_type": "display_data",
       "png": "[encoded data removed]",
       "text": [
        "<matplotlib.figure.Figure at 0x3a9eb90>"
       ]
      },
      {
       "output_type": "stream",
       "stream": "stdout",
       "text": [
        "Ideal exemplar projection\n"
       ]
      },
      {
       "metadata": {},
       "output_type": "display_data",
       "png": "[encoded data removed]",
       "text": [
        "<matplotlib.figure.Figure at 0x451cdd0>"
       ]
      },
      {
       "output_type": "stream",
       "stream": "stdout",
       "text": [
        "[  1.   1.   1.  nan   0.  nan   1.   1.   1.  nan   1.   0.   1.  nan   1.\n",
        "   0.   1.  nan]\n",
        "0.769230769231\n"
       ]
      }
     ],
     "prompt_number": 411
    },
    {
     "cell_type": "code",
     "collapsed": false,
     "input": [
      "# import sklearn"
     ],
     "language": "python",
     "metadata": {},
     "outputs": [],
     "prompt_number": 412
    },
    {
     "cell_type": "code",
     "collapsed": false,
     "input": [
      "# run the model fitting N times\n",
      "N = 20\n",
      "sepList = np.arange(N,dtype=float)\n",
      "for i1 in range(N):\n",
      "    mod = SOM('4750.csv')\n",
      "    mod.train(20)\n",
      "    sepList[i1] = mod.separation()\n",
      "\n",
      "sepList.mean()\n",
      "# mod.show()\n",
      "# mod.showIdeal()\n"
     ],
     "language": "python",
     "metadata": {},
     "outputs": [
      {
       "metadata": {},
       "output_type": "pyout",
       "prompt_number": 413,
       "text": [
        "12.207975050771923"
       ]
      }
     ],
     "prompt_number": 413
    },
    {
     "cell_type": "code",
     "collapsed": false,
     "input": [],
     "language": "python",
     "metadata": {},
     "outputs": [],
     "prompt_number": 413
    },
    {
     "cell_type": "code",
     "collapsed": false,
     "input": [
      "# loop through files and train up SOMs, measure class separation\n",
      "# fileDir = '../../KARS_reinf/Python/FeatSeenBySub/'\n",
      "resultFile = 'catSeparation.txt'\n",
      "fOut = open(resultFile, 'w')\n",
      "fOut.write( 'subID\\tcatSep\\n')\n",
      "\n",
      "\n",
      "files= glob( fileDir+'*.csv')\n",
      "N = 50 # number models to generate per participant\n",
      "iters = 30 # number training iterations\n",
      "\n",
      "for f in files:\n",
      "    participant = f.split('/')[-1].split('.')[0]\n",
      "    sepList = np.arange(N,dtype=float) # init list\n",
      "    for i1 in range(N):            \n",
      "        mod = SOM( f)\n",
      "        mod.train(iters)\n",
      "        sepList[i1] = mod.separation()\n",
      "    # output result\n",
      "    fOut.write( '%s\\t%.4f\\n'%(participant, sepList.mean()) )\n",
      "    print( 'Participant %s, Category separation: %.3f' % (participant, sepList.mean()) )\n",
      "\n",
      "    \n",
      "fOut.close()"
     ],
     "language": "python",
     "metadata": {},
     "outputs": [
      {
       "output_type": "stream",
       "stream": "stdout",
       "text": [
        "Participant 6375_sra, Category separation: 15.519\n",
        "Participant 6378_sra, Category separation: 15.538"
       ]
      },
      {
       "output_type": "stream",
       "stream": "stdout",
       "text": [
        "\n",
        "Participant 6474_sra, Category separation: 15.630"
       ]
      },
      {
       "output_type": "stream",
       "stream": "stdout",
       "text": [
        "\n",
        "Participant 6479_sra, Category separation: 15.851"
       ]
      },
      {
       "output_type": "stream",
       "stream": "stdout",
       "text": [
        "\n",
        "Participant 6519_sra, Category separation: 15.664"
       ]
      },
      {
       "output_type": "stream",
       "stream": "stdout",
       "text": [
        "\n",
        "Participant 6523_sra, Category separation: 15.801"
       ]
      },
      {
       "output_type": "stream",
       "stream": "stdout",
       "text": [
        "\n",
        "Participant 6528_sra, Category separation: 15.821"
       ]
      },
      {
       "output_type": "stream",
       "stream": "stdout",
       "text": [
        "\n",
        "Participant 6530_sra, Category separation: 15.841"
       ]
      },
      {
       "output_type": "stream",
       "stream": "stdout",
       "text": [
        "\n",
        "Participant 6736_sra, Category separation: 16.418"
       ]
      },
      {
       "output_type": "stream",
       "stream": "stdout",
       "text": [
        "\n"
       ]
      }
     ],
     "prompt_number": 414
    },
    {
     "cell_type": "code",
     "collapsed": false,
     "input": [
      "r.random()"
     ],
     "language": "python",
     "metadata": {},
     "outputs": [
      {
       "metadata": {},
       "output_type": "pyout",
       "prompt_number": 415,
       "text": [
        "0.01798497020287171"
       ]
      }
     ],
     "prompt_number": 415
    },
    {
     "cell_type": "code",
     "collapsed": false,
     "input": [
      "#  cat catSeparation.txt\n"
     ],
     "language": "python",
     "metadata": {},
     "outputs": [],
     "prompt_number": 416
    },
    {
     "cell_type": "code",
     "collapsed": false,
     "input": [
      "# x = arange(5)\n",
      "# x[:0]"
     ],
     "language": "python",
     "metadata": {},
     "outputs": [],
     "prompt_number": 417
    },
    {
     "cell_type": "code",
     "collapsed": false,
     "input": [
      "20 <np.inf"
     ],
     "language": "python",
     "metadata": {},
     "outputs": [
      {
       "metadata": {},
       "output_type": "pyout",
       "prompt_number": 418,
       "text": [
        "True"
       ]
      }
     ],
     "prompt_number": 418
    },
    {
     "cell_type": "code",
     "collapsed": false,
     "input": [],
     "language": "python",
     "metadata": {},
     "outputs": [],
     "prompt_number": 418
    }
   ],
   "metadata": {}
  }
 ]
}